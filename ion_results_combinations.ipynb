{
 "cells": [
  {
   "cell_type": "code",
   "execution_count": 1,
   "metadata": {},
   "outputs": [],
   "source": [
    "import pandas as pd\n",
    "import numpy as np\n",
    "from pyopenms import OnDiscMSExperiment\n",
    "import matplotlib.pyplot as plt"
   ]
  },
  {
   "cell_type": "code",
   "execution_count": 2,
   "metadata": {},
   "outputs": [],
   "source": [
    "def get_mods(df):\n",
    "    #return df[np.logical_and(df[\"mod_name\"]!=\"unmodified\", df[\"type\"]!=\"NL\")]\n",
    "    return df[df[\"mod_name\"]!=\"unmodified\"]"
   ]
  },
  {
   "cell_type": "markdown",
   "metadata": {},
   "source": [
    "## DFs Higher collision energy only"
   ]
  },
  {
   "cell_type": "code",
   "execution_count": 3,
   "metadata": {},
   "outputs": [],
   "source": [
    "dfs_mod_snrs = [\n",
    "    pd.read_csv(\"../data/result_csvs/230228_Immonium_50NCE_mod.mzML_diagnostic_ions_snr_threshold_0.csv\"),\n",
    "    pd.read_csv(\"../data/result_csvs/230228_Immonium_50NCE_mod.mzML_diagnostic_ions_snr_threshold_1.csv\"),\n",
    "    pd.read_csv(\"../data/result_csvs/230228_Immonium_50NCE_mod.mzML_diagnostic_ions_snr_threshold_2.csv\"),\n",
    "    pd.read_csv(\"../data/result_csvs/230228_Immonium_50NCE_mod.mzML_diagnostic_ions_snr_threshold_3.csv\"),\n",
    "    pd.read_csv(\"../data/result_csvs/230228_Immonium_50NCE_mod.mzML_diagnostic_ions_snr_threshold_5.csv\"),\n",
    "    pd.read_csv(\"../data/result_csvs/230228_Immonium_50NCE_mod.mzML_diagnostic_ions_snr_threshold_10.csv\"),\n",
    "    pd.read_csv(\"../data/result_csvs/230228_Immonium_50NCE_mod.mzML_diagnostic_ions_snr_threshold_20.csv\"),\n",
    "    pd.read_csv(\"../data/result_csvs/230228_Immonium_50NCE_mod.mzML_diagnostic_ions_snr_threshold_50.csv\"),\n",
    "    pd.read_csv(\"../data/result_csvs/230228_Immonium_50NCE_mod.mzML_diagnostic_ions_snr_threshold_100.csv\"),\n",
    "]"
   ]
  },
  {
   "cell_type": "code",
   "execution_count": 4,
   "metadata": {},
   "outputs": [],
   "source": [
    "dfs_mod_ppm = [\n",
    "    pd.read_csv(\"../data/result_csvs/230228_Immonium_50NCE_mod.mzML_diagnostic_ions_snr_threshold_0.csv\"),\n",
    "    pd.read_csv(\"../data/result_csvs/230228_Immonium_50NCE_mod.mzML_diagnostic_ions_ppm_tolerance_6_snr_threshold_0.csv\"),\n",
    "    pd.read_csv(\"../data/result_csvs/230228_Immonium_50NCE_mod.mzML_diagnostic_ions_ppm_tolerance_7_snr_threshold_0.csv\"),\n",
    "    pd.read_csv(\"../data/result_csvs/230228_Immonium_50NCE_mod.mzML_diagnostic_ions_ppm_tolerance_8_snr_threshold_0.csv\"),\n",
    "    pd.read_csv(\"../data/result_csvs/230228_Immonium_50NCE_mod.mzML_diagnostic_ions_ppm_tolerance_9_snr_threshold_0.csv\"),\n",
    "    pd.read_csv(\"../data/result_csvs/230228_Immonium_50NCE_mod.mzML_diagnostic_ions_ppm_tolerance_10_snr_threshold_0.csv\"),\n",
    "]"
   ]
  },
  {
   "cell_type": "code",
   "execution_count": 5,
   "metadata": {},
   "outputs": [],
   "source": [
    "dfs_unmod_snrs = [\n",
    "    pd.read_csv(\"../data/result_csvs/230228_Immonium_50NCE_unmod.mzML_diagnostic_ions_snr_threshold_0.csv\"),\n",
    "    pd.read_csv(\"../data/result_csvs/230228_Immonium_50NCE_unmod.mzML_diagnostic_ions_snr_threshold_1.csv\"),\n",
    "    pd.read_csv(\"../data/result_csvs/230228_Immonium_50NCE_unmod.mzML_diagnostic_ions_snr_threshold_2.csv\"),\n",
    "    pd.read_csv(\"../data/result_csvs/230228_Immonium_50NCE_unmod.mzML_diagnostic_ions_snr_threshold_3.csv\"),\n",
    "    pd.read_csv(\"../data/result_csvs/230228_Immonium_50NCE_unmod.mzML_diagnostic_ions_snr_threshold_5.csv\"),\n",
    "    pd.read_csv(\"../data/result_csvs/230228_Immonium_50NCE_unmod.mzML_diagnostic_ions_snr_threshold_10.csv\"),\n",
    "    pd.read_csv(\"../data/result_csvs/230228_Immonium_50NCE_unmod.mzML_diagnostic_ions_snr_threshold_20.csv\"),\n",
    "    pd.read_csv(\"../data/result_csvs/230228_Immonium_50NCE_unmod.mzML_diagnostic_ions_snr_threshold_50.csv\"),\n",
    "    pd.read_csv(\"../data/result_csvs/230228_Immonium_50NCE_unmod.mzML_diagnostic_ions_snr_threshold_100.csv\"),\n",
    "]"
   ]
  },
  {
   "cell_type": "code",
   "execution_count": 6,
   "metadata": {},
   "outputs": [],
   "source": [
    "dfs_unmod_ppm = [\n",
    "    pd.read_csv(\"../data/result_csvs/230228_Immonium_50NCE_unmod.mzML_diagnostic_ions_snr_threshold_0.csv\"),\n",
    "    pd.read_csv(\"../data/result_csvs/230228_Immonium_50NCE_unmod.mzML_diagnostic_ions_ppm_tolerance_6_snr_threshold_0.csv\"),\n",
    "    pd.read_csv(\"../data/result_csvs/230228_Immonium_50NCE_unmod.mzML_diagnostic_ions_ppm_tolerance_7_snr_threshold_0.csv\"),\n",
    "    pd.read_csv(\"../data/result_csvs/230228_Immonium_50NCE_unmod.mzML_diagnostic_ions_ppm_tolerance_8_snr_threshold_0.csv\"),\n",
    "    pd.read_csv(\"../data/result_csvs/230228_Immonium_50NCE_unmod.mzML_diagnostic_ions_ppm_tolerance_9_snr_threshold_0.csv\"),\n",
    "    pd.read_csv(\"../data/result_csvs/230228_Immonium_50NCE_unmod.mzML_diagnostic_ions_ppm_tolerance_10_snr_threshold_0.csv\"),\n",
    "]"
   ]
  },
  {
   "cell_type": "markdown",
   "metadata": {},
   "source": [
    "## DFs \"DIA\" files (mixed energy)"
   ]
  },
  {
   "cell_type": "code",
   "execution_count": 7,
   "metadata": {},
   "outputs": [],
   "source": [
    "dfs_dia_mod_snr = [\n",
    "    pd.read_csv(\"../data/result_csvs/230928_JL_Immonium_ions_Modified_DIA.mzML_diagnostic_ions_ppm_tolerance_5_snr_threshold_1.csv\"),\n",
    "    pd.read_csv(\"../data/result_csvs/230928_JL_Immonium_ions_Modified_DIA.mzML_diagnostic_ions_ppm_tolerance_5_snr_threshold_2.csv\"),\n",
    "    pd.read_csv(\"../data/result_csvs/230928_JL_Immonium_ions_Modified_DIA.mzML_diagnostic_ions_ppm_tolerance_5_snr_threshold_3.csv\"),\n",
    "    pd.read_csv(\"../data/result_csvs/230928_JL_Immonium_ions_Modified_DIA.mzML_diagnostic_ions_ppm_tolerance_5_snr_threshold_5.csv\"),\n",
    "    pd.read_csv(\"../data/result_csvs/230928_JL_Immonium_ions_Modified_DIA.mzML_diagnostic_ions_ppm_tolerance_5_snr_threshold_10.csv\"),\n",
    "    pd.read_csv(\"../data/result_csvs/230928_JL_Immonium_ions_Modified_DIA.mzML_diagnostic_ions_ppm_tolerance_5_snr_threshold_20.csv\"),\n",
    "    pd.read_csv(\"../data/result_csvs/230928_JL_Immonium_ions_Modified_DIA.mzML_diagnostic_ions_ppm_tolerance_5_snr_threshold_50.csv\"),\n",
    "    pd.read_csv(\"../data/result_csvs/230928_JL_Immonium_ions_Modified_DIA.mzML_diagnostic_ions_ppm_tolerance_5_snr_threshold_100.csv\"),\n",
    "]"
   ]
  },
  {
   "cell_type": "code",
   "execution_count": null,
   "metadata": {},
   "outputs": [],
   "source": [
    "dfs_dia_mod_10ppm_snr = [\n",
    "    pd.read_csv(\"../data/result_csvs/230928_JL_Immonium_ions_Modified_DIA.mzML_diagnostic_ions_ppm_tolerance_10_snr_threshold_1.csv\"),\n",
    "    pd.read_csv(\"../data/result_csvs/230928_JL_Immonium_ions_Modified_DIA.mzML_diagnostic_ions_ppm_tolerance_10_snr_threshold_2.csv\"),\n",
    "    pd.read_csv(\"../data/result_csvs/230928_JL_Immonium_ions_Modified_DIA.mzML_diagnostic_ions_ppm_tolerance_10_snr_threshold_3.csv\"),\n",
    "    pd.read_csv(\"../data/result_csvs/230928_JL_Immonium_ions_Modified_DIA.mzML_diagnostic_ions_ppm_tolerance_10_snr_threshold_5.csv\"),\n",
    "    pd.read_csv(\"../data/result_csvs/230928_JL_Immonium_ions_Modified_DIA.mzML_diagnostic_ions_ppm_tolerance_10_snr_threshold_10.csv\"),\n",
    "    pd.read_csv(\"../data/result_csvs/230928_JL_Immonium_ions_Modified_DIA.mzML_diagnostic_ions_ppm_tolerance_10_snr_threshold_20.csv\"),\n",
    "    pd.read_csv(\"../data/result_csvs/230928_JL_Immonium_ions_Modified_DIA.mzML_diagnostic_ions_ppm_tolerance_10_snr_threshold_50.csv\"),\n",
    "    pd.read_csv(\"../data/result_csvs/230928_JL_Immonium_ions_Modified_DIA.mzML_diagnostic_ions_ppm_tolerance_10_snr_threshold_100.csv\"),\n",
    "]"
   ]
  },
  {
   "cell_type": "code",
   "execution_count": null,
   "metadata": {},
   "outputs": [],
   "source": [
    "dfs_dia_mod_ppm = [\n",
    "    pd.read_csv(\"../data/result_csvs/230928_JL_Immonium_ions_Modified_DIA.mzML_diagnostic_ions_ppm_tolerance_5_snr_threshold_0.csv\"),\n",
    "    pd.read_csv(\"../data/result_csvs/230928_JL_Immonium_ions_Modified_DIA.mzML_diagnostic_ions_ppm_tolerance_6_snr_threshold_0.csv\"),\n",
    "    pd.read_csv(\"../data/result_csvs/230928_JL_Immonium_ions_Modified_DIA.mzML_diagnostic_ions_ppm_tolerance_7_snr_threshold_0.csv\"),\n",
    "    pd.read_csv(\"../data/result_csvs/230928_JL_Immonium_ions_Modified_DIA.mzML_diagnostic_ions_ppm_tolerance_8_snr_threshold_0.csv\"),\n",
    "    pd.read_csv(\"../data/result_csvs/230928_JL_Immonium_ions_Modified_DIA.mzML_diagnostic_ions_ppm_tolerance_9_snr_threshold_0.csv\"),\n",
    "    pd.read_csv(\"../data/result_csvs/230928_JL_Immonium_ions_Modified_DIA.mzML_diagnostic_ions_ppm_tolerance_10_snr_threshold_0.csv\"),\n",
    "]"
   ]
  },
  {
   "cell_type": "code",
   "execution_count": 8,
   "metadata": {},
   "outputs": [],
   "source": [
    "dfs_dia_unmod_snr = [\n",
    "    pd.read_csv(\"../data/result_csvs/230928_JL_Immonium_ions_Unmodified_DIA.mzML_diagnostic_ions_ppm_tolerance_5_snr_threshold_1.csv\"),\n",
    "    pd.read_csv(\"../data/result_csvs/230928_JL_Immonium_ions_Unmodified_DIA.mzML_diagnostic_ions_ppm_tolerance_5_snr_threshold_2.csv\"),\n",
    "    pd.read_csv(\"../data/result_csvs/230928_JL_Immonium_ions_Unmodified_DIA.mzML_diagnostic_ions_ppm_tolerance_5_snr_threshold_3.csv\"),\n",
    "    pd.read_csv(\"../data/result_csvs/230928_JL_Immonium_ions_Unmodified_DIA.mzML_diagnostic_ions_ppm_tolerance_5_snr_threshold_5.csv\"),\n",
    "    pd.read_csv(\"../data/result_csvs/230928_JL_Immonium_ions_Unmodified_DIA.mzML_diagnostic_ions_ppm_tolerance_5_snr_threshold_10.csv\"),\n",
    "    pd.read_csv(\"../data/result_csvs/230928_JL_Immonium_ions_Unmodified_DIA.mzML_diagnostic_ions_ppm_tolerance_5_snr_threshold_20.csv\"),\n",
    "    pd.read_csv(\"../data/result_csvs/230928_JL_Immonium_ions_Unmodified_DIA.mzML_diagnostic_ions_ppm_tolerance_5_snr_threshold_50.csv\"),\n",
    "    pd.read_csv(\"../data/result_csvs/230928_JL_Immonium_ions_Unmodified_DIA.mzML_diagnostic_ions_ppm_tolerance_5_snr_threshold_100.csv\"),\n",
    "]"
   ]
  },
  {
   "cell_type": "code",
   "execution_count": null,
   "metadata": {},
   "outputs": [],
   "source": [
    "dfs_dia_unmod_10ppm_snr = [\n",
    "    pd.read_csv(\"../data/result_csvs/230928_JL_Immonium_ions_Unmodified_DIA.mzML_diagnostic_ions_ppm_tolerance_10_snr_threshold_1.csv\"),\n",
    "    pd.read_csv(\"../data/result_csvs/230928_JL_Immonium_ions_Unmodified_DIA.mzML_diagnostic_ions_ppm_tolerance_10_snr_threshold_2.csv\"),\n",
    "    pd.read_csv(\"../data/result_csvs/230928_JL_Immonium_ions_Unmodified_DIA.mzML_diagnostic_ions_ppm_tolerance_10_snr_threshold_3.csv\"),\n",
    "    pd.read_csv(\"../data/result_csvs/230928_JL_Immonium_ions_Unmodified_DIA.mzML_diagnostic_ions_ppm_tolerance_10_snr_threshold_5.csv\"),\n",
    "    pd.read_csv(\"../data/result_csvs/230928_JL_Immonium_ions_Unmodified_DIA.mzML_diagnostic_ions_ppm_tolerance_10_snr_threshold_10.csv\"),\n",
    "    pd.read_csv(\"../data/result_csvs/230928_JL_Immonium_ions_Unmodified_DIA.mzML_diagnostic_ions_ppm_tolerance_10_snr_threshold_20.csv\"),\n",
    "    pd.read_csv(\"../data/result_csvs/230928_JL_Immonium_ions_Unmodified_DIA.mzML_diagnostic_ions_ppm_tolerance_10_snr_threshold_50.csv\"),\n",
    "    pd.read_csv(\"../data/result_csvs/230928_JL_Immonium_ions_Unmodified_DIA.mzML_diagnostic_ions_ppm_tolerance_10_snr_threshold_100.csv\"),\n",
    "]"
   ]
  },
  {
   "cell_type": "code",
   "execution_count": null,
   "metadata": {},
   "outputs": [],
   "source": [
    "dfs_dia_unmod_ppm = [\n",
    "    pd.read_csv(\"../data/result_csvs/230928_JL_Immonium_ions_Unmodified_DIA.mzML_diagnostic_ions_ppm_tolerance_5_snr_threshold_0.csv\"),\n",
    "    pd.read_csv(\"../data/result_csvs/230928_JL_Immonium_ions_Unmodified_DIA.mzML_diagnostic_ions_ppm_tolerance_6_snr_threshold_0.csv\"),\n",
    "    pd.read_csv(\"../data/result_csvs/230928_JL_Immonium_ions_Unmodified_DIA.mzML_diagnostic_ions_ppm_tolerance_7_snr_threshold_0.csv\"),\n",
    "    pd.read_csv(\"../data/result_csvs/230928_JL_Immonium_ions_Unmodified_DIA.mzML_diagnostic_ions_ppm_tolerance_8_snr_threshold_0.csv\"),\n",
    "    pd.read_csv(\"../data/result_csvs/230928_JL_Immonium_ions_Unmodified_DIA.mzML_diagnostic_ions_ppm_tolerance_9_snr_threshold_0.csv\"),\n",
    "    pd.read_csv(\"../data/result_csvs/230928_JL_Immonium_ions_Unmodified_DIA.mzML_diagnostic_ions_ppm_tolerance_10_snr_threshold_0.csv\"),\n",
    "]"
   ]
  },
  {
   "cell_type": "code",
   "execution_count": 42,
   "metadata": {},
   "outputs": [],
   "source": [
    "mods_df = get_mods(dfs_dia_mod_snr[2])\n",
    "unmods_df = get_mods(dfs_dia_unmod_snr[2])"
   ]
  },
  {
   "cell_type": "code",
   "execution_count": 23,
   "metadata": {},
   "outputs": [],
   "source": [
    "def get_mods_df_by_scan_window(result_df):\n",
    "    mods_df = get_mods(result_df)[[\"spectrum_id\", \"amino_acid\", \"mod_name\"]].drop_duplicates()\n",
    "    return mods_df.groupby(\"spectrum_id\")"
   ]
  },
  {
   "cell_type": "code",
   "execution_count": 26,
   "metadata": {},
   "outputs": [],
   "source": [
    "def get_mods_combinations_with_counts(result_df):\n",
    "    mods_df_by_scan_window = get_mods_df_by_scan_window(result_df)\n",
    "\n",
    "    mods = []\n",
    "    for name, group in mods_df_by_scan_window:\n",
    "        mods.append([\",\".join(mod) for mod in (group[[\"amino_acid\", \"mod_name\"]].drop_duplicates().to_numpy())])\n",
    "\n",
    "    return np.unique(np.array(mods, dtype='object'), return_counts=True)"
   ]
  },
  {
   "cell_type": "code",
   "execution_count": 25,
   "metadata": {},
   "outputs": [],
   "source": [
    "def get_num_mods_per_scan_window(result_df):\n",
    "    return get_mods_df_by_scan_window(result_df).count().rename(columns={\"amino_acid\": \"count\"})[\"count\"]\n",
    "    "
   ]
  },
  {
   "cell_type": "code",
   "execution_count": 41,
   "metadata": {},
   "outputs": [],
   "source": [
    "def get_windows_single_multiple_mods(result_df):\n",
    "    num_mods_df_by_scan_window = get_num_mods_per_scan_window(result_df)\n",
    "    windows_multiple_mods = num_mods_df_by_scan_window[num_mods_df_by_scan_window != 1]\n",
    "    windows_single_mods = num_mods_df_by_scan_window[num_mods_df_by_scan_window == 1]\n",
    "    return windows_single_mods, windows_multiple_mods"
   ]
  },
  {
   "cell_type": "code",
   "execution_count": 33,
   "metadata": {},
   "outputs": [
    {
     "data": {
      "text/plain": [
       "(6719, 1697)"
      ]
     },
     "execution_count": 33,
     "metadata": {},
     "output_type": "execute_result"
    }
   ],
   "source": [
    "len(get_mods_df_by_scan_window(mods_df)), len(get_mods_df_by_scan_window(unmods_df))"
   ]
  },
  {
   "cell_type": "code",
   "execution_count": 34,
   "metadata": {},
   "outputs": [],
   "source": [
    "all_mod_combinations, combination_counts = get_mods_combinations_with_counts(mods_df)"
   ]
  },
  {
   "cell_type": "code",
   "execution_count": 35,
   "metadata": {},
   "outputs": [
    {
     "data": {
      "text/plain": [
       "(['Tyrosine,Phospho'], 2254)"
      ]
     },
     "execution_count": 35,
     "metadata": {},
     "output_type": "execute_result"
    }
   ],
   "source": [
    "all_mod_combinations[-1], combination_counts[-1]"
   ]
  },
  {
   "cell_type": "code",
   "execution_count": 40,
   "metadata": {},
   "outputs": [
    {
     "data": {
      "text/plain": [
       "9"
      ]
     },
     "execution_count": 40,
     "metadata": {},
     "output_type": "execute_result"
    }
   ],
   "source": [
    "all_mod_combinations"
   ]
  },
  {
   "cell_type": "code",
   "execution_count": null,
   "metadata": {},
   "outputs": [],
   "source": [
    "np.array([comb for comb in all_mod_combinations if len(comb) == 1])"
   ]
  },
  {
   "cell_type": "code",
   "execution_count": 36,
   "metadata": {},
   "outputs": [
    {
     "data": {
      "text/plain": [
       "103"
      ]
     },
     "execution_count": 36,
     "metadata": {},
     "output_type": "execute_result"
    }
   ],
   "source": [
    "all_unmod_combinations, unmod_combination_counts = get_mods_combinations_with_counts(unmods_df)\n",
    "len(all_unmod_combinations)"
   ]
  },
  {
   "cell_type": "code",
   "execution_count": 13,
   "metadata": {},
   "outputs": [],
   "source": [
    "def plot_combination_counts(combinations, counts, fig_name=None):\n",
    "    count_sort = np.argsort(counts)\n",
    "    all_mod_combinations_sorted = combinations[count_sort]\n",
    "    combination_counts_sorted = combination_counts[count_sort]\n",
    "\n",
    "    fig, ax = plt.subplots()\n",
    "    combination_names = [\",\".join(combination) for combination in all_mod_combinations_sorted[-20:]]\n",
    "    ax.bar_label(ax.barh(range(len(combination_names)), combination_counts_sorted[-20:]), padding=3)\n",
    "    ax.set_yticks(range(len(combination_names)), labels=combination_names)\n",
    "    ax.set_ylim(0, len(combination_names) + 1)\n",
    "    ax.set_xlabel(\"number of windows\")\n",
    "    ax.invert_yaxis()\n",
    "    if fig_name is not None:\n",
    "        plt.savefig(f\"../data/plots/{fig_name}\", bbox_inches=\"tight\")"
   ]
  },
  {
   "cell_type": "code",
   "execution_count": null,
   "metadata": {},
   "outputs": [],
   "source": [
    "plot_combination_counts(all_mod_combinations, combination_counts, fig_name=\"num_combinations_sorted_snr3_5ppm_top20.png\")"
   ]
  },
  {
   "cell_type": "code",
   "execution_count": null,
   "metadata": {},
   "outputs": [],
   "source": [
    "plot_combination_counts(all_unmod_combinations, unmod_combination_counts, fig_name=\"num_combinations_unmod_sorted_snr3_5ppm_top20.png\")"
   ]
  },
  {
   "cell_type": "code",
   "execution_count": 37,
   "metadata": {},
   "outputs": [
    {
     "data": {
      "text/plain": [
       "[(114, ['Lysine,Biotin']),\n",
       " (125, ['Lysine,Biotin', 'Proline,Hydroxylation']),\n",
       " (126, ['Lysine,Biotin', 'Proline,Hydroxylation', 'Tyrosine,Phospho']),\n",
       " (129, ['Lysine,Biotin', 'Tyrosine,Phospho']),\n",
       " (193, ['Proline,Hydroxylation']),\n",
       " (205, ['Proline,Hydroxylation', 'Tyrosine,Phospho']),\n",
       " (219, ['Tyrosine,Phospho'])]"
      ]
     },
     "execution_count": 37,
     "metadata": {},
     "output_type": "execute_result"
    }
   ],
   "source": [
    "lb_ph_tp_combinations = [(idx, comb) for idx, comb in enumerate(all_mod_combinations) if np.all([mod in [\"Proline,Hydroxylation\", \"Tyrosine,Phospho\", \"Lysine,Biotin\"] for mod in comb])]\n",
    "lb_ph_tp_combinations"
   ]
  },
  {
   "cell_type": "code",
   "execution_count": 38,
   "metadata": {},
   "outputs": [
    {
     "data": {
      "text/plain": [
       "2321"
      ]
     },
     "execution_count": 38,
     "metadata": {},
     "output_type": "execute_result"
    }
   ],
   "source": [
    "combination_counts[[idx for idx, _ in lb_ph_tp_combinations]][:-1].sum()"
   ]
  },
  {
   "cell_type": "markdown",
   "metadata": {},
   "source": [
    "# Mods per scan window"
   ]
  },
  {
   "cell_type": "code",
   "execution_count": 43,
   "metadata": {},
   "outputs": [
    {
     "data": {
      "text/plain": [
       "([<matplotlib.axis.XTick at 0x7f3694d90310>,\n",
       "  <matplotlib.axis.XTick at 0x7f3694cd4dd0>],\n",
       " [Text(1, 0, 'mod'), Text(2, 0, 'unmod')])"
      ]
     },
     "execution_count": 43,
     "metadata": {},
     "output_type": "execute_result"
    },
    {
     "data": {
      "image/png": "[encoded data removed]",
      "text/plain": [
       "<Figure size 640x480 with 1 Axes>"
      ]
     },
     "metadata": {},
     "output_type": "display_data"
    }
   ],
   "source": [
    "plt.violinplot([get_num_mods_per_scan_window(mods_df), get_num_mods_per_scan_window(unmods_df)])\n",
    "plt.xticks([1, 2], labels=[\"mod\", \"unmod\"])\n",
    "#plt.savefig(\"../data/plots/PTMs_per_scan_window_snr_3_5ppm.png\")"
   ]
  },
  {
   "cell_type": "markdown",
   "metadata": {},
   "source": [
    "# Phospo tyrosine and multiple combination counts"
   ]
  },
  {
   "cell_type": "code",
   "execution_count": 54,
   "metadata": {},
   "outputs": [],
   "source": [
    "all_mod_combinations_multiple = [comb for comb in all_mod_combinations if len(comb) > 1]"
   ]
  },
  {
   "cell_type": "code",
   "execution_count": 55,
   "metadata": {},
   "outputs": [
    {
     "data": {
      "text/plain": [
       "201"
      ]
     },
     "execution_count": 55,
     "metadata": {},
     "output_type": "execute_result"
    }
   ],
   "source": [
    "len(all_mod_combinations_multiple)"
   ]
  },
  {
   "cell_type": "code",
   "execution_count": 56,
   "metadata": {},
   "outputs": [
    {
     "data": {
      "text/plain": [
       "[['Arginine,Deamidation',\n",
       "  'Lysine,Acetyl',\n",
       "  'Lysine,Carbamidomethyl',\n",
       "  'Lysine,Formyl',\n",
       "  'Lysine,Malonyl',\n",
       "  'Lysine,Methyl',\n",
       "  'Proline,Hydroxylation',\n",
       "  'Tyrosine,Nitro',\n",
       "  'Tyrosine,Phospho'],\n",
       " ['Arginine,Deamidation',\n",
       "  'Lysine,Acetyl',\n",
       "  'Lysine,Carbamidomethyl',\n",
       "  'Lysine,Malonyl',\n",
       "  'Lysine,Methyl',\n",
       "  'Proline,Hydroxylation',\n",
       "  'Tyrosine,Phospho'],\n",
       " ['Arginine,Deamidation',\n",
       "  'Lysine,Carbamidomethyl',\n",
       "  'Proline,Hydroxylation',\n",
       "  'Tyrosine,Phospho'],\n",
       " ['Arginine,Deamidation', 'Proline,Hydroxylation', 'Tyrosine,Phospho'],\n",
       " ['Arginine,Deamidation', 'Tyrosine,Phospho'],\n",
       " ['Cysteine,Carbamidomethyl',\n",
       "  'Cysteine,Carbamidomethyl-N-Terminal',\n",
       "  'Lysine,Acetyl',\n",
       "  'Lysine,Malonyl',\n",
       "  'Lysine,Methyl',\n",
       "  'Proline,Hydroxylation',\n",
       "  'Tyrosine,Phospho'],\n",
       " ['Cysteine,Carbamidomethyl',\n",
       "  'Cysteine,Carbamidomethyl-N-Terminal',\n",
       "  'Lysine,Methyl',\n",
       "  'Proline,Hydroxylation',\n",
       "  'Tyrosine,Phospho'],\n",
       " ['Histidine,Carbamidomethyl',\n",
       "  'Lysine,Acetyl',\n",
       "  'Lysine,Carbamidomethyl',\n",
       "  'Lysine,Malonyl',\n",
       "  'Lysine,Methyl',\n",
       "  'Proline,Hydroxylation',\n",
       "  'Tyrosine,Phospho'],\n",
       " ['Histidine,Carbamidomethyl',\n",
       "  'Lysine,Acetyl',\n",
       "  'Lysine,Malonyl',\n",
       "  'Lysine,Methyl',\n",
       "  'Proline,Hydroxylation',\n",
       "  'Tyrosine,Phospho'],\n",
       " ['Histidine,Carbamidomethyl',\n",
       "  'Lysine,Acetyl',\n",
       "  'Lysine,Malonyl',\n",
       "  'Proline,Hydroxylation',\n",
       "  'Tyrosine,Phospho'],\n",
       " ['Histidine,Carbamidomethyl',\n",
       "  'Lysine,Carbamidomethyl',\n",
       "  'Lysine,Methyl',\n",
       "  'Proline,Hydroxylation',\n",
       "  'Tyrosine,Phospho'],\n",
       " ['Histidine,Carbamidomethyl',\n",
       "  'Lysine,Carbamidomethyl',\n",
       "  'Proline,Hydroxylation',\n",
       "  'Tyrosine,Nitro',\n",
       "  'Tyrosine,Phospho'],\n",
       " ['Histidine,Carbamidomethyl',\n",
       "  'Lysine,Methyl',\n",
       "  'Proline,Hydroxylation',\n",
       "  'Tyrosine,Nitro',\n",
       "  'Tyrosine,Phospho'],\n",
       " ['Histidine,Carbamidomethyl',\n",
       "  'Lysine,Methyl',\n",
       "  'Proline,Hydroxylation',\n",
       "  'Tyrosine,Phospho'],\n",
       " ['Histidine,Carbamidomethyl', 'Tyrosine,Nitro', 'Tyrosine,Phospho'],\n",
       " ['Histidine,Carbamidomethyl', 'Tyrosine,Phospho'],\n",
       " ['Histidine,Methyl',\n",
       "  'Lysine,Acetyl',\n",
       "  'Lysine,Carbamidomethyl',\n",
       "  'Lysine,Formyl',\n",
       "  'Lysine,Malonyl',\n",
       "  'Lysine,Methyl',\n",
       "  'Proline,Hydroxylation',\n",
       "  'Tyrosine,Phospho'],\n",
       " ['Histidine,Methyl',\n",
       "  'Lysine,Acetyl',\n",
       "  'Lysine,Carbamidomethyl',\n",
       "  'Lysine,GlyGlycylation',\n",
       "  'Lysine,Malonyl',\n",
       "  'Lysine,Methyl',\n",
       "  'Proline,Hydroxylation',\n",
       "  'Proline,Phospho+Oxidation',\n",
       "  'Tyrosine,Phospho'],\n",
       " ['Histidine,Methyl',\n",
       "  'Lysine,Acetyl',\n",
       "  'Lysine,Malonyl',\n",
       "  'Lysine,Methyl',\n",
       "  'Proline,Hydroxylation',\n",
       "  'Tyrosine,Phospho'],\n",
       " ['Lysine,Acetyl',\n",
       "  'Lysine,Biotin',\n",
       "  'Lysine,Malonyl',\n",
       "  'Proline,Hydroxylation',\n",
       "  'Tyrosine,Nitro',\n",
       "  'Tyrosine,Phospho'],\n",
       " ['Lysine,Acetyl',\n",
       "  'Lysine,Carbamidomethyl',\n",
       "  'Lysine,Formyl',\n",
       "  'Lysine,GlyGlycylation',\n",
       "  'Lysine,Malonyl',\n",
       "  'Lysine,Methyl',\n",
       "  'Proline,Hydroxylation',\n",
       "  'Tyrosine,Phospho'],\n",
       " ['Lysine,Acetyl',\n",
       "  'Lysine,Carbamidomethyl',\n",
       "  'Lysine,Formyl',\n",
       "  'Lysine,Malonyl',\n",
       "  'Lysine,Methyl',\n",
       "  'Proline,Hydroxylation',\n",
       "  'Proline,Phospho+Oxidation',\n",
       "  'Tyrosine,Phospho'],\n",
       " ['Lysine,Acetyl',\n",
       "  'Lysine,Carbamidomethyl',\n",
       "  'Lysine,Formyl',\n",
       "  'Lysine,Malonyl',\n",
       "  'Lysine,Methyl',\n",
       "  'Proline,Hydroxylation',\n",
       "  'Tyrosine,Nitro',\n",
       "  'Tyrosine,Phospho'],\n",
       " ['Lysine,Acetyl',\n",
       "  'Lysine,Carbamidomethyl',\n",
       "  'Lysine,Formyl',\n",
       "  'Lysine,Malonyl',\n",
       "  'Lysine,Methyl',\n",
       "  'Proline,Hydroxylation',\n",
       "  'Tyrosine,Phospho'],\n",
       " ['Lysine,Acetyl',\n",
       "  'Lysine,Carbamidomethyl',\n",
       "  'Lysine,Formyl',\n",
       "  'Lysine,Malonyl',\n",
       "  'Lysine,Methyl',\n",
       "  'Tyrosine,Nitro',\n",
       "  'Tyrosine,Phospho'],\n",
       " ['Lysine,Acetyl',\n",
       "  'Lysine,Carbamidomethyl',\n",
       "  'Lysine,GlyGlycylation',\n",
       "  'Lysine,Malonyl',\n",
       "  'Lysine,Methyl',\n",
       "  'Proline,Hydroxylation',\n",
       "  'Tyrosine,Nitro',\n",
       "  'Tyrosine,Phospho'],\n",
       " ['Lysine,Acetyl',\n",
       "  'Lysine,Carbamidomethyl',\n",
       "  'Lysine,Hex',\n",
       "  'Lysine,Malonyl',\n",
       "  'Lysine,Methyl',\n",
       "  'Proline,Hydroxylation',\n",
       "  'Tyrosine,Phospho'],\n",
       " ['Lysine,Acetyl',\n",
       "  'Lysine,Carbamidomethyl',\n",
       "  'Lysine,Malonyl',\n",
       "  'Lysine,Methyl',\n",
       "  'Lysine,Suc_anh_light',\n",
       "  'Tyrosine,Phospho'],\n",
       " ['Lysine,Acetyl',\n",
       "  'Lysine,Carbamidomethyl',\n",
       "  'Lysine,Malonyl',\n",
       "  'Lysine,Methyl',\n",
       "  'Lysine,Thiazolidine',\n",
       "  'Proline,Hydroxylation',\n",
       "  'Tyrosine,Nitro',\n",
       "  'Tyrosine,Phospho'],\n",
       " ['Lysine,Acetyl',\n",
       "  'Lysine,Carbamidomethyl',\n",
       "  'Lysine,Malonyl',\n",
       "  'Lysine,Methyl',\n",
       "  'Lysine,Thiazolidine',\n",
       "  'Tyrosine,Phospho'],\n",
       " ['Lysine,Acetyl',\n",
       "  'Lysine,Carbamidomethyl',\n",
       "  'Lysine,Malonyl',\n",
       "  'Lysine,Methyl',\n",
       "  'Proline,Hydroxylation',\n",
       "  'Proline,Phospho+Oxidation',\n",
       "  'Tyrosine,Phospho'],\n",
       " ['Lysine,Acetyl',\n",
       "  'Lysine,Carbamidomethyl',\n",
       "  'Lysine,Malonyl',\n",
       "  'Lysine,Methyl',\n",
       "  'Proline,Hydroxylation',\n",
       "  'Tryptophan,Hydroxylation',\n",
       "  'Tyrosine,Nitro',\n",
       "  'Tyrosine,Phospho'],\n",
       " ['Lysine,Acetyl',\n",
       "  'Lysine,Carbamidomethyl',\n",
       "  'Lysine,Malonyl',\n",
       "  'Lysine,Methyl',\n",
       "  'Proline,Hydroxylation',\n",
       "  'Tyrosine,Nitro',\n",
       "  'Tyrosine,Phospho'],\n",
       " ['Lysine,Acetyl',\n",
       "  'Lysine,Carbamidomethyl',\n",
       "  'Lysine,Malonyl',\n",
       "  'Lysine,Methyl',\n",
       "  'Proline,Hydroxylation',\n",
       "  'Tyrosine,Phospho'],\n",
       " ['Lysine,Acetyl',\n",
       "  'Lysine,Carbamidomethyl',\n",
       "  'Lysine,Malonyl',\n",
       "  'Lysine,Methyl',\n",
       "  'Tyrosine,Nitro',\n",
       "  'Tyrosine,Phospho'],\n",
       " ['Lysine,Acetyl',\n",
       "  'Lysine,Carbamidomethyl',\n",
       "  'Lysine,Malonyl',\n",
       "  'Lysine,Methyl',\n",
       "  'Tyrosine,Phospho'],\n",
       " ['Lysine,Acetyl',\n",
       "  'Lysine,Carbamidomethyl',\n",
       "  'Lysine,Malonyl',\n",
       "  'Proline,Hydroxylation',\n",
       "  'Proline,Phospho+Oxidation',\n",
       "  'Tyrosine,Phospho'],\n",
       " ['Lysine,Acetyl',\n",
       "  'Lysine,Carbamidomethyl',\n",
       "  'Lysine,Malonyl',\n",
       "  'Proline,Hydroxylation',\n",
       "  'Tyrosine,Nitro',\n",
       "  'Tyrosine,Phospho'],\n",
       " ['Lysine,Acetyl',\n",
       "  'Lysine,Carbamidomethyl',\n",
       "  'Lysine,Malonyl',\n",
       "  'Proline,Hydroxylation',\n",
       "  'Tyrosine,Phospho'],\n",
       " ['Lysine,Acetyl',\n",
       "  'Lysine,Carbamidomethyl',\n",
       "  'Lysine,Malonyl',\n",
       "  'Tryptophan,Thiazolidine',\n",
       "  'Tyrosine,Nitro',\n",
       "  'Tyrosine,Phospho'],\n",
       " ['Lysine,Acetyl',\n",
       "  'Lysine,Carbamidomethyl',\n",
       "  'Lysine,Malonyl',\n",
       "  'Tyrosine,Nitro',\n",
       "  'Tyrosine,Phospho'],\n",
       " ['Lysine,Acetyl',\n",
       "  'Lysine,Carbamidomethyl',\n",
       "  'Lysine,di-Methylation',\n",
       "  'Lysine,GlyGlycylation',\n",
       "  'Lysine,Malonyl',\n",
       "  'Proline,Hydroxylation',\n",
       "  'Tyrosine,Phospho'],\n",
       " ['Lysine,Acetyl',\n",
       "  'Lysine,Formyl',\n",
       "  'Lysine,Malonyl',\n",
       "  'Lysine,Methyl',\n",
       "  'Proline,Hydroxylation',\n",
       "  'Tyrosine,Nitro',\n",
       "  'Tyrosine,Phospho'],\n",
       " ['Lysine,Acetyl',\n",
       "  'Lysine,Formyl',\n",
       "  'Lysine,Malonyl',\n",
       "  'Lysine,Methyl',\n",
       "  'Proline,Hydroxylation',\n",
       "  'Tyrosine,Phospho'],\n",
       " ['Lysine,Acetyl',\n",
       "  'Lysine,Formyl',\n",
       "  'Lysine,Malonyl',\n",
       "  'Lysine,Methyl',\n",
       "  'Tyrosine,Phospho'],\n",
       " ['Lysine,Acetyl',\n",
       "  'Lysine,Formyl',\n",
       "  'Lysine,Malonyl',\n",
       "  'Proline,Hydroxylation',\n",
       "  'Tyrosine,Phospho'],\n",
       " ['Lysine,Acetyl', 'Lysine,Formyl', 'Lysine,Malonyl', 'Tyrosine,Phospho'],\n",
       " ['Lysine,Acetyl',\n",
       "  'Lysine,GlyGlycylation',\n",
       "  'Lysine,Malonyl',\n",
       "  'Lysine,Methyl',\n",
       "  'Proline,Hydroxylation',\n",
       "  'Tyrosine,Phospho'],\n",
       " ['Lysine,Acetyl',\n",
       "  'Lysine,Malonyl',\n",
       "  'Lysine,Methyl',\n",
       "  'Lysine,Thiazolidine',\n",
       "  'Proline,Hydroxylation',\n",
       "  'Tyrosine,Phospho'],\n",
       " ['Lysine,Acetyl',\n",
       "  'Lysine,Malonyl',\n",
       "  'Lysine,Methyl',\n",
       "  'Proline,Hydroxylation',\n",
       "  'Proline,Phospho+Oxidation',\n",
       "  'Tyrosine,Nitro',\n",
       "  'Tyrosine,Phospho'],\n",
       " ['Lysine,Acetyl',\n",
       "  'Lysine,Malonyl',\n",
       "  'Lysine,Methyl',\n",
       "  'Proline,Hydroxylation',\n",
       "  'Proline,Phospho+Oxidation',\n",
       "  'Tyrosine,Phospho'],\n",
       " ['Lysine,Acetyl',\n",
       "  'Lysine,Malonyl',\n",
       "  'Lysine,Methyl',\n",
       "  'Proline,Hydroxylation',\n",
       "  'Tryptophan,Hydroxylation',\n",
       "  'Tyrosine,Phospho'],\n",
       " ['Lysine,Acetyl',\n",
       "  'Lysine,Malonyl',\n",
       "  'Lysine,Methyl',\n",
       "  'Proline,Hydroxylation',\n",
       "  'Tryptophan,Thiazolidine',\n",
       "  'Tyrosine,Nitro',\n",
       "  'Tyrosine,Phospho'],\n",
       " ['Lysine,Acetyl',\n",
       "  'Lysine,Malonyl',\n",
       "  'Lysine,Methyl',\n",
       "  'Proline,Hydroxylation',\n",
       "  'Tyrosine,Nitro',\n",
       "  'Tyrosine,Phospho'],\n",
       " ['Lysine,Acetyl',\n",
       "  'Lysine,Malonyl',\n",
       "  'Lysine,Methyl',\n",
       "  'Proline,Hydroxylation',\n",
       "  'Tyrosine,Phospho'],\n",
       " ['Lysine,Acetyl', 'Lysine,Malonyl', 'Lysine,Methyl', 'Tyrosine,Phospho'],\n",
       " ['Lysine,Acetyl',\n",
       "  'Lysine,Malonyl',\n",
       "  'Proline,Hydroxylation',\n",
       "  'Tyrosine,Nitro',\n",
       "  'Tyrosine,Phospho'],\n",
       " ['Lysine,Acetyl',\n",
       "  'Lysine,Malonyl',\n",
       "  'Proline,Hydroxylation',\n",
       "  'Tyrosine,Phospho'],\n",
       " ['Lysine,Acetyl', 'Lysine,Malonyl', 'Tyrosine,Nitro', 'Tyrosine,Phospho'],\n",
       " ['Lysine,Acetyl', 'Lysine,Malonyl', 'Tyrosine,Phospho'],\n",
       " ['Lysine,Acetyl',\n",
       "  'Lysine,Methyl',\n",
       "  'Proline,Hydroxylation',\n",
       "  'Tyrosine,Phospho'],\n",
       " ['Lysine,Acetyl', 'Proline,Hydroxylation', 'Tyrosine,Phospho'],\n",
       " ['Lysine,Acetyl', 'Tyrosine,Phospho'],\n",
       " ['Lysine,Biotin',\n",
       "  'Lysine,Carbamidomethyl',\n",
       "  'Lysine,Methyl',\n",
       "  'Proline,Hydroxylation',\n",
       "  'Tyrosine,Phospho'],\n",
       " ['Lysine,Biotin',\n",
       "  'Lysine,Carbamidomethyl',\n",
       "  'Proline,Hydroxylation',\n",
       "  'Tyrosine,Phospho'],\n",
       " ['Lysine,Biotin', 'Lysine,Carbamidomethyl', 'Tyrosine,Phospho'],\n",
       " ['Lysine,Biotin', 'Proline,Hydroxylation', 'Tyrosine,Phospho'],\n",
       " ['Lysine,Biotin', 'Tyrosine,Nitro', 'Tyrosine,Phospho'],\n",
       " ['Lysine,Biotin', 'Tyrosine,Phospho'],\n",
       " ['Lysine,Butyryl', 'Tyrosine,Phospho'],\n",
       " ['Lysine,Carbamidomethyl',\n",
       "  'Lysine,Crotonyl',\n",
       "  'Proline,Hydroxylation',\n",
       "  'Tyrosine,Nitro',\n",
       "  'Tyrosine,Phospho'],\n",
       " ['Lysine,Carbamidomethyl',\n",
       "  'Lysine,Formyl',\n",
       "  'Lysine,Methyl',\n",
       "  'Proline,Hydroxylation',\n",
       "  'Tyrosine,Nitro',\n",
       "  'Tyrosine,Phospho'],\n",
       " ['Lysine,Carbamidomethyl',\n",
       "  'Lysine,Hex',\n",
       "  'Proline,Hydroxylation',\n",
       "  'Tyrosine,Phospho'],\n",
       " ['Lysine,Carbamidomethyl',\n",
       "  'Lysine,Methyl',\n",
       "  'Lysine,Thiazolidine',\n",
       "  'Proline,Hydroxylation',\n",
       "  'Tyrosine,Nitro',\n",
       "  'Tyrosine,Phospho'],\n",
       " ['Lysine,Carbamidomethyl',\n",
       "  'Lysine,Methyl',\n",
       "  'Proline,Hydroxylation',\n",
       "  'Proline,Phospho+Oxidation',\n",
       "  'Tyrosine,Phospho'],\n",
       " ['Lysine,Carbamidomethyl',\n",
       "  'Lysine,Methyl',\n",
       "  'Proline,Hydroxylation',\n",
       "  'Tryptophan,Hydroxylation',\n",
       "  'Tyrosine,Phospho'],\n",
       " ['Lysine,Carbamidomethyl',\n",
       "  'Lysine,Methyl',\n",
       "  'Proline,Hydroxylation',\n",
       "  'Tyrosine,Nitro',\n",
       "  'Tyrosine,Phospho'],\n",
       " ['Lysine,Carbamidomethyl',\n",
       "  'Lysine,Methyl',\n",
       "  'Proline,Hydroxylation',\n",
       "  'Tyrosine,Phospho'],\n",
       " ['Lysine,Carbamidomethyl', 'Lysine,Methyl', 'Tyrosine,Phospho'],\n",
       " ['Lysine,Carbamidomethyl',\n",
       "  'Proline,Hydroxylation',\n",
       "  'Proline,Phospho+Oxidation',\n",
       "  'Tyrosine,Phospho'],\n",
       " ['Lysine,Carbamidomethyl',\n",
       "  'Proline,Hydroxylation',\n",
       "  'Tryptophan,Hydroxylation',\n",
       "  'Tyrosine,Nitro',\n",
       "  'Tyrosine,Phospho'],\n",
       " ['Lysine,Carbamidomethyl',\n",
       "  'Proline,Hydroxylation',\n",
       "  'Tyrosine,Nitro',\n",
       "  'Tyrosine,Phospho'],\n",
       " ['Lysine,Carbamidomethyl', 'Proline,Hydroxylation', 'Tyrosine,Phospho'],\n",
       " ['Lysine,Carbamidomethyl', 'Tyrosine,Nitro', 'Tyrosine,Phospho'],\n",
       " ['Lysine,Carbamidomethyl', 'Tyrosine,Phospho'],\n",
       " ['Lysine,Glutarylation', 'Tyrosine,Phospho'],\n",
       " ['Lysine,GlyGlycylation',\n",
       "  'Lysine,Methyl',\n",
       "  'Proline,Hydroxylation',\n",
       "  'Tyrosine,Phospho'],\n",
       " ['Lysine,GlyGlycylation', 'Proline,Hydroxylation', 'Tyrosine,Phospho'],\n",
       " ['Lysine,Hex', 'Proline,Hydroxylation', 'Tyrosine,Nitro', 'Tyrosine,Phospho'],\n",
       " ['Lysine,Hex', 'Proline,Hydroxylation', 'Tyrosine,Phospho'],\n",
       " ['Lysine,Hex', 'Tyrosine,Phospho'],\n",
       " ['Lysine,Methyl',\n",
       "  'Lysine,Thiazolidine',\n",
       "  'Proline,Hydroxylation',\n",
       "  'Tyrosine,Nitro',\n",
       "  'Tyrosine,Phospho'],\n",
       " ['Lysine,Methyl',\n",
       "  'Lysine,Thiazolidine',\n",
       "  'Proline,Hydroxylation',\n",
       "  'Tyrosine,Phospho'],\n",
       " ['Lysine,Methyl',\n",
       "  'Proline,Hydroxylation',\n",
       "  'Proline,Phospho+Oxidation',\n",
       "  'Tyrosine,Nitro',\n",
       "  'Tyrosine,Phospho'],\n",
       " ['Lysine,Methyl',\n",
       "  'Proline,Hydroxylation',\n",
       "  'Proline,Phospho+Oxidation',\n",
       "  'Tyrosine,Phospho'],\n",
       " ['Lysine,Methyl',\n",
       "  'Proline,Hydroxylation',\n",
       "  'Tyrosine,Nitro',\n",
       "  'Tyrosine,Phospho'],\n",
       " ['Lysine,Methyl', 'Proline,Hydroxylation', 'Tyrosine,Phospho'],\n",
       " ['Lysine,Methyl', 'Tyrosine,Nitro', 'Tyrosine,Phospho'],\n",
       " ['Lysine,Methyl', 'Tyrosine,Phospho'],\n",
       " ['Lysine,di-Methylation',\n",
       "  'Proline,Hydroxylation',\n",
       "  'Tyrosine,Nitro',\n",
       "  'Tyrosine,Phospho'],\n",
       " ['Lysine,di-Methylation', 'Proline,Hydroxylation', 'Tyrosine,Phospho'],\n",
       " ['Proline,Hydroxylation',\n",
       "  'Proline,Phospho+Oxidation',\n",
       "  'Tryptophan,Hydroxylation',\n",
       "  'Tyrosine,Phospho'],\n",
       " ['Proline,Hydroxylation',\n",
       "  'Proline,Phospho+Oxidation',\n",
       "  'Tyrosine,Nitro',\n",
       "  'Tyrosine,Phospho'],\n",
       " ['Proline,Hydroxylation', 'Proline,Phospho+Oxidation', 'Tyrosine,Phospho'],\n",
       " ['Proline,Hydroxylation',\n",
       "  'Tryptophan,Hydroxylation',\n",
       "  'Tyrosine,Nitro',\n",
       "  'Tyrosine,Phospho'],\n",
       " ['Proline,Hydroxylation', 'Tryptophan,Hydroxylation', 'Tyrosine,Phospho'],\n",
       " ['Proline,Hydroxylation', 'Tryptophan,Thiazolidine', 'Tyrosine,Phospho'],\n",
       " ['Proline,Hydroxylation', 'Tyrosine,Nitro', 'Tyrosine,Phospho'],\n",
       " ['Proline,Hydroxylation', 'Tyrosine,Phospho'],\n",
       " ['Proline,Phospho+Oxidation', 'Tyrosine,Phospho'],\n",
       " ['Tryptophan,Hydroxylation', 'Tyrosine,Nitro', 'Tyrosine,Phospho'],\n",
       " ['Tryptophan,Hydroxylation', 'Tyrosine,Phospho'],\n",
       " ['Tryptophan,kynurenin', 'Tyrosine,Phospho'],\n",
       " ['Tyrosine,Nitro', 'Tyrosine,Phospho'],\n",
       " ['Tyrosine,Phospho']]"
      ]
     },
     "execution_count": 56,
     "metadata": {},
     "output_type": "execute_result"
    }
   ],
   "source": [
    "combinations_phospho_tyrosine = [combination for combination in all_mod_combinations if \"Tyrosine,Phospho\" in combination]\n",
    "combinations_phospho_tyrosine"
   ]
  },
  {
   "cell_type": "code",
   "execution_count": 57,
   "metadata": {},
   "outputs": [
    {
     "name": "stdout",
     "output_type": "stream",
     "text": [
      "Arginine,Deamidation 5\n",
      "Cysteine,Carbamidomethyl 2\n",
      "Cysteine,Carbamidomethyl-N-Terminal 2\n",
      "Histidine,Carbamidomethyl 9\n",
      "Histidine,Methyl 3\n",
      "Lysine,Acetyl 53\n",
      "Lysine,Biotin 7\n",
      "Lysine,Butyryl 1\n",
      "Lysine,Carbamidomethyl 48\n",
      "Lysine,Crotonyl 1\n",
      "Lysine,Formyl 13\n",
      "Lysine,Glutarylation 1\n",
      "Lysine,GlyGlycylation 7\n",
      "Lysine,Hex 5\n",
      "Lysine,Malonyl 50\n",
      "Lysine,Methyl 58\n",
      "Lysine,Suc_anh_light 1\n",
      "Lysine,Thiazolidine 6\n",
      "Lysine,di-Methylation 3\n",
      "Proline,Hydroxylation 82\n",
      "Proline,Phospho+Oxidation 14\n",
      "Tryptophan,Hydroxylation 9\n",
      "Tryptophan,Thiazolidine 3\n",
      "Tryptophan,kynurenin 1\n",
      "Tyrosine,Nitro 40\n",
      "Tyrosine,Phospho 115\n"
     ]
    }
   ],
   "source": [
    "for mod, count in zip(*np.unique([mod for combination in combinations_phospho_tyrosine for mod in combination], return_counts=True)):\n",
    "    print(mod, count)"
   ]
  },
  {
   "cell_type": "code",
   "execution_count": 58,
   "metadata": {},
   "outputs": [
    {
     "data": {
      "text/plain": [
       "115"
      ]
     },
     "execution_count": 58,
     "metadata": {},
     "output_type": "execute_result"
    }
   ],
   "source": [
    "len(combinations_phospho_tyrosine)"
   ]
  }
 ],
 "metadata": {
  "kernelspec": {
   "display_name": "ptm-search",
   "language": "python",
   "name": "python3"
  },
  "language_info": {
   "codemirror_mode": {
    "name": "ipython",
    "version": 3
   },
   "file_extension": ".py",
   "mimetype": "text/x-python",
   "name": "python",
   "nbconvert_exporter": "python",
   "pygments_lexer": "ipython3",
   "version": "3.11.8"
  }
 },
 "nbformat": 4,
 "nbformat_minor": 2
}
