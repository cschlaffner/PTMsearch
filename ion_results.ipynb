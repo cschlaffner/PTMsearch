{
 "cells": [
  {
   "cell_type": "code",
   "execution_count": null,
   "metadata": {},
   "outputs": [],
   "source": [
    "import pandas as pd\n",
    "import numpy as np\n",
    "from pyopenms import OnDiscMSExperiment\n",
    "import matplotlib.pyplot as plt"
   ]
  },
  {
   "cell_type": "code",
   "execution_count": null,
   "metadata": {},
   "outputs": [],
   "source": [
    "def print_results(df):\n",
    "    results_df = df[[\"amino_acid\", \"mod_name\"]].groupby([\"amino_acid\"])\n",
    "    for amino_acid, sub_df in results_df:\n",
    "        print(amino_acid)\n",
    "        print(pd.unique(sub_df[\"mod_name\"]))"
   ]
  },
  {
   "cell_type": "code",
   "execution_count": null,
   "metadata": {},
   "outputs": [],
   "source": [
    "def get_mods(df):\n",
    "    #return df[np.logical_and(df[\"mod_name\"]!=\"unmodified\", df[\"type\"]!=\"NL\")]\n",
    "    return df[df[\"mod_name\"]!=\"unmodified\"]"
   ]
  },
  {
   "cell_type": "code",
   "execution_count": null,
   "metadata": {},
   "outputs": [],
   "source": [
    "def grouped_bar_mods(dfs_unmod, dfs_mod, xticklabels, xlabel, out_name=None, legend_loc=\"upper right\"):\n",
    "    x = np.arange(len(dfs_unmod))\n",
    "    width = 0.25\n",
    "\n",
    "    fig, ax = plt.subplots(layout='constrained')\n",
    "\n",
    "    ax.grid(True)\n",
    "\n",
    "    ax.bar_label(ax.bar(x, [len(get_mods(df)) for df in dfs_unmod], width, label=\"unmod\"), padding=3)\n",
    "\n",
    "    ax.bar_label(ax.bar(x + width, [len(get_mods(df)) for df in dfs_mod], width, label=\"mod\"), padding=3)\n",
    "\n",
    "    ax.set_ylabel('Number of detected diagnostic ions')\n",
    "    ax.set_xlabel(xlabel)\n",
    "    #ax.set_title(f\"Number of detected diagnostic ions for different {xlabel}\")\n",
    "    ax.set_xticks(x + width/2, xticklabels)\n",
    "    ax.legend(loc=legend_loc)\n",
    "    #ax.set_ylim(0, 250)\n",
    "\n",
    "    if out_name is not None:\n",
    "        plt.savefig(f\"../data/plots/{out_name}.png\", bbox_inches=\"tight\")\n",
    "    plt.show()\n"
   ]
  },
  {
   "cell_type": "code",
   "execution_count": null,
   "metadata": {},
   "outputs": [],
   "source": [
    "def grouped_bar_mods_spectra(dfs_unmod, dfs_mod, xticklabels, xlabel, out_name=None, legend_loc=\"upper right\"):\n",
    "    x = np.arange(len(dfs_unmod))\n",
    "    width = 0.25\n",
    "\n",
    "    fig, ax = plt.subplots(layout='constrained')\n",
    "\n",
    "    ax.bar_label(ax.bar(x, [len(get_mods(df)[\"spectrum_id\"].unique()) for df in dfs_unmod], width, label=\"unmod\"), padding=3)\n",
    "\n",
    "    ax.bar_label(ax.bar(x + width, [len(get_mods(df)[\"spectrum_id\"].unique()) for df in dfs_mod], width, label=\"mod\"), padding=3)\n",
    "\n",
    "    ax.set_ylabel('Number of detected ions for mods')\n",
    "    ax.set_xlabel(xlabel)\n",
    "    ax.set_title(f\"Number of spectra with detected mod ions for different {xlabel}\")\n",
    "    ax.set_xticks(x + width/2, xticklabels)\n",
    "    ax.legend(loc=legend_loc)\n",
    "    ax.grid(True)\n",
    "    #ax.set_ylim(0, 250)\n",
    "\n",
    "    if out_name is not None:\n",
    "        plt.savefig(f\"../data/plots/{out_name}.png\")\n",
    "    plt.show()"
   ]
  },
  {
   "cell_type": "markdown",
   "metadata": {},
   "source": [
    "## DFs Higher collision energy only"
   ]
  },
  {
   "cell_type": "code",
   "execution_count": null,
   "metadata": {},
   "outputs": [],
   "source": [
    "dfs_mod_snrs = [\n",
    "    pd.read_csv(\"../data/result_csvs/230228_Immonium_50NCE_mod.mzML_diagnostic_ions_snr_threshold_0.csv\"),\n",
    "    pd.read_csv(\"../data/result_csvs/230228_Immonium_50NCE_mod.mzML_diagnostic_ions_snr_threshold_1.csv\"),\n",
    "    pd.read_csv(\"../data/result_csvs/230228_Immonium_50NCE_mod.mzML_diagnostic_ions_snr_threshold_2.csv\"),\n",
    "    pd.read_csv(\"../data/result_csvs/230228_Immonium_50NCE_mod.mzML_diagnostic_ions_snr_threshold_3.csv\"),\n",
    "    pd.read_csv(\"../data/result_csvs/230228_Immonium_50NCE_mod.mzML_diagnostic_ions_snr_threshold_5.csv\"),\n",
    "    pd.read_csv(\"../data/result_csvs/230228_Immonium_50NCE_mod.mzML_diagnostic_ions_snr_threshold_10.csv\"),\n",
    "    pd.read_csv(\"../data/result_csvs/230228_Immonium_50NCE_mod.mzML_diagnostic_ions_snr_threshold_20.csv\"),\n",
    "    pd.read_csv(\"../data/result_csvs/230228_Immonium_50NCE_mod.mzML_diagnostic_ions_snr_threshold_50.csv\"),\n",
    "    pd.read_csv(\"../data/result_csvs/230228_Immonium_50NCE_mod.mzML_diagnostic_ions_snr_threshold_100.csv\"),\n",
    "]"
   ]
  },
  {
   "cell_type": "code",
   "execution_count": null,
   "metadata": {},
   "outputs": [],
   "source": [
    "dfs_mod_ppm = [\n",
    "    pd.read_csv(\"../data/result_csvs/230228_Immonium_50NCE_mod.mzML_diagnostic_ions_snr_threshold_0.csv\"),\n",
    "    pd.read_csv(\"../data/result_csvs/230228_Immonium_50NCE_mod.mzML_diagnostic_ions_ppm_tolerance_6_snr_threshold_0.csv\"),\n",
    "    pd.read_csv(\"../data/result_csvs/230228_Immonium_50NCE_mod.mzML_diagnostic_ions_ppm_tolerance_7_snr_threshold_0.csv\"),\n",
    "    pd.read_csv(\"../data/result_csvs/230228_Immonium_50NCE_mod.mzML_diagnostic_ions_ppm_tolerance_8_snr_threshold_0.csv\"),\n",
    "    pd.read_csv(\"../data/result_csvs/230228_Immonium_50NCE_mod.mzML_diagnostic_ions_ppm_tolerance_9_snr_threshold_0.csv\"),\n",
    "    pd.read_csv(\"../data/result_csvs/230228_Immonium_50NCE_mod.mzML_diagnostic_ions_ppm_tolerance_10_snr_threshold_0.csv\"),\n",
    "]"
   ]
  },
  {
   "cell_type": "code",
   "execution_count": null,
   "metadata": {},
   "outputs": [],
   "source": [
    "dfs_unmod_snrs = [\n",
    "    pd.read_csv(\"../data/result_csvs/230228_Immonium_50NCE_unmod.mzML_diagnostic_ions_snr_threshold_0.csv\"),\n",
    "    pd.read_csv(\"../data/result_csvs/230228_Immonium_50NCE_unmod.mzML_diagnostic_ions_snr_threshold_1.csv\"),\n",
    "    pd.read_csv(\"../data/result_csvs/230228_Immonium_50NCE_unmod.mzML_diagnostic_ions_snr_threshold_2.csv\"),\n",
    "    pd.read_csv(\"../data/result_csvs/230228_Immonium_50NCE_unmod.mzML_diagnostic_ions_snr_threshold_3.csv\"),\n",
    "    pd.read_csv(\"../data/result_csvs/230228_Immonium_50NCE_unmod.mzML_diagnostic_ions_snr_threshold_5.csv\"),\n",
    "    pd.read_csv(\"../data/result_csvs/230228_Immonium_50NCE_unmod.mzML_diagnostic_ions_snr_threshold_10.csv\"),\n",
    "    pd.read_csv(\"../data/result_csvs/230228_Immonium_50NCE_unmod.mzML_diagnostic_ions_snr_threshold_20.csv\"),\n",
    "    pd.read_csv(\"../data/result_csvs/230228_Immonium_50NCE_unmod.mzML_diagnostic_ions_snr_threshold_50.csv\"),\n",
    "    pd.read_csv(\"../data/result_csvs/230228_Immonium_50NCE_unmod.mzML_diagnostic_ions_snr_threshold_100.csv\"),\n",
    "]"
   ]
  },
  {
   "cell_type": "code",
   "execution_count": null,
   "metadata": {},
   "outputs": [],
   "source": [
    "dfs_unmod_ppm = [\n",
    "    pd.read_csv(\"../data/result_csvs/230228_Immonium_50NCE_unmod.mzML_diagnostic_ions_snr_threshold_0.csv\"),\n",
    "    pd.read_csv(\"../data/result_csvs/230228_Immonium_50NCE_unmod.mzML_diagnostic_ions_ppm_tolerance_6_snr_threshold_0.csv\"),\n",
    "    pd.read_csv(\"../data/result_csvs/230228_Immonium_50NCE_unmod.mzML_diagnostic_ions_ppm_tolerance_7_snr_threshold_0.csv\"),\n",
    "    pd.read_csv(\"../data/result_csvs/230228_Immonium_50NCE_unmod.mzML_diagnostic_ions_ppm_tolerance_8_snr_threshold_0.csv\"),\n",
    "    pd.read_csv(\"../data/result_csvs/230228_Immonium_50NCE_unmod.mzML_diagnostic_ions_ppm_tolerance_9_snr_threshold_0.csv\"),\n",
    "    pd.read_csv(\"../data/result_csvs/230228_Immonium_50NCE_unmod.mzML_diagnostic_ions_ppm_tolerance_10_snr_threshold_0.csv\"),\n",
    "]"
   ]
  },
  {
   "cell_type": "markdown",
   "metadata": {},
   "source": [
    "## DFs \"DIA\" files (mixed energy)"
   ]
  },
  {
   "cell_type": "code",
   "execution_count": null,
   "metadata": {},
   "outputs": [],
   "source": [
    "dfs_dia_mod_snr = [\n",
    "    pd.read_csv(\"../data/result_csvs/230928_JL_Immonium_ions_Modified_DIA.mzML_diagnostic_ions_ppm_tolerance_5_snr_threshold_1.csv\"),\n",
    "    pd.read_csv(\"../data/result_csvs/230928_JL_Immonium_ions_Modified_DIA.mzML_diagnostic_ions_ppm_tolerance_5_snr_threshold_2.csv\"),\n",
    "    pd.read_csv(\"../data/result_csvs/230928_JL_Immonium_ions_Modified_DIA.mzML_diagnostic_ions_ppm_tolerance_5_snr_threshold_3.csv\"),\n",
    "    pd.read_csv(\"../data/result_csvs/230928_JL_Immonium_ions_Modified_DIA.mzML_diagnostic_ions_ppm_tolerance_5_snr_threshold_5.csv\"),\n",
    "    pd.read_csv(\"../data/result_csvs/230928_JL_Immonium_ions_Modified_DIA.mzML_diagnostic_ions_ppm_tolerance_5_snr_threshold_10.csv\"),\n",
    "    pd.read_csv(\"../data/result_csvs/230928_JL_Immonium_ions_Modified_DIA.mzML_diagnostic_ions_ppm_tolerance_5_snr_threshold_20.csv\"),\n",
    "    pd.read_csv(\"../data/result_csvs/230928_JL_Immonium_ions_Modified_DIA.mzML_diagnostic_ions_ppm_tolerance_5_snr_threshold_50.csv\"),\n",
    "    pd.read_csv(\"../data/result_csvs/230928_JL_Immonium_ions_Modified_DIA.mzML_diagnostic_ions_ppm_tolerance_5_snr_threshold_100.csv\"),\n",
    "]"
   ]
  },
  {
   "cell_type": "code",
   "execution_count": null,
   "metadata": {},
   "outputs": [],
   "source": [
    "dfs_dia_mod_10ppm_snr = [\n",
    "    pd.read_csv(\"../data/result_csvs/230928_JL_Immonium_ions_Modified_DIA.mzML_diagnostic_ions_ppm_tolerance_10_snr_threshold_1.csv\"),\n",
    "    pd.read_csv(\"../data/result_csvs/230928_JL_Immonium_ions_Modified_DIA.mzML_diagnostic_ions_ppm_tolerance_10_snr_threshold_2.csv\"),\n",
    "    pd.read_csv(\"../data/result_csvs/230928_JL_Immonium_ions_Modified_DIA.mzML_diagnostic_ions_ppm_tolerance_10_snr_threshold_3.csv\"),\n",
    "    pd.read_csv(\"../data/result_csvs/230928_JL_Immonium_ions_Modified_DIA.mzML_diagnostic_ions_ppm_tolerance_10_snr_threshold_5.csv\"),\n",
    "    pd.read_csv(\"../data/result_csvs/230928_JL_Immonium_ions_Modified_DIA.mzML_diagnostic_ions_ppm_tolerance_10_snr_threshold_10.csv\"),\n",
    "    pd.read_csv(\"../data/result_csvs/230928_JL_Immonium_ions_Modified_DIA.mzML_diagnostic_ions_ppm_tolerance_10_snr_threshold_20.csv\"),\n",
    "    pd.read_csv(\"../data/result_csvs/230928_JL_Immonium_ions_Modified_DIA.mzML_diagnostic_ions_ppm_tolerance_10_snr_threshold_50.csv\"),\n",
    "    pd.read_csv(\"../data/result_csvs/230928_JL_Immonium_ions_Modified_DIA.mzML_diagnostic_ions_ppm_tolerance_10_snr_threshold_100.csv\"),\n",
    "]"
   ]
  },
  {
   "cell_type": "code",
   "execution_count": null,
   "metadata": {},
   "outputs": [],
   "source": [
    "dfs_dia_mod_ppm = [\n",
    "    pd.read_csv(\"../data/result_csvs/230928_JL_Immonium_ions_Modified_DIA.mzML_diagnostic_ions_ppm_tolerance_5_snr_threshold_0.csv\"),\n",
    "    pd.read_csv(\"../data/result_csvs/230928_JL_Immonium_ions_Modified_DIA.mzML_diagnostic_ions_ppm_tolerance_6_snr_threshold_0.csv\"),\n",
    "    pd.read_csv(\"../data/result_csvs/230928_JL_Immonium_ions_Modified_DIA.mzML_diagnostic_ions_ppm_tolerance_7_snr_threshold_0.csv\"),\n",
    "    pd.read_csv(\"../data/result_csvs/230928_JL_Immonium_ions_Modified_DIA.mzML_diagnostic_ions_ppm_tolerance_8_snr_threshold_0.csv\"),\n",
    "    pd.read_csv(\"../data/result_csvs/230928_JL_Immonium_ions_Modified_DIA.mzML_diagnostic_ions_ppm_tolerance_9_snr_threshold_0.csv\"),\n",
    "    pd.read_csv(\"../data/result_csvs/230928_JL_Immonium_ions_Modified_DIA.mzML_diagnostic_ions_ppm_tolerance_10_snr_threshold_0.csv\"),\n",
    "]"
   ]
  },
  {
   "cell_type": "code",
   "execution_count": null,
   "metadata": {},
   "outputs": [],
   "source": [
    "dfs_dia_unmod_snr = [\n",
    "    pd.read_csv(\"../data/result_csvs/230928_JL_Immonium_ions_Unmodified_DIA.mzML_diagnostic_ions_ppm_tolerance_5_snr_threshold_1.csv\"),\n",
    "    pd.read_csv(\"../data/result_csvs/230928_JL_Immonium_ions_Unmodified_DIA.mzML_diagnostic_ions_ppm_tolerance_5_snr_threshold_2.csv\"),\n",
    "    pd.read_csv(\"../data/result_csvs/230928_JL_Immonium_ions_Unmodified_DIA.mzML_diagnostic_ions_ppm_tolerance_5_snr_threshold_3.csv\"),\n",
    "    pd.read_csv(\"../data/result_csvs/230928_JL_Immonium_ions_Unmodified_DIA.mzML_diagnostic_ions_ppm_tolerance_5_snr_threshold_5.csv\"),\n",
    "    pd.read_csv(\"../data/result_csvs/230928_JL_Immonium_ions_Unmodified_DIA.mzML_diagnostic_ions_ppm_tolerance_5_snr_threshold_10.csv\"),\n",
    "    pd.read_csv(\"../data/result_csvs/230928_JL_Immonium_ions_Unmodified_DIA.mzML_diagnostic_ions_ppm_tolerance_5_snr_threshold_20.csv\"),\n",
    "    pd.read_csv(\"../data/result_csvs/230928_JL_Immonium_ions_Unmodified_DIA.mzML_diagnostic_ions_ppm_tolerance_5_snr_threshold_50.csv\"),\n",
    "    pd.read_csv(\"../data/result_csvs/230928_JL_Immonium_ions_Unmodified_DIA.mzML_diagnostic_ions_ppm_tolerance_5_snr_threshold_100.csv\"),\n",
    "]"
   ]
  },
  {
   "cell_type": "code",
   "execution_count": null,
   "metadata": {},
   "outputs": [],
   "source": [
    "dfs_dia_unmod_10ppm_snr = [\n",
    "    pd.read_csv(\"../data/result_csvs/230928_JL_Immonium_ions_Unmodified_DIA.mzML_diagnostic_ions_ppm_tolerance_10_snr_threshold_1.csv\"),\n",
    "    pd.read_csv(\"../data/result_csvs/230928_JL_Immonium_ions_Unmodified_DIA.mzML_diagnostic_ions_ppm_tolerance_10_snr_threshold_2.csv\"),\n",
    "    pd.read_csv(\"../data/result_csvs/230928_JL_Immonium_ions_Unmodified_DIA.mzML_diagnostic_ions_ppm_tolerance_10_snr_threshold_3.csv\"),\n",
    "    pd.read_csv(\"../data/result_csvs/230928_JL_Immonium_ions_Unmodified_DIA.mzML_diagnostic_ions_ppm_tolerance_10_snr_threshold_5.csv\"),\n",
    "    pd.read_csv(\"../data/result_csvs/230928_JL_Immonium_ions_Unmodified_DIA.mzML_diagnostic_ions_ppm_tolerance_10_snr_threshold_10.csv\"),\n",
    "    pd.read_csv(\"../data/result_csvs/230928_JL_Immonium_ions_Unmodified_DIA.mzML_diagnostic_ions_ppm_tolerance_10_snr_threshold_20.csv\"),\n",
    "    pd.read_csv(\"../data/result_csvs/230928_JL_Immonium_ions_Unmodified_DIA.mzML_diagnostic_ions_ppm_tolerance_10_snr_threshold_50.csv\"),\n",
    "    pd.read_csv(\"../data/result_csvs/230928_JL_Immonium_ions_Unmodified_DIA.mzML_diagnostic_ions_ppm_tolerance_10_snr_threshold_100.csv\"),\n",
    "]"
   ]
  },
  {
   "cell_type": "code",
   "execution_count": null,
   "metadata": {},
   "outputs": [],
   "source": [
    "dfs_dia_unmod_ppm = [\n",
    "    pd.read_csv(\"../data/result_csvs/230928_JL_Immonium_ions_Unmodified_DIA.mzML_diagnostic_ions_ppm_tolerance_5_snr_threshold_0.csv\"),\n",
    "    pd.read_csv(\"../data/result_csvs/230928_JL_Immonium_ions_Unmodified_DIA.mzML_diagnostic_ions_ppm_tolerance_6_snr_threshold_0.csv\"),\n",
    "    pd.read_csv(\"../data/result_csvs/230928_JL_Immonium_ions_Unmodified_DIA.mzML_diagnostic_ions_ppm_tolerance_7_snr_threshold_0.csv\"),\n",
    "    pd.read_csv(\"../data/result_csvs/230928_JL_Immonium_ions_Unmodified_DIA.mzML_diagnostic_ions_ppm_tolerance_8_snr_threshold_0.csv\"),\n",
    "    pd.read_csv(\"../data/result_csvs/230928_JL_Immonium_ions_Unmodified_DIA.mzML_diagnostic_ions_ppm_tolerance_9_snr_threshold_0.csv\"),\n",
    "    pd.read_csv(\"../data/result_csvs/230928_JL_Immonium_ions_Unmodified_DIA.mzML_diagnostic_ions_ppm_tolerance_10_snr_threshold_0.csv\"),\n",
    "]"
   ]
  },
  {
   "cell_type": "code",
   "execution_count": null,
   "metadata": {},
   "outputs": [],
   "source": [
    "grouped_bar_mods(dfs_dia_unmod_ppm, dfs_dia_mod_ppm, [5, 6, 7, 8, 9, 10], \"ppm tolerance\", legend_loc=\"upper left\", out_name=\"dia_ppm tolerances\")"
   ]
  },
  {
   "cell_type": "code",
   "execution_count": null,
   "metadata": {},
   "outputs": [],
   "source": [
    "grouped_bar_mods(dfs_dia_unmod_snr, dfs_dia_mod_snr, [1,2,3,5,10,20,50,100], \"SNR threshold\", out_name=\"dia_snr_thresholds\")"
   ]
  },
  {
   "cell_type": "code",
   "execution_count": null,
   "metadata": {},
   "outputs": [],
   "source": [
    "grouped_bar_mods(dfs_dia_unmod_10ppm_snr, dfs_dia_mod_10ppm_snr, [1,2,3,5,10,20,50,100], \"SNR threshold\", out_name=\"dia_snr_thresholds_10ppm\")"
   ]
  },
  {
   "cell_type": "code",
   "execution_count": null,
   "metadata": {},
   "outputs": [],
   "source": [
    "df_dia_mod = pd.read_csv(\"../data/result_csvs/230928_JL_Immonium_ions_Modified_DIA.mzML_diagnostic_ions_ppm_tolerance_5_snr_threshold_0.csv\")\n",
    "df_dia_unmod = pd.read_csv(\"../data/result_csvs/230928_JL_Immonium_ions_Unmodified_DIA.mzML_diagnostic_ions_ppm_tolerance_5_snr_threshold_0.csv\")"
   ]
  },
  {
   "cell_type": "code",
   "execution_count": null,
   "metadata": {},
   "outputs": [],
   "source": [
    "df_dia_unmod[df_dia_unmod == \"alpha-amino-epsilon-caprolactam\"] = \"a.a.e.c.\""
   ]
  },
  {
   "cell_type": "code",
   "execution_count": null,
   "metadata": {},
   "outputs": [],
   "source": [
    "#mods_df = get_mods(dfs_mod_snrs[0])\n",
    "#unmods_df = get_mods(dfs_unmod_snrs[0])\n",
    "#mods_df = get_mods(df_dia_mod)\n",
    "#unmods_df = get_mods(df_dia_unmod)\n",
    "mods_df = get_mods(dfs_dia_mod_ppm[-1])\n",
    "unmods_df = get_mods(dfs_dia_unmod_ppm[-1])"
   ]
  },
  {
   "cell_type": "code",
   "execution_count": null,
   "metadata": {},
   "outputs": [],
   "source": [
    "mods_df_by_mod = mods_df[[\"amino_acid\", \"mod_name\", \"type\", \"theoretical_mz\", \"spectrum_id\"]].groupby([\"amino_acid\", \"mod_name\", \"type\", \"theoretical_mz\"]).count().rename(columns={\"spectrum_id\": \"count\"})\n",
    "mods_df_by_mod"
   ]
  },
  {
   "cell_type": "code",
   "execution_count": null,
   "metadata": {},
   "outputs": [],
   "source": [
    "fig, ax = plt.subplots(figsize=(6, 16))\n",
    "\n",
    "y_pos = np.arange(len(mods_df_by_mod))\n",
    "ax.barh(y_pos, mods_df_by_mod[\"count\"], align='center')\n",
    "#ax.set_yticks(y_pos, [(\",\").join([str(index_field) for index_field in mod.Index[:2]]) for mod in mods_df_by_mod.itertuples()])\n",
    "ax.set_yticks([])\n",
    "ax.set_xticks(np.arange(0, 35000, 10000))\n",
    "plt.xticks(fontsize=17)\n",
    "ax.invert_yaxis() \n",
    "ax.set_xlim(0, 35000)\n",
    "ax.margins(y=0)\n",
    "ax.grid(True)\n",
    "for spine in ax.spines.values():\n",
    "    spine.set_edgecolor('grey')\n",
    "\n",
    "table = ax.table(cellText=[[str(index_field) for index_field in mod.Index] + [mod.count] for mod in mods_df_by_mod.itertuples()], loc=\"left\", colWidths=[0.07, 0.18, 0.08, 0.06, 0.04],)\n",
    "# based on https://stackoverflow.com/a/55661458\n",
    "cell_height = 1 / len(mods_df_by_mod)\n",
    "for pos, cell in table.get_celld().items():\n",
    "    cell.set_height(cell_height)\n",
    "    cell.set_edgecolor(\"gray\")\n",
    "table.scale(5, 1)\n",
    "table.set_fontsize(20)\n",
    "\n",
    "fig.savefig(\"../data/plots/DIA_mods_10ppm_grouped_table.png\", bbox_inches=\"tight\")\n",
    "\n",
    "plt.show()"
   ]
  },
  {
   "cell_type": "code",
   "execution_count": null,
   "metadata": {},
   "outputs": [],
   "source": [
    "unmods_df_by_mod = unmods_df[[\"amino_acid\", \"mod_name\", \"type\", \"theoretical_mz\", \"spectrum_id\"]].groupby([\"amino_acid\", \"mod_name\", \"type\", \"theoretical_mz\"]).count().rename(columns={\"spectrum_id\": \"count\"})#.to_csv(\"tables/snr_2_ppm_5_unmods_aggregated.csv\")\n",
    "unmods_df_by_mod"
   ]
  },
  {
   "cell_type": "code",
   "execution_count": null,
   "metadata": {},
   "outputs": [],
   "source": [
    "unmods_df[unmods_df == \"alpha-amino-epsilon-caprolactam\"] = \"a.a.e.c\""
   ]
  },
  {
   "cell_type": "code",
   "execution_count": null,
   "metadata": {},
   "outputs": [],
   "source": [
    "fig, ax = plt.subplots(figsize=(6, 16*len(unmods_df_by_mod)/len(mods_df_by_mod)))\n",
    "\n",
    "y_pos = np.arange(len(unmods_df_by_mod))\n",
    "ax.barh(y_pos, unmods_df_by_mod[\"count\"], align='center')\n",
    "#ax.set_yticks(y_pos, [(\",\").join([str(index_field) for index_field in mod.Index[:2]]) for mod in mods_df_by_mod.itertuples()])\n",
    "ax.set_yticks([])\n",
    "ax.set_xticks(np.arange(0, 35000, 10000))\n",
    "plt.xticks(fontsize=17)\n",
    "ax.invert_yaxis() \n",
    "ax.set_xlim(0, 35000)\n",
    "ax.grid(True)\n",
    "ax.margins(y=0)\n",
    "ax.invert_xaxis() \n",
    "for spine in ax.spines.values():\n",
    "    spine.set_edgecolor('grey')\n",
    "\n",
    "table = ax.table(cellText=[[mod.count] + [str(index_field) for index_field in mod.Index] for mod in unmods_df_by_mod.itertuples()],\n",
    "                 loc=\"right\", colWidths=[0.04, 0.07, 0.18, 0.08, 0.06])\n",
    "# based on https://stackoverflow.com/a/55661458\n",
    "cell_height = 1 / len(unmods_df_by_mod)\n",
    "for pos, cell in table.get_celld().items():\n",
    "    cell.set_height(cell_height)\n",
    "    cell.set_edgecolor(\"gray\")\n",
    "table.scale(5, 1)\n",
    "table.set_fontsize(20)\n",
    "\n",
    "fig.savefig(\"../data/plots/DIA_unmods_10ppm_grouped_table.png\", bbox_inches=\"tight\")\n",
    "\n",
    "plt.show()"
   ]
  },
  {
   "cell_type": "code",
   "execution_count": null,
   "metadata": {},
   "outputs": [],
   "source": [
    "grouped_bar_mods(dfs_unmod_snrs[1:], dfs_mod_snrs[1:], [1,2,3,5,10,20,50,100], \"SNR threshold\", out_name=\"snr_thresholds\")"
   ]
  },
  {
   "cell_type": "code",
   "execution_count": null,
   "metadata": {},
   "outputs": [],
   "source": [
    "grouped_bar_mods(dfs_unmod_ppm, dfs_mod_ppm, [5, 6, 7, 8, 9, 10], \"ppm tolerance\", legend_loc=\"upper left\", out_name=\"ppm tolerances\")"
   ]
  },
  {
   "cell_type": "code",
   "execution_count": null,
   "metadata": {},
   "outputs": [],
   "source": [
    "grouped_bar_mods_spectra(dfs_unmod_ppm, dfs_mod_ppm, [5, 6, 7, 8, 9, 10], \"ppm tolerances\", legend_loc=\"upper left\")"
   ]
  }
 ],
 "metadata": {
  "kernelspec": {
   "display_name": "ptm-search",
   "language": "python",
   "name": "python3"
  },
  "language_info": {
   "codemirror_mode": {
    "name": "ipython",
    "version": 3
   },
   "file_extension": ".py",
   "mimetype": "text/x-python",
   "name": "python",
   "nbconvert_exporter": "python",
   "pygments_lexer": "ipython3",
   "version": "3.11.8"
  }
 },
 "nbformat": 4,
 "nbformat_minor": 2
}
