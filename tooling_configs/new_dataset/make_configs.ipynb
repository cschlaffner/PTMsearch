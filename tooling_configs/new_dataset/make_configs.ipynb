{
 "cells": [
  {
   "cell_type": "code",
   "execution_count": 3,
   "metadata": {},
   "outputs": [],
   "source": [
    "import json"
   ]
  },
  {
   "cell_type": "code",
   "execution_count": 5,
   "metadata": {},
   "outputs": [],
   "source": [
    "for i in range(2, 31):\n",
    "    config_for_datafile = {\n",
    "        \"lower_collision_energy\": 30,\n",
    "        \"higher_collision_energy\": 50,\n",
    "        \"known_diagnostic_ions_file\": \"src/diagnostic_ions/known_ions_only_unimod.csv\",\n",
    "        \"diagnostic_ions_mass_tolerance\": 10.0,\n",
    "        \"diagnostic_ions_mass_tolerance_unit\": \"ppm\",\n",
    "        \"snr_threshold\": 3,\n",
    "        \"result_dir\": f\"/hpi/fs00/scratch/andrea.nathansen/results_f{i}\",\n",
    "        \"mzml_file\": f\"/hpi/fs00/scratch/andrea.nathansen/20241208_JL_Hek_WT_WCL_fractionation_F{i}.mzML\",\n",
    "        \"dia_nn_path\": \"../diann/diann-1.8.1\",\n",
    "        \"spectral_library_files_by_mod\": {\n",
    "            \"unmodified\": \"/hpi/fs00/scratch/andrea.nathansen/results_f1/spectral_library_unmodified.predicted.speclib\",\n",
    "            \"Y(UniMod:21)\": \"/hpi/fs00/scratch/andrea.nathansen/results_f1/spectral_library_Y(UniMod:21).predicted.speclib\"},\n",
    "        \"spectral_library_for_filtering_path\": \"\",\n",
    "        \"library_free\": False,\n",
    "        \"database_for_library_prediction\": \"\",\n",
    "        \"dia_nn_search_params\": {\n",
    "            \"mass-acc\": 10,\n",
    "            \"mass-acc-ms1\": 20,\n",
    "            \"window\": 0,\n",
    "            \"threads\": 8,\n",
    "            \"pg-level\": 2\n",
    "        },\n",
    "        \"modifications_to_search\": [\n",
    "            \"Y(UniMod:21)\"\n",
    "        ],\n",
    "        \"modification_combinations\": [],\n",
    "        \"modifications_additional\": [],\n",
    "        \"fdr_threshold\": 0.01\n",
    "    }\n",
    "    with open(f\"f{i}_phospho.json\", \"w\") as f:\n",
    "        json.dump(config_for_datafile, f)"
   ]
  },
  {
   "cell_type": "code",
   "execution_count": 4,
   "metadata": {},
   "outputs": [],
   "source": [
    "for i in range(2, 31):\n",
    "    config_for_datafile = {\n",
    "        \"lower_collision_energy\": 30,\n",
    "        \"higher_collision_energy\": 50,\n",
    "        \"known_diagnostic_ions_file\": \"src/diagnostic_ions/known_ions_only_unimod.csv\",\n",
    "        \"diagnostic_ions_mass_tolerance\": 10.0,\n",
    "        \"diagnostic_ions_mass_tolerance_unit\": \"ppm\",\n",
    "        \"snr_threshold\": 3,\n",
    "        \"result_dir\": f\"/hpi/fs00/scratch/andrea.nathansen/results_f{i}_automatic\",\n",
    "        \"mzml_file\": f\"/hpi/fs00/scratch/andrea.nathansen/20241208_JL_Hek_WT_WCL_fractionation_F{i}.mzML\",\n",
    "        \"dia_nn_path\": \"../diann/diann-1.8.1\",\n",
    "        \"spectral_library_files_by_mod\": {},\n",
    "        \"spectral_library_for_filtering_path\": \"\",\n",
    "        \"library_free\": True,\n",
    "        \"database_for_library_prediction\": \"../proteomics_data/database_for_diann/uniprotkb_AND_reviewed_true_AND_model_o_2024_07_16_with_crap.fasta\",\n",
    "        \"dia_nn_library_params\": {\n",
    "            \"cut\": \"K*,R*\",\n",
    "            \"threads\": 8,\n",
    "            \"min-pep-len\": 7,\n",
    "            \"max-pep-len\": 30,\n",
    "            \"max-pr-charge\": 4,\n",
    "            \"min-pr-mz\": 350,\n",
    "            \"max-pr-mz\": 1200,\n",
    "            \"min-fr-mz\": 200,\n",
    "            \"max-fr-mz\": 2000,\n",
    "            \"missed-cleavages\": 2,\n",
    "            \"var-mods\": 3,\n",
    "            \"pg-level\": 2\n",
    "        },\n",
    "        \"dia_nn_search_params\": {\n",
    "            \"mass-acc\": 10,\n",
    "            \"mass-acc-ms1\": 20,\n",
    "            \"window\": 0,\n",
    "            \"threads\": 8,\n",
    "            \"pg-level\": 2\n",
    "        },\n",
    "        \"modifications_to_search\": [\n",
    "        ],\n",
    "        \"modification_combinations\": [],\n",
    "        \"modifications_additional\": [],\n",
    "        \"fdr_threshold\": 0.01,\n",
    "        \"detection_count_min\": 500\n",
    "    }\n",
    "    with open(f\"f{i}_automatic.json\", \"w\") as f:\n",
    "        json.dump(config_for_datafile, f)"
   ]
  }
 ],
 "metadata": {
  "kernelspec": {
   "display_name": "ptm-search",
   "language": "python",
   "name": "python3"
  },
  "language_info": {
   "codemirror_mode": {
    "name": "ipython",
    "version": 3
   },
   "file_extension": ".py",
   "mimetype": "text/x-python",
   "name": "python",
   "nbconvert_exporter": "python",
   "pygments_lexer": "ipython3",
   "version": "3.11.8"
  }
 },
 "nbformat": 4,
 "nbformat_minor": 2
}
