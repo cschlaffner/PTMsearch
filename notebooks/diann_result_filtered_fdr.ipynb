{
 "cells": [
  {
   "cell_type": "code",
   "execution_count": 1,
   "metadata": {},
   "outputs": [],
   "source": [
    "import pandas as pd\n",
    "from pyopenms import MzMLFile, MSExperiment, OnDiscMSExperiment\n",
    "import numpy as np\n",
    "import matplotlib.pyplot as plt"
   ]
  },
  {
   "cell_type": "code",
   "execution_count": 2,
   "metadata": {},
   "outputs": [],
   "source": [
    "def get_df_with_original_id_mapped(df, exp, mapping_df):\n",
    "    df = df.copy()\n",
    "    ms2_spectra = np.array([spectrum for spectrum in exp.getSpectra() if spectrum.getMSLevel() == 2])\n",
    "    breakpoint()\n",
    "    ms2_spectra_in_df = ms2_spectra[df[\"MS2.Scan\"].to_numpy()]\n",
    "    df.insert(len(df.columns), \"remapped_ids\", [s.getNativeID() for s in ms2_spectra_in_df])\n",
    "    df.insert(len(df.columns), \"original_ids\", [mapping_df.loc[remapped_id][\"original_id\"] for remapped_id in df[\"remapped_ids\"]])\n",
    "    return df"
   ]
  },
  {
   "cell_type": "code",
   "execution_count": 3,
   "metadata": {},
   "outputs": [],
   "source": [
    "exp_all = MSExperiment()\n",
    "MzMLFile().load(\"../../data/230928_JL_Immonium_ions_Modified_DIA_lower_energy.mzML\", exp_all)"
   ]
  },
  {
   "cell_type": "code",
   "execution_count": 4,
   "metadata": {},
   "outputs": [],
   "source": [
    "exp_subset = MSExperiment()\n",
    "MzMLFile().load(\"../../data/workflow_test_tolerance_snr3_10ppm/lower_energy_windows_Y(UniMod:21).mzML\", exp_subset)"
   ]
  },
  {
   "cell_type": "code",
   "execution_count": 5,
   "metadata": {},
   "outputs": [],
   "source": [
    "mapping_df_all = pd.read_csv(\"../../data/230928_JL_Immonium_ions_Modified_DIA_id_mapping.csv\", index_col=\"renamed_id\")\n",
    "mapping_df_subset = pd.read_csv(\"../../data/workflow_test_tolerance_snr3_10ppm/spectrum_id_mapping_Y(UniMod:21).csv\", index_col=\"renamed_id\")"
   ]
  },
  {
   "cell_type": "code",
   "execution_count": 6,
   "metadata": {},
   "outputs": [],
   "source": [
    "df_phospho_all = get_df_with_original_id_mapped(pd.read_csv(\"../../data/diann_results/dia_nn_results_filtered/report_filtered_phospho_all_spectra.tsv\", delimiter=\"\\t\"), exp_all, mapping_df_all)\n",
    "\n",
    "df_phospho_subset = get_df_with_original_id_mapped(pd.read_csv(\"../../data/diann_results/dia_nn_results_filtered/report_filtered_phospho.tsv\", delimiter=\"\\t\"), exp_subset, mapping_df_subset)\n",
    "df_phospho_subset_with_decoys = pd.read_csv(\"../../data/diann_results/dia_nn_results_filtered/report_filtered_phospho_with_decoys.tsv\", delimiter=\"\\t\")"
   ]
  },
  {
   "cell_type": "code",
   "execution_count": 7,
   "metadata": {},
   "outputs": [
    {
     "data": {
      "text/plain": [
       "File.Name                   /hpi/fs00/home/andrea.nathansen/workflow_test_...\n",
       "Run                                                                    P02647\n",
       "Protein.Group                                                   P02647;X00005\n",
       "Protein.Ids                                                       APOA1_HUMAN\n",
       "Protein.Names                                                           APOA1\n",
       "Genes                                                                     NaN\n",
       "PG.Quantity                                                               NaN\n",
       "PG.Normalised                                                             NaN\n",
       "PG.MaxLFQ                                                                 NaN\n",
       "Genes.Quantity                                                            NaN\n",
       "Genes.Normalised                                                          NaN\n",
       "Genes.MaxLFQ                                                     VSFLSALEEYTK\n",
       "Genes.MaxLFQ.Unique                                              VSFLSALEEYTK\n",
       "Modified.Sequence                                         DECOY_VSFLSALEEYTK2\n",
       "Stripped.Sequence                                                           2\n",
       "Precursor.Id                                                        0.0972818\n",
       "Precursor.Charge                                                          NaN\n",
       "Q.Value                                                                   NaN\n",
       "PEP                                                                       NaN\n",
       "Global.Q.Value                                                            1.0\n",
       "Protein.Q.Value                                                           NaN\n",
       "PG.Q.Value                                                                NaN\n",
       "Global.PG.Q.Value                                                         NaN\n",
       "GG.Q.Value                                                                NaN\n",
       "Translated.Q.Value                                                        NaN\n",
       "Proteotypic                                                               NaN\n",
       "Precursor.Quantity                                                        NaN\n",
       "Precursor.Normalised                                                      NaN\n",
       "Precursor.Translated                                                      NaN\n",
       "Translated.Quality                                                        0.0\n",
       "Ms1.Translated                                                            NaN\n",
       "Quantity.Quality                                                          NaN\n",
       "RT                                                                        NaN\n",
       "RT.Start                                                             0.653722\n",
       "RT.Stop                                                                   NaN\n",
       "iRT                                                                       NaN\n",
       "Predicted.RT                                                              NaN\n",
       "Predicted.iRT                                                             NaN\n",
       "Lib.Q.Value                                                               NaN\n",
       "Lib.PG.Q.Value                                                            NaN\n",
       "Ms1.Profile.Corr                                                          NaN\n",
       "Ms1.Area                                                                  NaN\n",
       "Evidence                                                                  NaN\n",
       "Spectrum.Similarity                                                       NaN\n",
       "Averagine                                                                 NaN\n",
       "Mass.Evidence                                                             NaN\n",
       "CScore                                                                    NaN\n",
       "Decoy.Evidence                                                            NaN\n",
       "Decoy.CScore                                                              NaN\n",
       "Fragment.Quant.Raw                                                        NaN\n",
       "Fragment.Quant.Corrected                                                  NaN\n",
       "Fragment.Correlations                                                     NaN\n",
       "MS2.Scan                                                                  NaN\n",
       "IM                                                                        NaN\n",
       "iIM                                                                       NaN\n",
       "Predicted.IM                                                              NaN\n",
       "Predicted.iIM                                                             NaN\n",
       "Name: 5000, dtype: object"
      ]
     },
     "execution_count": 7,
     "metadata": {},
     "output_type": "execute_result"
    }
   ],
   "source": [
    "df_phospho_subset_with_decoys.iloc[5000]"
   ]
  },
  {
   "cell_type": "code",
   "execution_count": 8,
   "metadata": {},
   "outputs": [
    {
     "data": {
      "text/html": [
       "<div>\n",
       "<style scoped>\n",
       "    .dataframe tbody tr th:only-of-type {\n",
       "        vertical-align: middle;\n",
       "    }\n",
       "\n",
       "    .dataframe tbody tr th {\n",
       "        vertical-align: top;\n",
       "    }\n",
       "\n",
       "    .dataframe thead th {\n",
       "        text-align: right;\n",
       "    }\n",
       "</style>\n",
       "<table border=\"1\" class=\"dataframe\">\n",
       "  <thead>\n",
       "    <tr style=\"text-align: right;\">\n",
       "      <th></th>\n",
       "      <th>File.Name</th>\n",
       "      <th>Run</th>\n",
       "      <th>Protein.Group</th>\n",
       "      <th>Protein.Ids</th>\n",
       "      <th>Protein.Names</th>\n",
       "      <th>Genes</th>\n",
       "      <th>PG.Quantity</th>\n",
       "      <th>PG.Normalised</th>\n",
       "      <th>PG.MaxLFQ</th>\n",
       "      <th>Genes.Quantity</th>\n",
       "      <th>...</th>\n",
       "      <th>Decoy.Evidence</th>\n",
       "      <th>Decoy.CScore</th>\n",
       "      <th>Fragment.Quant.Raw</th>\n",
       "      <th>Fragment.Quant.Corrected</th>\n",
       "      <th>Fragment.Correlations</th>\n",
       "      <th>MS2.Scan</th>\n",
       "      <th>IM</th>\n",
       "      <th>iIM</th>\n",
       "      <th>Predicted.IM</th>\n",
       "      <th>Predicted.iIM</th>\n",
       "    </tr>\n",
       "  </thead>\n",
       "  <tbody>\n",
       "    <tr>\n",
       "      <th>3215</th>\n",
       "      <td>/hpi/fs00/home/andrea.nathansen/workflow_test_...</td>\n",
       "      <td>P31948;P31948-2;P31948-3</td>\n",
       "      <td>P31948;P31948-2;P31948-3</td>\n",
       "      <td>STIP1_HUMAN</td>\n",
       "      <td>STIP1</td>\n",
       "      <td>NaN</td>\n",
       "      <td>NaN</td>\n",
       "      <td>NaN</td>\n",
       "      <td>NaN</td>\n",
       "      <td>NaN</td>\n",
       "      <td>...</td>\n",
       "      <td>NaN</td>\n",
       "      <td>NaN</td>\n",
       "      <td>NaN</td>\n",
       "      <td>NaN</td>\n",
       "      <td>NaN</td>\n",
       "      <td>NaN</td>\n",
       "      <td>NaN</td>\n",
       "      <td>NaN</td>\n",
       "      <td>NaN</td>\n",
       "      <td>NaN</td>\n",
       "    </tr>\n",
       "    <tr>\n",
       "      <th>3216</th>\n",
       "      <td>/hpi/fs00/home/andrea.nathansen/workflow_test_...</td>\n",
       "      <td>P31948;P31948-2</td>\n",
       "      <td>P31948;P31948-2</td>\n",
       "      <td>STIP1_HUMAN</td>\n",
       "      <td>STIP1</td>\n",
       "      <td>NaN</td>\n",
       "      <td>NaN</td>\n",
       "      <td>NaN</td>\n",
       "      <td>NaN</td>\n",
       "      <td>NaN</td>\n",
       "      <td>...</td>\n",
       "      <td>NaN</td>\n",
       "      <td>NaN</td>\n",
       "      <td>NaN</td>\n",
       "      <td>NaN</td>\n",
       "      <td>NaN</td>\n",
       "      <td>NaN</td>\n",
       "      <td>NaN</td>\n",
       "      <td>NaN</td>\n",
       "      <td>NaN</td>\n",
       "      <td>NaN</td>\n",
       "    </tr>\n",
       "    <tr>\n",
       "      <th>3217</th>\n",
       "      <td>/hpi/fs00/home/andrea.nathansen/workflow_test_...</td>\n",
       "      <td>Q93074;Q93074-2;Q93074-3</td>\n",
       "      <td>Q93074;Q93074-2;Q93074-3</td>\n",
       "      <td>MED12_HUMAN</td>\n",
       "      <td>MED12</td>\n",
       "      <td>NaN</td>\n",
       "      <td>NaN</td>\n",
       "      <td>NaN</td>\n",
       "      <td>NaN</td>\n",
       "      <td>NaN</td>\n",
       "      <td>...</td>\n",
       "      <td>NaN</td>\n",
       "      <td>NaN</td>\n",
       "      <td>NaN</td>\n",
       "      <td>NaN</td>\n",
       "      <td>NaN</td>\n",
       "      <td>NaN</td>\n",
       "      <td>NaN</td>\n",
       "      <td>NaN</td>\n",
       "      <td>NaN</td>\n",
       "      <td>NaN</td>\n",
       "    </tr>\n",
       "    <tr>\n",
       "      <th>3218</th>\n",
       "      <td>/hpi/fs00/home/andrea.nathansen/workflow_test_...</td>\n",
       "      <td>P27694;X00001</td>\n",
       "      <td>P27694;X00001</td>\n",
       "      <td>PTM_Trainingskit_Kmod;RFA1_HUMAN</td>\n",
       "      <td>RPA1</td>\n",
       "      <td>NaN</td>\n",
       "      <td>NaN</td>\n",
       "      <td>NaN</td>\n",
       "      <td>NaN</td>\n",
       "      <td>NaN</td>\n",
       "      <td>...</td>\n",
       "      <td>NaN</td>\n",
       "      <td>NaN</td>\n",
       "      <td>NaN</td>\n",
       "      <td>NaN</td>\n",
       "      <td>NaN</td>\n",
       "      <td>NaN</td>\n",
       "      <td>NaN</td>\n",
       "      <td>NaN</td>\n",
       "      <td>NaN</td>\n",
       "      <td>NaN</td>\n",
       "    </tr>\n",
       "    <tr>\n",
       "      <th>3219</th>\n",
       "      <td>/hpi/fs00/home/andrea.nathansen/workflow_test_...</td>\n",
       "      <td>P04114</td>\n",
       "      <td>P04114</td>\n",
       "      <td>APOB_HUMAN</td>\n",
       "      <td>APOB</td>\n",
       "      <td>NaN</td>\n",
       "      <td>NaN</td>\n",
       "      <td>NaN</td>\n",
       "      <td>NaN</td>\n",
       "      <td>NaN</td>\n",
       "      <td>...</td>\n",
       "      <td>NaN</td>\n",
       "      <td>NaN</td>\n",
       "      <td>NaN</td>\n",
       "      <td>NaN</td>\n",
       "      <td>NaN</td>\n",
       "      <td>NaN</td>\n",
       "      <td>NaN</td>\n",
       "      <td>NaN</td>\n",
       "      <td>NaN</td>\n",
       "      <td>NaN</td>\n",
       "    </tr>\n",
       "    <tr>\n",
       "      <th>...</th>\n",
       "      <td>...</td>\n",
       "      <td>...</td>\n",
       "      <td>...</td>\n",
       "      <td>...</td>\n",
       "      <td>...</td>\n",
       "      <td>...</td>\n",
       "      <td>...</td>\n",
       "      <td>...</td>\n",
       "      <td>...</td>\n",
       "      <td>...</td>\n",
       "      <td>...</td>\n",
       "      <td>...</td>\n",
       "      <td>...</td>\n",
       "      <td>...</td>\n",
       "      <td>...</td>\n",
       "      <td>...</td>\n",
       "      <td>...</td>\n",
       "      <td>...</td>\n",
       "      <td>...</td>\n",
       "      <td>...</td>\n",
       "      <td>...</td>\n",
       "    </tr>\n",
       "    <tr>\n",
       "      <th>5102</th>\n",
       "      <td>/hpi/fs00/home/andrea.nathansen/workflow_test_...</td>\n",
       "      <td>Q9H9B1;Q9H9B1-3</td>\n",
       "      <td>Q9H9B1;Q9H9B1-3</td>\n",
       "      <td>EHMT1_HUMAN</td>\n",
       "      <td>EHMT1</td>\n",
       "      <td>NaN</td>\n",
       "      <td>NaN</td>\n",
       "      <td>NaN</td>\n",
       "      <td>NaN</td>\n",
       "      <td>NaN</td>\n",
       "      <td>...</td>\n",
       "      <td>NaN</td>\n",
       "      <td>NaN</td>\n",
       "      <td>NaN</td>\n",
       "      <td>NaN</td>\n",
       "      <td>NaN</td>\n",
       "      <td>NaN</td>\n",
       "      <td>NaN</td>\n",
       "      <td>NaN</td>\n",
       "      <td>NaN</td>\n",
       "      <td>NaN</td>\n",
       "    </tr>\n",
       "    <tr>\n",
       "      <th>5103</th>\n",
       "      <td>/hpi/fs00/home/andrea.nathansen/workflow_test_...</td>\n",
       "      <td>P11586</td>\n",
       "      <td>P11586</td>\n",
       "      <td>C1TC_HUMAN</td>\n",
       "      <td>MTHFD1</td>\n",
       "      <td>NaN</td>\n",
       "      <td>NaN</td>\n",
       "      <td>NaN</td>\n",
       "      <td>NaN</td>\n",
       "      <td>NaN</td>\n",
       "      <td>...</td>\n",
       "      <td>NaN</td>\n",
       "      <td>NaN</td>\n",
       "      <td>NaN</td>\n",
       "      <td>NaN</td>\n",
       "      <td>NaN</td>\n",
       "      <td>NaN</td>\n",
       "      <td>NaN</td>\n",
       "      <td>NaN</td>\n",
       "      <td>NaN</td>\n",
       "      <td>NaN</td>\n",
       "    </tr>\n",
       "    <tr>\n",
       "      <th>5104</th>\n",
       "      <td>/hpi/fs00/home/andrea.nathansen/workflow_test_...</td>\n",
       "      <td>Q9P2N5</td>\n",
       "      <td>Q9P2N5</td>\n",
       "      <td>RBM27_HUMAN</td>\n",
       "      <td>RBM27</td>\n",
       "      <td>NaN</td>\n",
       "      <td>NaN</td>\n",
       "      <td>NaN</td>\n",
       "      <td>NaN</td>\n",
       "      <td>NaN</td>\n",
       "      <td>...</td>\n",
       "      <td>NaN</td>\n",
       "      <td>NaN</td>\n",
       "      <td>NaN</td>\n",
       "      <td>NaN</td>\n",
       "      <td>NaN</td>\n",
       "      <td>NaN</td>\n",
       "      <td>NaN</td>\n",
       "      <td>NaN</td>\n",
       "      <td>NaN</td>\n",
       "      <td>NaN</td>\n",
       "    </tr>\n",
       "    <tr>\n",
       "      <th>5105</th>\n",
       "      <td>/hpi/fs00/home/andrea.nathansen/workflow_test_...</td>\n",
       "      <td>Q9P2N5</td>\n",
       "      <td>Q9P2N5</td>\n",
       "      <td>RBM27_HUMAN</td>\n",
       "      <td>RBM27</td>\n",
       "      <td>NaN</td>\n",
       "      <td>NaN</td>\n",
       "      <td>NaN</td>\n",
       "      <td>NaN</td>\n",
       "      <td>NaN</td>\n",
       "      <td>...</td>\n",
       "      <td>NaN</td>\n",
       "      <td>NaN</td>\n",
       "      <td>NaN</td>\n",
       "      <td>NaN</td>\n",
       "      <td>NaN</td>\n",
       "      <td>NaN</td>\n",
       "      <td>NaN</td>\n",
       "      <td>NaN</td>\n",
       "      <td>NaN</td>\n",
       "      <td>NaN</td>\n",
       "    </tr>\n",
       "    <tr>\n",
       "      <th>5106</th>\n",
       "      <td>/hpi/fs00/home/andrea.nathansen/workflow_test_...</td>\n",
       "      <td>Q06203</td>\n",
       "      <td>Q06203</td>\n",
       "      <td>PUR1_HUMAN</td>\n",
       "      <td>PPAT</td>\n",
       "      <td>NaN</td>\n",
       "      <td>NaN</td>\n",
       "      <td>NaN</td>\n",
       "      <td>NaN</td>\n",
       "      <td>NaN</td>\n",
       "      <td>...</td>\n",
       "      <td>NaN</td>\n",
       "      <td>NaN</td>\n",
       "      <td>NaN</td>\n",
       "      <td>NaN</td>\n",
       "      <td>NaN</td>\n",
       "      <td>NaN</td>\n",
       "      <td>NaN</td>\n",
       "      <td>NaN</td>\n",
       "      <td>NaN</td>\n",
       "      <td>NaN</td>\n",
       "    </tr>\n",
       "  </tbody>\n",
       "</table>\n",
       "<p>1892 rows × 57 columns</p>\n",
       "</div>"
      ],
      "text/plain": [
       "                                              File.Name  \\\n",
       "3215  /hpi/fs00/home/andrea.nathansen/workflow_test_...   \n",
       "3216  /hpi/fs00/home/andrea.nathansen/workflow_test_...   \n",
       "3217  /hpi/fs00/home/andrea.nathansen/workflow_test_...   \n",
       "3218  /hpi/fs00/home/andrea.nathansen/workflow_test_...   \n",
       "3219  /hpi/fs00/home/andrea.nathansen/workflow_test_...   \n",
       "...                                                 ...   \n",
       "5102  /hpi/fs00/home/andrea.nathansen/workflow_test_...   \n",
       "5103  /hpi/fs00/home/andrea.nathansen/workflow_test_...   \n",
       "5104  /hpi/fs00/home/andrea.nathansen/workflow_test_...   \n",
       "5105  /hpi/fs00/home/andrea.nathansen/workflow_test_...   \n",
       "5106  /hpi/fs00/home/andrea.nathansen/workflow_test_...   \n",
       "\n",
       "                           Run             Protein.Group  \\\n",
       "3215  P31948;P31948-2;P31948-3  P31948;P31948-2;P31948-3   \n",
       "3216           P31948;P31948-2           P31948;P31948-2   \n",
       "3217  Q93074;Q93074-2;Q93074-3  Q93074;Q93074-2;Q93074-3   \n",
       "3218             P27694;X00001             P27694;X00001   \n",
       "3219                    P04114                    P04114   \n",
       "...                        ...                       ...   \n",
       "5102           Q9H9B1;Q9H9B1-3           Q9H9B1;Q9H9B1-3   \n",
       "5103                    P11586                    P11586   \n",
       "5104                    Q9P2N5                    Q9P2N5   \n",
       "5105                    Q9P2N5                    Q9P2N5   \n",
       "5106                    Q06203                    Q06203   \n",
       "\n",
       "                           Protein.Ids Protein.Names Genes  PG.Quantity  \\\n",
       "3215                       STIP1_HUMAN         STIP1   NaN          NaN   \n",
       "3216                       STIP1_HUMAN         STIP1   NaN          NaN   \n",
       "3217                       MED12_HUMAN         MED12   NaN          NaN   \n",
       "3218  PTM_Trainingskit_Kmod;RFA1_HUMAN          RPA1   NaN          NaN   \n",
       "3219                        APOB_HUMAN          APOB   NaN          NaN   \n",
       "...                                ...           ...   ...          ...   \n",
       "5102                       EHMT1_HUMAN         EHMT1   NaN          NaN   \n",
       "5103                        C1TC_HUMAN        MTHFD1   NaN          NaN   \n",
       "5104                       RBM27_HUMAN         RBM27   NaN          NaN   \n",
       "5105                       RBM27_HUMAN         RBM27   NaN          NaN   \n",
       "5106                        PUR1_HUMAN          PPAT   NaN          NaN   \n",
       "\n",
       "      PG.Normalised  PG.MaxLFQ  Genes.Quantity  ...  Decoy.Evidence  \\\n",
       "3215            NaN        NaN             NaN  ...             NaN   \n",
       "3216            NaN        NaN             NaN  ...             NaN   \n",
       "3217            NaN        NaN             NaN  ...             NaN   \n",
       "3218            NaN        NaN             NaN  ...             NaN   \n",
       "3219            NaN        NaN             NaN  ...             NaN   \n",
       "...             ...        ...             ...  ...             ...   \n",
       "5102            NaN        NaN             NaN  ...             NaN   \n",
       "5103            NaN        NaN             NaN  ...             NaN   \n",
       "5104            NaN        NaN             NaN  ...             NaN   \n",
       "5105            NaN        NaN             NaN  ...             NaN   \n",
       "5106            NaN        NaN             NaN  ...             NaN   \n",
       "\n",
       "     Decoy.CScore Fragment.Quant.Raw Fragment.Quant.Corrected  \\\n",
       "3215          NaN                NaN                      NaN   \n",
       "3216          NaN                NaN                      NaN   \n",
       "3217          NaN                NaN                      NaN   \n",
       "3218          NaN                NaN                      NaN   \n",
       "3219          NaN                NaN                      NaN   \n",
       "...           ...                ...                      ...   \n",
       "5102          NaN                NaN                      NaN   \n",
       "5103          NaN                NaN                      NaN   \n",
       "5104          NaN                NaN                      NaN   \n",
       "5105          NaN                NaN                      NaN   \n",
       "5106          NaN                NaN                      NaN   \n",
       "\n",
       "     Fragment.Correlations MS2.Scan  IM  iIM  Predicted.IM  Predicted.iIM  \n",
       "3215                   NaN      NaN NaN  NaN           NaN            NaN  \n",
       "3216                   NaN      NaN NaN  NaN           NaN            NaN  \n",
       "3217                   NaN      NaN NaN  NaN           NaN            NaN  \n",
       "3218                   NaN      NaN NaN  NaN           NaN            NaN  \n",
       "3219                   NaN      NaN NaN  NaN           NaN            NaN  \n",
       "...                    ...      ...  ..  ...           ...            ...  \n",
       "5102                   NaN      NaN NaN  NaN           NaN            NaN  \n",
       "5103                   NaN      NaN NaN  NaN           NaN            NaN  \n",
       "5104                   NaN      NaN NaN  NaN           NaN            NaN  \n",
       "5105                   NaN      NaN NaN  NaN           NaN            NaN  \n",
       "5106                   NaN      NaN NaN  NaN           NaN            NaN  \n",
       "\n",
       "[1892 rows x 57 columns]"
      ]
     },
     "execution_count": 8,
     "metadata": {},
     "output_type": "execute_result"
    }
   ],
   "source": [
    "# to account for mismatching columns in result tsv for decoys\n",
    "df_phospho_subset_decoys = df_phospho_subset_with_decoys[df_phospho_subset_with_decoys[\"Q.Value\"].isna()]\n",
    "df_phospho_subset_decoys.loc[:, \"Q.Value\"] = pd.to_numeric(df_phospho_subset_decoys[\"Precursor.Id\"])\n",
    "df_phospho_subset_decoys.loc[:, \"Precursor.Id\"] = df_phospho_subset_decoys[\"Modified.Sequence\"]\n",
    "df_phospho_subset_targets = df_phospho_subset_with_decoys[~df_phospho_subset_with_decoys[\"Q.Value\"].isna()]\n",
    "df_phospho_subset_decoys"
   ]
  },
  {
   "cell_type": "code",
   "execution_count": 11,
   "metadata": {},
   "outputs": [
    {
     "data": {
      "text/plain": [
       "1892"
      ]
     },
     "execution_count": 11,
     "metadata": {},
     "output_type": "execute_result"
    }
   ],
   "source": [
    "df_phospho_subset_decoys[\"Precursor.Id\"].str.contains(\"DECOY\").sum()"
   ]
  },
  {
   "cell_type": "code",
   "execution_count": 37,
   "metadata": {},
   "outputs": [
    {
     "data": {
      "text/plain": [
       "(array([828., 140.,  43.,  61.,  36.,  80.,  72.,  80.,  23.,  39.,  29.,\n",
       "         61.,  48.,  29.,  59.,  54.,  24.,  36.,  56.,  43.,  55.,  36.,\n",
       "         52.,  47.,  38.,  35.,  13.,  38.,  34.,  51.,  31.,  23.,  28.,\n",
       "         15.,  27.,  44.,  26.,  41.,  42.,  21.,  56.,  38.,  45.,  20.,\n",
       "         39.,  73.,  39.,  73.,  17.,  43.,  22.,  24.,  21.,  30.,  25.,\n",
       "         41.,  36.,  14.,  21.,   0.,   0.,   0.,   0.,   0.,   0.,   0.,\n",
       "          0.,   0.,   0.,   0.,   0.,   0.,   0.,   0.,   0.,   0.,   0.,\n",
       "          0.,   0.,   0.,   0.,   0.,   0.,   0.,   0.,   0.,   0.,   0.,\n",
       "          0.,   0.,   0.,   0.,   0.,   0.,   0.,   0.,   0.,   0.,   0.]),\n",
       " array([0.  , 0.01, 0.02, 0.03, 0.04, 0.05, 0.06, 0.07, 0.08, 0.09, 0.1 ,\n",
       "        0.11, 0.12, 0.13, 0.14, 0.15, 0.16, 0.17, 0.18, 0.19, 0.2 , 0.21,\n",
       "        0.22, 0.23, 0.24, 0.25, 0.26, 0.27, 0.28, 0.29, 0.3 , 0.31, 0.32,\n",
       "        0.33, 0.34, 0.35, 0.36, 0.37, 0.38, 0.39, 0.4 , 0.41, 0.42, 0.43,\n",
       "        0.44, 0.45, 0.46, 0.47, 0.48, 0.49, 0.5 , 0.51, 0.52, 0.53, 0.54,\n",
       "        0.55, 0.56, 0.57, 0.58, 0.59, 0.6 , 0.61, 0.62, 0.63, 0.64, 0.65,\n",
       "        0.66, 0.67, 0.68, 0.69, 0.7 , 0.71, 0.72, 0.73, 0.74, 0.75, 0.76,\n",
       "        0.77, 0.78, 0.79, 0.8 , 0.81, 0.82, 0.83, 0.84, 0.85, 0.86, 0.87,\n",
       "        0.88, 0.89, 0.9 , 0.91, 0.92, 0.93, 0.94, 0.95, 0.96, 0.97, 0.98,\n",
       "        0.99]),\n",
       " <BarContainer object of 99 artists>)"
      ]
     },
     "execution_count": 37,
     "metadata": {},
     "output_type": "execute_result"
    },
    {
     "data": {
      "image/png": "[encoded data removed]",
      "text/plain": [
       "<Figure size 640x480 with 1 Axes>"
      ]
     },
     "metadata": {},
     "output_type": "display_data"
    }
   ],
   "source": [
    "plt.hist(df_phospho_subset_decoys[\"Q.Value\"], bins=np.arange(0, 1, 0.01))\n",
    "plt.hist(df_phospho_subset_targets[\"Q.Value\"], bins=np.arange(0, 1, 0.01), alpha=0.8)"
   ]
  },
  {
   "cell_type": "code",
   "execution_count": 9,
   "metadata": {},
   "outputs": [
    {
     "data": {
      "text/plain": [
       "Index(['File.Name', 'Run', 'Protein.Group', 'Protein.Ids', 'Protein.Names',\n",
       "       'Genes', 'PG.Quantity', 'PG.Normalised', 'PG.MaxLFQ', 'Genes.Quantity',\n",
       "       'Genes.Normalised', 'Genes.MaxLFQ', 'Genes.MaxLFQ.Unique',\n",
       "       'Modified.Sequence', 'Stripped.Sequence', 'Precursor.Id',\n",
       "       'Precursor.Charge', 'Q.Value', 'PEP', 'Global.Q.Value',\n",
       "       'Protein.Q.Value', 'PG.Q.Value', 'Global.PG.Q.Value', 'GG.Q.Value',\n",
       "       'Translated.Q.Value', 'Proteotypic', 'Precursor.Quantity',\n",
       "       'Precursor.Normalised', 'Precursor.Translated', 'Translated.Quality',\n",
       "       'Ms1.Translated', 'Quantity.Quality', 'RT', 'RT.Start', 'RT.Stop',\n",
       "       'iRT', 'Predicted.RT', 'Predicted.iRT', 'Lib.Q.Value', 'Lib.PG.Q.Value',\n",
       "       'Ms1.Profile.Corr', 'Ms1.Area', 'Evidence', 'Spectrum.Similarity',\n",
       "       'Averagine', 'Mass.Evidence', 'CScore', 'Decoy.Evidence',\n",
       "       'Decoy.CScore', 'Fragment.Quant.Raw', 'Fragment.Quant.Corrected',\n",
       "       'Fragment.Correlations', 'MS2.Scan', 'IM', 'iIM', 'Predicted.IM',\n",
       "       'Predicted.iIM'],\n",
       "      dtype='object')"
      ]
     },
     "execution_count": 9,
     "metadata": {},
     "output_type": "execute_result"
    }
   ],
   "source": [
    "pd.read_csv(\"../../data/diann_results/dia_nn_results_filtered/report_filtered_phospho_with_decoys.tsv\", delimiter=\"\\t\").columns"
   ]
  },
  {
   "cell_type": "code",
   "execution_count": 7,
   "metadata": {},
   "outputs": [
    {
     "data": {
      "text/plain": [
       "array(['P27694;X00001', 'O14976;O14976-2;X00005',\n",
       "       'Q9NPA8;Q9NPA8-2;X00001', 'P07954;P07954-2', 'X00001',\n",
       "       'P37837;P37837-2;X00001', 'P29474;P29474-2;P29474-3;X00005',\n",
       "       'P18206;P18206-2',\n",
       "       'P06733;P09104;P13929;P09104-2;P13929-2;P13929-3;X00005', 'Q09666',\n",
       "       'Q9NUV9', 'P53041;X00005', 'X00005', 'Q9H0A0;Q9H0A0-2;X00001',\n",
       "       'Q13813;Q13813-2;Q13813-3;X00001', 'Q13237;Q13237-2',\n",
       "       'P09104;P09104-2', 'P02647', 'Q13813;Q13813-2;Q13813-3',\n",
       "       'Q99614;X00005', 'P18206;P18206-2;X00001',\n",
       "       'Q13428;Q13428-5;Q13428-2;Q13428-3;Q13428-4;Q13428-6;Q13428-7;Q13428-8;X00001',\n",
       "       'P27816;P27816-2;P27816-6;X00001', 'P20700;X00005',\n",
       "       'P25440;P25440-2;P25440-3;P25440-4;X00001',\n",
       "       'Q16630;Q16630-2;Q16630-3', 'P30049;X00001',\n",
       "       'Q13428;Q13428-5;Q13428-2;Q13428-3;Q13428-4;Q13428-6;Q13428-7;Q13428-8',\n",
       "       'P27824;P27824-2;X00005', 'Q9Y2W2;X00005', 'P49005;X00001',\n",
       "       'P12111;P12111-2', 'Q8WW12;Q8WW12-2;X00001',\n",
       "       'Q86V48;Q86V48-2;Q86V48-3;X00001', 'O14686;O14686-3;X00001',\n",
       "       'Q99590;Q99590-2;X00001', 'Q9UI10;Q9UI10-2;Q9UI10-3',\n",
       "       'Q9NZ63;X00001', 'Q9UHD8;Q9UHD8-2;Q9UHD8-5;Q9UHD8-7;X00001',\n",
       "       'Q9Y4R8;X00002', 'P10768;X00005', 'P10768', 'P27694',\n",
       "       'P50991;P50991-2;X00005', 'P55769;X00005',\n",
       "       'Q9Y618;Q9Y618-4;Q9Y618-5;X00001', 'P11142;P11142-2',\n",
       "       'P31948;P31948-2;P31948-3;X00001', 'O00479;X00001',\n",
       "       'O14744;O14744-2;O14744-3;O14744-5;X00005',\n",
       "       'Q9NVD7;Q9NVD7-2;X00001', 'Q9NVD7;Q9NVD7-2', 'P11586;X00005',\n",
       "       'Q9HBI1;X00001', 'P02747',\n",
       "       'Q9Y6Q9;Q9Y6Q9-2;Q9Y6Q9-3;Q9Y6Q9-4;Q9Y6Q9-5;X00001',\n",
       "       'P02647;X00005', 'O75347;X00005',\n",
       "       'Q14980;Q14980-3;Q14980-4;Q14980-2;Q14980-5;X00001',\n",
       "       'P20813;X00005', 'Q9BTT0;Q9BTT0-3;X00001', 'O43252;X00005',\n",
       "       'Q9NRA8;Q9NRA8-2;Q9NRA8-3;X00001',\n",
       "       'P29475;P29475-2;P29475-3;P29475-5', 'P07814;X00001',\n",
       "       'Q8WW12;Q8WW12-3;X00001', 'P01009;P01009-2;P01009-3;X00005',\n",
       "       'P68366;P68366-2;X00001', 'P26599;P26599-1;P26599-2;X00005',\n",
       "       'Q9UHB9;Q9UHB9-2;Q9UHB9-3;Q9UHB9-4;X00005',\n",
       "       'P00338;P00338-3;P00338-2;P00338-5;X00001;X00005',\n",
       "       'Q9UKV8;Q9UKV8-2;X00002', 'Q9UBB9;X00001',\n",
       "       'Q14247;Q14247-2;Q14247-3;X00001', 'P07195;X00005',\n",
       "       'P13929;P13929-2;P13929-3', 'P09622;P09622-2',\n",
       "       'P22626;P22626-2;X00001', 'P20908;P20908-2', 'Q07092;Q07092-2',\n",
       "       'P13942;P13942-2;P13942-3;P13942-4;P13942-5;P13942-6;P13942-7;P13942-8',\n",
       "       'P26599;P26599-1;P26599-2', 'P12107;P12107-2;P12107-3;P12107-4',\n",
       "       'Q99961;Q99961-3', 'Q08211',\n",
       "       'Q8NEY8;Q8NEY8-2;Q8NEY8-3;Q8NEY8-5;Q8NEY8-6;Q8NEY8-7;Q8NEY8-8;Q8NEY8-9;X00001',\n",
       "       'P04114', 'P20813', 'Q9UPT8', 'Q92526-3',\n",
       "       'O75400;O75400-2;O75400-3', 'P47897;P47897-2;X00001',\n",
       "       'P22102;P22102-2;X00005', 'P61247;X00001', 'P05181;X00005',\n",
       "       'Q9Y617;Q9Y617-2;X00001', 'Q06203;X00001', 'P19338;X00005',\n",
       "       'P01009;P01009-2;P01009-3', 'P33993;P33993-2;X00001;X00005',\n",
       "       'P33993;P33993-2;X00001',\n",
       "       'P15502;P15502-1;P15502-10;P15502-12;P15502-13;P15502-2;P15502-4;P15502-5;P15502-6;P15502-7;P15502-8;P15502-9;X00002',\n",
       "       'O00299;X00001', 'Q13148;Q13148-4;X00005', 'P60468;X00005',\n",
       "       'P02452', 'P14618;P14618-2;P14618-3;X00001', 'O77932;X00001',\n",
       "       'P12110;P12110-2;P12110-3', 'O75636;O75636-2;X00002',\n",
       "       'P08123;X00002', 'P02461;P02461-2', 'P0C862;X00002',\n",
       "       'Q15848;X00002', 'P35247;X00002', 'P02745;X00002',\n",
       "       'P20908;P20908-2;X00002', 'Q05707;Q05707-2;Q05707-3;X00002',\n",
       "       'P68366;P68366-2', 'Q04206;Q04206-2;Q04206-3;Q04206-4;X00005',\n",
       "       'B2RNN3;P0C862;X00002', 'Q09666;X00001', 'P02746;X00002', 'P25067',\n",
       "       'P02462;X00005', 'P02747;X00002',\n",
       "       'Q99715;Q99715-2;Q99715-4;X00002', 'P11226;X00002',\n",
       "       'P12111;P12111-2;P12111-4;X00002', 'Q15485;X00002', 'X00002',\n",
       "       'Q5VWN6;X00001', 'O94966-2;O94966-5;O94966-6;O94966-7;X00001',\n",
       "       'Q9Y3A5;X00001', 'Q13237;Q13237-2;X00005',\n",
       "       'Q16630;Q16630-2;Q16630-3;X00001',\n",
       "       'O14979;O14979-2;O14979-3;X00001', 'P05997;X00002',\n",
       "       'P02458;P02458-1', 'P51659;P51659-2;P51659-3;X00001',\n",
       "       'Q9BQ61;X00001',\n",
       "       'P0DPH7;P0DPH8;P68363;P68366;Q6PEY2;Q71U36;Q9BQE3;P0DPH7-2;P68366-2;Q71U36-2;X00005',\n",
       "       'P40926',\n",
       "       'P12107;P13942;P20908;P25940;P12107-2;P12107-3;P12107-4;P13942-2;P13942-3;P13942-4;P13942-5;P13942-6;P13942-7;P13942-8;P20908-2;X00002',\n",
       "       'Q14031;Q14031-2', 'P02462', 'Q02388;Q02388-2;X00002',\n",
       "       'P30086;X00005', 'P08123',\n",
       "       'P02452;P02458;P12107;P20908;Q15485;P02458-1;P12107-2;P12107-3;P12107-4;Q15485-2;P20908-2;X00002',\n",
       "       'P08123;Q6P1N0;Q99715;Q6P1N0-2;Q99715-2;Q99715-4;X00002',\n",
       "       'O43660;O43660-2;X00005', 'P39060;P39060-1;P39060-2',\n",
       "       'P61221;X00005', 'P35520;P35520-2;X00001', 'Q99829;X00001',\n",
       "       'P30085;P30085-3',\n",
       "       'P20810;P20810-10;P20810-2;P20810-3;P20810-4;P20810-5;P20810-6;P20810-7;P20810-8;P20810-9;X00001',\n",
       "       'Q12996;X00005', 'P13639;X00005',\n",
       "       'P60174;P60174-3;P60174-4;X00001', 'P20813;P20813-2;X00005',\n",
       "       'Q01518;Q01518-2;X00001', 'Q13813;Q13813-2;Q13813-3;X00005',\n",
       "       'P40926;X00005', 'P04179;P04179-2;P04179-3;P04179-4;X00005',\n",
       "       'Q13017;Q13017-2;X00005',\n",
       "       'P35240;P35240-4;P35240-2;P35240-3;P35240-5;P35240-6;P35240-8;X00001',\n",
       "       'Q9Y4R8', 'Q96A49', 'Q00341;Q00341-2;X00001',\n",
       "       'P13929;P13929-2;P13929-3;X00005', 'P19338',\n",
       "       'Q04637;Q04637-9;Q04637-3;Q04637-4;Q04637-5;Q04637-6;Q04637-7;Q04637-8;X00001',\n",
       "       'Q8WUF8;Q8WUF8-2;Q8WUF8-3;Q8WUF8-4;X00001',\n",
       "       'P11021;P11142;P34931;P54652;P11142-2;X00001',\n",
       "       'P11142;P54652;P11142-2;X00001', 'P62258;P62258-2;X00001',\n",
       "       'Q9P1Y5;Q9P1Y5-2', 'P13797;P13797-3;X00001',\n",
       "       'Q9BY43;Q9BY43-2;X00001', 'Q9BYD2;X00001',\n",
       "       'Q14966;Q14966-3;Q14966-5;X00001',\n",
       "       'Q93074;Q93074-2;Q93074-3;X00001', 'Q96A49;X00001',\n",
       "       'P09622;P09622-2;X00001', 'P26599;P26599-1;P26599-2;X00001',\n",
       "       'P30085;P30085-3;X00001', 'Q96TA1;Q96TA1-2;X00001',\n",
       "       'P00338;P00338-3;P00338-2;P00338-5;X00001',\n",
       "       'P07954;P07954-2;X00005', 'P46821', 'Q9UHD8-7',\n",
       "       'P32121;P32121-2;P32121-3;P32121-4;P32121-5;X00002',\n",
       "       'P49411;X00001', 'Q02790;X00001', 'Q9NUV9;X00005', 'P30101;X00005',\n",
       "       'Q9UBT2;Q9UBT2-2;X00001', 'Q16595;X00005', 'Q5T9S5;Q5T9S5-2',\n",
       "       'P05230;X00005', 'P05230', 'O94906;O94906-2;X00001',\n",
       "       'Q8IVF2;Q8IVF2-3', 'P67936;P67936-2;X00001',\n",
       "       'P25705;P25705-2;P25705-3;X00005', 'P48047;X00001',\n",
       "       'Q16595;Q16595-2;Q16595-3;X00005', 'P07339;CON_P07339',\n",
       "       'P78371;P78371-2;X00005', 'Q2KJY2;Q2KJY2-2', 'P08708;X00001',\n",
       "       'O00483;X00005',\n",
       "       'P12107;P13942;P20908;P12107-2;P12107-3;P12107-4;P13942-2;P13942-3;P13942-4;P13942-5;P13942-6;P13942-7;P13942-8;P20908-2;X00002',\n",
       "       'Q96CT7;X00001', 'Q96CT7', 'Q8N7H5;Q8N7H5-2;Q8N7H5-3;X00001',\n",
       "       'O43670;O43670-2;O43670-4;X00001', 'O43670;O43670-2;O43670-4',\n",
       "       'Q96ST3;X00001', 'Q9Y230;Q9Y230-2;X00001', 'Q9BSH5;X00001',\n",
       "       'P46060;X00001', 'Q9UI10;Q9UI10-2;Q9UI10-3;X00005',\n",
       "       'Q01082;Q01082-2;Q01082-3;X00001', 'Q00341;Q00341-2',\n",
       "       'Q15059;X00001', 'Q09161;X00001', 'Q9BSH5', 'Q9Y266;X00001',\n",
       "       'Q7L014;X00005', 'P33993',\n",
       "       'Q8NHL6;Q8NHL6-5;Q8NHL6-2;Q8NHL6-3;Q8NHL6-4',\n",
       "       'P01009;P01009-2;X00005', 'P04114;X00005',\n",
       "       'Q08J23;Q08J23-2;Q08J23-3;X00005',\n",
       "       'O95758;P26599;O95758-1;O95758-2;O95758-4;O95758-5;O95758-6;O95758-7;P26599-1;P26599-2;X00001',\n",
       "       'P07339;CON_P07339;X00005', 'P08133;P08133-2;X00005',\n",
       "       'P50990;P50990-2;P50990-3;X00005', 'P62750;X00005',\n",
       "       'Q9Y6A4;X00005', 'O14802;X00001', 'Q9H3K6;Q9H3K6-2;X00005',\n",
       "       'P54652', 'Q13765;E9PAV3;E9PAV3-2', 'O95466;O95466-2;O95466-3',\n",
       "       'O43818;X00001', 'P46779;P46779-2;P46779-3;X00005',\n",
       "       'O94966-5;O94966-6;O94966-7', 'Q9ULH1;Q9ULH1-2',\n",
       "       'P15502;P15502-1;P15502-10;P15502-11;P15502-12;P15502-13;P15502-2;P15502-4;P15502-5;P15502-6;P15502-7;P15502-8;P15502-9;X00002',\n",
       "       'B2RNN3;P0C862', 'Q8NFW1;Q8NFW1-2;Q8NFW1-3',\n",
       "       'P12107;P20908;P12107-2;P12107-3;P12107-4;P20908-2;X00002',\n",
       "       'P01042;P01042-2;P01042-3;X00002', 'Q9P2N5;X00001',\n",
       "       'Q8NEY8;Q8NEY8-2;Q8NEY8-3;Q8NEY8-5;Q8NEY8-6;Q8NEY8-7;Q8NEY8-8;Q8NEY8-9',\n",
       "       'Q9UPP1;Q9UPP1-2;Q9UPP1-3;Q9UPP1-4;X00001', 'Q6ZU65;X00001',\n",
       "       'P01112;P01112-2;CON_P01112', 'P23246;P23246-2', 'P08670',\n",
       "       'Q8WWY3;X00001', 'O43660-2',\n",
       "       'Q99081;Q99081-3;Q99081-2;Q99081-4;X00001',\n",
       "       'O75400;O75400-2;O75400-3;X00001', 'Q92620;X00001', 'Q92620',\n",
       "       'P12004;X00005', 'P01112;P01112-2;CON_P01112;X00005',\n",
       "       'O00571;O00571-2', 'P06744;X00001', 'O00571;O00571-2;X00001',\n",
       "       'Q5JRX3;Q5JRX3-2;Q5JRX3-3;X00001', 'Q9Y618;Q9Y618-4;Q9Y618-5',\n",
       "       'P13797;P13797-2;P13797-3;X00001', 'P53041',\n",
       "       'P18583;P18583-2;P18583-5;P18583-7;P18583-9', 'P34931',\n",
       "       'Q9H9B1;Q9H9B1-3;Q9H9B1-4;X00001', 'Q03989;Q03989-5;X00001',\n",
       "       'Q9H8Y5;X00001', 'Q9BUL9;X00001',\n",
       "       'Q4LE39;Q4LE39-3;Q4LE39-2;Q4LE39-4', 'P31947;P31947-2;X00001',\n",
       "       'Q13765;E9PAV3;E9PAV3-2;X00005', 'Q9P2R7;Q9P2R7-2;X00001',\n",
       "       'P46821;X00001', 'Q96QC0;X00001', 'P08670;X00005', 'P14902;X00005',\n",
       "       'Q8N684;Q8N684-3;Q8N684-2;X00005',\n",
       "       'O95466;O95466-2;O95466-3;X00005', 'Q9UHD1;Q9UHD1-2;X00005',\n",
       "       'Q8NEZ4;Q8NEZ4-2;Q8NEZ4-3;X00001',\n",
       "       'P40227;Q92526;P40227-2;Q92526-2;X00005',\n",
       "       'Q99832;Q99832-2;Q99832-3;Q99832-4;X00005',\n",
       "       'P78344;P78344-2;X00001', 'Q8IYH5;Q8IYH5-2;Q8IYH5-3;X00001',\n",
       "       'P36871;X00001', 'Q14847;Q14847-2;Q14847-3;X00001',\n",
       "       'P51149;X00005', 'P61247;X00005',\n",
       "       'Q4LE39;Q4LE39-3;Q4LE39-2;Q4LE39-4;X00001',\n",
       "       'P52209;P52209-2;X00001', 'P11142;P11142-2;X00005',\n",
       "       'P29474;X00005', 'Q15485;Q15485-2', 'P62081;X00005',\n",
       "       'Q16890;Q16890-5;X00001', 'O15381;O15381-5;X00001',\n",
       "       'P30050;X00001', 'P10599;P10599-2;CON_P10599;X00001',\n",
       "       'P10809;X00001', 'Q2TAL8;X00001', 'P62266;X00002',\n",
       "       'Q9H074;Q9H074-2;Q9H074-3;X00005', 'Q14683;X00005',\n",
       "       'P06576;X00001', 'Q9NV56;X00001',\n",
       "       'P55209;P55209-2;P55209-3;X00001',\n",
       "       'O75369;O75369-2;O75369-3;O75369-6;O75369-4;O75369-5;O75369-7;O75369-8;O75369-9;X00001',\n",
       "       'Q13257;X00005', 'P15502;P15502-4;P15502-9;X00002',\n",
       "       'Q96TA1;Q96TA1-2', 'Q99832;Q99832-3;Q99832-4;X00001',\n",
       "       'Q9UHB7;Q9UHB7-2;X00001', 'O60869;O60869-2;O60869-3;X00001',\n",
       "       'P27824;P27824-2', 'P06576;X00005', 'P06733', 'O75390;X00005',\n",
       "       'O75368;X00001', 'Q86VP6;Q86VP6-2;X00005',\n",
       "       'Q9Y230;Q9Y230-2;X00005',\n",
       "       'Q16629;Q16629-2;Q16629-3;Q16629-4;X00005',\n",
       "       'Q8TEP8;Q8TEP8-1;X00002',\n",
       "       'Q5JTV8;Q5JTV8-2;Q5JTV8-3;Q5JTV8-4;X00005', 'Q02878;X00005',\n",
       "       'Q9BRQ6;X00001', 'Q16629;Q16629-2;Q16629-3;Q16629-4',\n",
       "       'Q9BWJ5;X00005', 'O43825', 'Q15019;Q15019-3;Q15019-2;X00005',\n",
       "       'Q8NHL6;Q8NHL6-5;Q8NHL6-2;Q8NHL6-3;Q8NHL6-4;X00005',\n",
       "       'O75947;X00005', 'Q08211;X00005', 'P46459;P46459-2;X00005',\n",
       "       'Q92922;X00005'], dtype=object)"
      ]
     },
     "execution_count": 7,
     "metadata": {},
     "output_type": "execute_result"
    }
   ],
   "source": [
    "df_phospho_all[\"Protein.Ids\"].unique()"
   ]
  },
  {
   "cell_type": "code",
   "execution_count": 8,
   "metadata": {},
   "outputs": [
    {
     "data": {
      "text/plain": [
       "924"
      ]
     },
     "execution_count": 8,
     "metadata": {},
     "output_type": "execute_result"
    }
   ],
   "source": [
    "df_phospho_all[df_phospho_all[\"Protein.Q.Value\"] <= 0.01][\"Protein.Ids\"].str.contains(\"X0000\").sum()"
   ]
  },
  {
   "cell_type": "code",
   "execution_count": 9,
   "metadata": {},
   "outputs": [
    {
     "data": {
      "text/plain": [
       "1109"
      ]
     },
     "execution_count": 9,
     "metadata": {},
     "output_type": "execute_result"
    }
   ],
   "source": [
    "len(df_phospho_all[df_phospho_all[\"Protein.Q.Value\"] <= 0.01])"
   ]
  },
  {
   "cell_type": "code",
   "execution_count": 47,
   "metadata": {},
   "outputs": [
    {
     "data": {
      "text/plain": [
       "1178"
      ]
     },
     "execution_count": 47,
     "metadata": {},
     "output_type": "execute_result"
    }
   ],
   "source": [
    "df_phospho_all[\"Protein.Ids\"].str.contains(\"X0000\").sum()"
   ]
  },
  {
   "cell_type": "code",
   "execution_count": 10,
   "metadata": {},
   "outputs": [
    {
     "data": {
      "text/plain": [
       "0       controllerType=0 controllerNumber=1 scan=59286\n",
       "1       controllerType=0 controllerNumber=1 scan=58487\n",
       "2       controllerType=0 controllerNumber=1 scan=37681\n",
       "3       controllerType=0 controllerNumber=1 scan=37032\n",
       "4       controllerType=0 controllerNumber=1 scan=20370\n",
       "                             ...                      \n",
       "3210    controllerType=0 controllerNumber=1 scan=34314\n",
       "3211    controllerType=0 controllerNumber=1 scan=65050\n",
       "3212    controllerType=0 controllerNumber=1 scan=55565\n",
       "3213    controllerType=0 controllerNumber=1 scan=54973\n",
       "3214    controllerType=0 controllerNumber=1 scan=57094\n",
       "Name: original_ids, Length: 3215, dtype: object"
      ]
     },
     "execution_count": 10,
     "metadata": {},
     "output_type": "execute_result"
    }
   ],
   "source": [
    "df_phospho_subset[\"original_ids\"]"
   ]
  },
  {
   "cell_type": "code",
   "execution_count": 11,
   "metadata": {},
   "outputs": [
    {
     "data": {
      "text/plain": [
       "1368"
      ]
     },
     "execution_count": 11,
     "metadata": {},
     "output_type": "execute_result"
    }
   ],
   "source": [
    "len(df_phospho_all[\"Precursor.Id\"].unique())"
   ]
  },
  {
   "cell_type": "code",
   "execution_count": 12,
   "metadata": {},
   "outputs": [
    {
     "data": {
      "text/plain": [
       "3215"
      ]
     },
     "execution_count": 12,
     "metadata": {},
     "output_type": "execute_result"
    }
   ],
   "source": [
    "len(df_phospho_subset[\"MS2.Scan\"])"
   ]
  },
  {
   "cell_type": "code",
   "execution_count": 13,
   "metadata": {},
   "outputs": [
    {
     "data": {
      "text/plain": [
       "224"
      ]
     },
     "execution_count": 13,
     "metadata": {},
     "output_type": "execute_result"
    }
   ],
   "source": [
    "df_phospho_all[df_phospho_all[\"Protein.Q.Value\"] <= 0.01][\"Modified.Sequence\"].str.contains(\"UniMod:21\").sum()"
   ]
  },
  {
   "cell_type": "code",
   "execution_count": 14,
   "metadata": {},
   "outputs": [
    {
     "data": {
      "text/plain": [
       "373"
      ]
     },
     "execution_count": 14,
     "metadata": {},
     "output_type": "execute_result"
    }
   ],
   "source": [
    "df_phospho_all[\"Modified.Sequence\"].str.contains(\"UniMod:21\").sum()"
   ]
  },
  {
   "cell_type": "code",
   "execution_count": 16,
   "metadata": {},
   "outputs": [
    {
     "data": {
      "text/plain": [
       "225"
      ]
     },
     "execution_count": 16,
     "metadata": {},
     "output_type": "execute_result"
    }
   ],
   "source": [
    "df_phospho_subset[df_phospho_subset[\"Modified.Sequence\"].str.contains(\"UniMod:21\")][\"Protein.Ids\"].str.contains(\"X00005\").sum()"
   ]
  },
  {
   "cell_type": "code",
   "execution_count": 17,
   "metadata": {},
   "outputs": [
    {
     "data": {
      "text/plain": [
       "532"
      ]
     },
     "execution_count": 17,
     "metadata": {},
     "output_type": "execute_result"
    }
   ],
   "source": [
    "df_phospho_subset[\"Modified.Sequence\"].str.contains(\"UniMod:21\").sum()"
   ]
  },
  {
   "cell_type": "code",
   "execution_count": 18,
   "metadata": {},
   "outputs": [
    {
     "data": {
      "text/plain": [
       "286"
      ]
     },
     "execution_count": 18,
     "metadata": {},
     "output_type": "execute_result"
    }
   ],
   "source": [
    "len(df_phospho_all[np.logical_and(df_phospho_all[\"Modified.Sequence\"].str.contains(\"UniMod:21\"), df_phospho_all[\"Protein.Ids\"].str.contains(\"X00005\"))])"
   ]
  },
  {
   "cell_type": "code",
   "execution_count": 34,
   "metadata": {},
   "outputs": [
    {
     "data": {
      "text/plain": [
       "13"
      ]
     },
     "execution_count": 34,
     "metadata": {},
     "output_type": "execute_result"
    }
   ],
   "source": [
    "len(df_phospho_subset[np.logical_and(np.logical_and(df_phospho_subset[\"Q.Value\"] < 0.9, df_phospho_subset[\"Modified.Sequence\"].str.contains(\"UniMod:21\")), df_phospho_subset[\"Protein.Ids\"].str.contains(\"X00002\"))])"
   ]
  },
  {
   "cell_type": "code",
   "execution_count": 29,
   "metadata": {},
   "outputs": [
    {
     "data": {
      "text/plain": [
       "378"
      ]
     },
     "execution_count": 29,
     "metadata": {},
     "output_type": "execute_result"
    }
   ],
   "source": [
    "len(df_phospho_subset[np.logical_and(df_phospho_subset[\"Q.Value\"] < 0.114888, df_phospho_subset[\"Modified.Sequence\"].str.contains(\"UniMod:21\"))])"
   ]
  },
  {
   "cell_type": "code",
   "execution_count": 28,
   "metadata": {},
   "outputs": [
    {
     "data": {
      "text/plain": [
       "1463"
      ]
     },
     "execution_count": 28,
     "metadata": {},
     "output_type": "execute_result"
    }
   ],
   "source": [
    "(df_phospho_subset[\"Q.Value\"] < 0.114888).sum()"
   ]
  },
  {
   "cell_type": "code",
   "execution_count": 39,
   "metadata": {},
   "outputs": [],
   "source": [
    "subset_matching_windows = df_phospho_subset.merge(df_phospho_all, on=\"original_ids\", suffixes=(\"_subset\", \"_all\"))\n",
    "subset_matching_windows_precursors = subset_matching_windows[subset_matching_windows[\"Precursor.Id_subset\"] == subset_matching_windows[\"Precursor.Id_all\"]]"
   ]
  },
  {
   "cell_type": "code",
   "execution_count": 41,
   "metadata": {},
   "outputs": [],
   "source": [
    "subset_matching_windows_not_precursors = subset_matching_windows[subset_matching_windows[\"Precursor.Id_subset\"] != subset_matching_windows[\"Precursor.Id_all\"]]"
   ]
  },
  {
   "cell_type": "code",
   "execution_count": 48,
   "metadata": {},
   "outputs": [
    {
     "data": {
      "text/plain": [
       "23"
      ]
     },
     "execution_count": 48,
     "metadata": {},
     "output_type": "execute_result"
    }
   ],
   "source": [
    "len(subset_matching_windows_not_precursors[np.logical_and(subset_matching_windows_not_precursors[\"Modified.Sequence_subset\"].str.contains(\"UniMod:21\"), subset_matching_windows_not_precursors[\"Modified.Sequence_all\"].str.contains(\"UniMod:21\"))])"
   ]
  },
  {
   "cell_type": "code",
   "execution_count": 50,
   "metadata": {},
   "outputs": [],
   "source": [
    "subset_matching_precursors = df_phospho_subset.merge(df_phospho_all, on=\"Precursor.Id\", suffixes=(\"_subset\", \"_all\"))"
   ]
  },
  {
   "cell_type": "code",
   "execution_count": 54,
   "metadata": {},
   "outputs": [
    {
     "data": {
      "text/plain": [
       "Index(['File.Name_subset', 'Run_subset', 'Protein.Group_subset',\n",
       "       'Protein.Ids_subset', 'Protein.Names_subset', 'Genes_subset',\n",
       "       'PG.Quantity_subset', 'PG.Normalised_subset', 'PG.MaxLFQ_subset',\n",
       "       'Genes.Quantity_subset',\n",
       "       ...\n",
       "       'Fragment.Quant.Raw_all', 'Fragment.Quant.Corrected_all',\n",
       "       'Fragment.Correlations_all', 'MS2.Scan_all', 'IM_all', 'iIM_all',\n",
       "       'Predicted.IM_all', 'Predicted.iIM_all', 'remapped_ids_all',\n",
       "       'original_ids_all'],\n",
       "      dtype='object', length=117)"
      ]
     },
     "execution_count": 54,
     "metadata": {},
     "output_type": "execute_result"
    }
   ],
   "source": [
    "subset_matching_precursors.columns"
   ]
  },
  {
   "cell_type": "code",
   "execution_count": 58,
   "metadata": {},
   "outputs": [],
   "source": [
    "subset_matching_precursors_not_windows = subset_matching_precursors[subset_matching_precursors[\"original_ids_subset\"] != subset_matching_precursors[\"original_ids_all\"]]"
   ]
  },
  {
   "cell_type": "code",
   "execution_count": 69,
   "metadata": {},
   "outputs": [
    {
     "data": {
      "text/plain": [
       "193"
      ]
     },
     "execution_count": 69,
     "metadata": {},
     "output_type": "execute_result"
    }
   ],
   "source": [
    "(~subset_matching_precursors_not_windows[\"original_ids_all\"].isin(mapping_df_subset[\"original_id\"])).sum()"
   ]
  },
  {
   "cell_type": "code",
   "execution_count": 62,
   "metadata": {},
   "outputs": [
    {
     "data": {
      "text/plain": [
       "36"
      ]
     },
     "execution_count": 62,
     "metadata": {},
     "output_type": "execute_result"
    }
   ],
   "source": [
    "subset_matching_precursors_not_windows[\"Modified.Sequence_all\"].str.contains(\"UniMod:21\").sum()"
   ]
  },
  {
   "cell_type": "code",
   "execution_count": 69,
   "metadata": {},
   "outputs": [],
   "source": [
    "# subset_matching_windows = df_phospho_subset[np.logical_and(df_phospho_subset[\"original_ids\"].isin(df_phospho_all[\"original_ids\"]), df_phospho_subset[\"Precursor.Id\"].isin(df_phospho_all[\"Precursor.Id\"]))]\n",
    "# subset_matching_windows_precursors = subset_matching_windows[subset_matching_windows[\"Precursor.Id\"].isin(df_phospho_all[\"Precursor.Id\"])]"
   ]
  },
  {
   "cell_type": "code",
   "execution_count": 26,
   "metadata": {},
   "outputs": [
    {
     "data": {
      "text/plain": [
       "(571, 0.114888)"
      ]
     },
     "execution_count": 26,
     "metadata": {},
     "output_type": "execute_result"
    }
   ],
   "source": [
    "len(subset_matching_windows_precursors), subset_matching_windows_precursors[\"Q.Value_subset\"].max()"
   ]
  },
  {
   "cell_type": "code",
   "execution_count": 31,
   "metadata": {},
   "outputs": [
    {
     "data": {
      "text/plain": [
       "(array([551.,  13.,   5.,   0.,   0.,   0.,   1.,   0.,   0.,   0.,   0.,\n",
       "          1.,   0.,   0.,   0.,   0.,   0.,   0.,   0.,   0.,   0.,   0.,\n",
       "          0.,   0.,   0.,   0.,   0.,   0.,   0.,   0.,   0.,   0.,   0.,\n",
       "          0.,   0.,   0.,   0.,   0.,   0.,   0.,   0.,   0.,   0.,   0.,\n",
       "          0.,   0.,   0.,   0.,   0.,   0.,   0.,   0.,   0.,   0.,   0.,\n",
       "          0.,   0.,   0.,   0.,   0.,   0.,   0.,   0.,   0.,   0.,   0.,\n",
       "          0.,   0.,   0.]),\n",
       " array([0.  , 0.01, 0.02, 0.03, 0.04, 0.05, 0.06, 0.07, 0.08, 0.09, 0.1 ,\n",
       "        0.11, 0.12, 0.13, 0.14, 0.15, 0.16, 0.17, 0.18, 0.19, 0.2 , 0.21,\n",
       "        0.22, 0.23, 0.24, 0.25, 0.26, 0.27, 0.28, 0.29, 0.3 , 0.31, 0.32,\n",
       "        0.33, 0.34, 0.35, 0.36, 0.37, 0.38, 0.39, 0.4 , 0.41, 0.42, 0.43,\n",
       "        0.44, 0.45, 0.46, 0.47, 0.48, 0.49, 0.5 , 0.51, 0.52, 0.53, 0.54,\n",
       "        0.55, 0.56, 0.57, 0.58, 0.59, 0.6 , 0.61, 0.62, 0.63, 0.64, 0.65,\n",
       "        0.66, 0.67, 0.68, 0.69]),\n",
       " <BarContainer object of 69 artists>)"
      ]
     },
     "execution_count": 31,
     "metadata": {},
     "output_type": "execute_result"
    },
    {
     "data": {
      "image/png": "[encoded data removed]",
      "text/plain": [
       "<Figure size 640x480 with 1 Axes>"
      ]
     },
     "metadata": {},
     "output_type": "display_data"
    }
   ],
   "source": [
    "plt.hist(df_phospho_subset[\"Q.Value\"], bins=np.arange(0, 0.7, 0.01))\n",
    "plt.hist(subset_matching_windows_precursors[\"Q.Value_subset\"], bins=np.arange(0, 0.7, 0.01))\n",
    "#plt.bar(subset_matching_windows_precursors[\"Q.Value_subset\"], np.repeat(300, len(subset_matching_windows_precursors)), width=0.002, color=\"orange\")"
   ]
  },
  {
   "cell_type": "code",
   "execution_count": 68,
   "metadata": {},
   "outputs": [
    {
     "data": {
      "text/plain": [
       "<BarContainer object of 584 artists>"
      ]
     },
     "execution_count": 68,
     "metadata": {},
     "output_type": "execute_result"
    },
    {
     "data": {
      "image/png": "[encoded data removed]",
      "text/plain": [
       "<Figure size 640x480 with 1 Axes>"
      ]
     },
     "metadata": {},
     "output_type": "display_data"
    }
   ],
   "source": [
    "# subset_likely_true_precursors = df_phospho_subset[df_phospho_subset[\"Precursor.Id\"].isin(df_phospho_all[\"Precursor.Id\"])]\n",
    "# plt.hist(df_phospho_subset[\"Q.Value\"], bins=np.arange(0, 0.7, 0.01))\n",
    "# plt.bar(subset_likely_true_precursors[\"Q.Value\"], np.repeat(300, len(subset_likely_true_precursors)), width=0.001, color=\"orange\")"
   ]
  }
 ],
 "metadata": {
  "kernelspec": {
   "display_name": "ptm-search",
   "language": "python",
   "name": "python3"
  },
  "language_info": {
   "codemirror_mode": {
    "name": "ipython",
    "version": 3
   },
   "file_extension": ".py",
   "mimetype": "text/x-python",
   "name": "python",
   "nbconvert_exporter": "python",
   "pygments_lexer": "ipython3",
   "version": "3.11.8"
  }
 },
 "nbformat": 4,
 "nbformat_minor": 2
}
