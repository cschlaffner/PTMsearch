{
 "cells": [
  {
   "cell_type": "markdown",
   "metadata": {},
   "source": [
    "# Predictions for PTMs unsupported by the predictor\n",
    "Comparison of results for different PTMs that are not supported by the DIA-NN predictor to see whether they are taken into account during prediction"
   ]
  },
  {
   "cell_type": "code",
   "execution_count": 1,
   "metadata": {},
   "outputs": [],
   "source": [
    "import pandas as pd\n",
    "import numpy as np"
   ]
  },
  {
   "cell_type": "code",
   "execution_count": 9,
   "metadata": {},
   "outputs": [],
   "source": [
    "r_5 = pd.read_csv(\"../../dia_nn_results_filtered/report_filtered_5mods_together_all_spectra.tsv\", delimiter=\"\\t\")\n",
    "r_ac = pd.read_csv(\"../../dia_nn_results_filtered/report_filtered_acetyl_all_spectra.tsv\", delimiter=\"\\t\")\n",
    "r_di = pd.read_csv(\"../../dia_nn_results_filtered/report_filtered_dimethyl_all_spectra.tsv\", delimiter=\"\\t\")\n",
    "\n",
    "u_5 = pd.read_csv(\"../../dia_nn_results_filtered/report_filtered_5mods_together_unmod.tsv\", delimiter=\"\\t\")"
   ]
  },
  {
   "cell_type": "code",
   "execution_count": 10,
   "metadata": {},
   "outputs": [
    {
     "name": "stdout",
     "output_type": "stream",
     "text": [
      "2177\n",
      "581\n",
      "330\n"
     ]
    }
   ],
   "source": [
    "print(np.logical_and(r_5[\"Precursor.Id\"].str.contains(\"UniMod\"), ~r_5[\"Precursor.Id\"].str.contains(\"UniMod:21\")).sum())\n",
    "\n",
    "print(r_ac[\"Precursor.Id\"].str.contains(\"UniMod\").sum())\n",
    "print(r_di[\"Precursor.Id\"].str.contains(\"UniMod\").sum())"
   ]
  },
  {
   "cell_type": "code",
   "execution_count": 11,
   "metadata": {},
   "outputs": [
    {
     "name": "stdout",
     "output_type": "stream",
     "text": [
      "285\n"
     ]
    }
   ],
   "source": [
    "print(np.logical_and(u_5[\"Precursor.Id\"].str.contains(\"UniMod\"), ~u_5[\"Precursor.Id\"].str.contains(\"UniMod:21\")).sum())\n"
   ]
  }
 ],
 "metadata": {
  "kernelspec": {
   "display_name": "ptm-search",
   "language": "python",
   "name": "python3"
  },
  "language_info": {
   "codemirror_mode": {
    "name": "ipython",
    "version": 3
   },
   "file_extension": ".py",
   "mimetype": "text/x-python",
   "name": "python",
   "nbconvert_exporter": "python",
   "pygments_lexer": "ipython3",
   "version": "3.11.8"
  }
 },
 "nbformat": 4,
 "nbformat_minor": 2
}
