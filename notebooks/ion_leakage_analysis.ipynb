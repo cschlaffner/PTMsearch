{
 "cells": [
  {
   "cell_type": "markdown",
   "metadata": {},
   "source": [
    "# Check for ion leakage over time\n",
    "To check whether ion leakage over time occurred, the tyrosine phospho ion intensity curve over subsequent higher-energy MS2 spectra was examined."
   ]
  },
  {
   "cell_type": "code",
   "execution_count": 1,
   "metadata": {},
   "outputs": [],
   "source": [
    "import pandas as pd\n",
    "from pyopenms import MzMLFile, MSExperiment\n",
    "import numpy as np\n",
    "import re\n",
    "import matplotlib.pyplot as plt"
   ]
  },
  {
   "cell_type": "code",
   "execution_count": null,
   "metadata": {},
   "outputs": [],
   "source": [
    "tolerance_margin = 216.042 * 10 / 1e6\n",
    "print(216.042 - tolerance_margin, 216.042 + tolerance_margin)"
   ]
  },
  {
   "cell_type": "code",
   "execution_count": 3,
   "metadata": {},
   "outputs": [],
   "source": [
    "def ion_detection(spectrum):\n",
    "    spectrum_mz, intensities = spectrum.get_peaks()\n",
    "    lower_border = np.searchsorted(spectrum_mz, 216.042 - tolerance_margin, side=\"left\")\n",
    "    higher_border = np.searchsorted(spectrum_mz, 216.042 + tolerance_margin, side=\"right\")\n",
    "\n",
    "    detected_peaks_mz = spectrum_mz[lower_border:higher_border]\n",
    "    detected_peaks_intensities = intensities[lower_border:higher_border]\n",
    "    if len(detected_peaks_mz) == 0:\n",
    "        return None, 0\n",
    "    max_peak_idx = np.argmax(detected_peaks_intensities)\n",
    "    max_peak_mz = detected_peaks_mz[max_peak_idx]\n",
    "    max_peak_intensity = detected_peaks_intensities[max_peak_idx]\n",
    "    return max_peak_mz, max_peak_intensity"
   ]
  },
  {
   "cell_type": "code",
   "execution_count": 4,
   "metadata": {},
   "outputs": [],
   "source": [
    "exp = MSExperiment()\n",
    "\n",
    "MzMLFile().load(\"../../data/230928_JL_Immonium_ions_Modified_DIA.mzML\", exp)\n",
    "spectra_all = exp.getSpectra()"
   ]
  },
  {
   "cell_type": "markdown",
   "metadata": {},
   "source": [
    "## Distribution of peak intensity differences across consecutive spectra"
   ]
  },
  {
   "cell_type": "code",
   "execution_count": 5,
   "metadata": {},
   "outputs": [],
   "source": [
    "def get_peaks_differences(intensities):\n",
    "    differences = np.diff(intensities)\n",
    "    # Leave out the last element because there is no corresponding diff\n",
    "    # And only take into account peaks that are >= 10% of the mean intensity to remove noise\n",
    "    peaks_mask = (intensities >= np.mean(intensities)/10)[:-1]\n",
    "    return differences[peaks_mask]"
   ]
  },
  {
   "cell_type": "code",
   "execution_count": 39,
   "metadata": {},
   "outputs": [],
   "source": [
    "def get_peaks_differences_for_whole_experiment():\n",
    "    intensities_diffs = []\n",
    "    spectrum_idx = 1\n",
    "\n",
    "    while spectrum_idx < len(spectra_all):\n",
    "        intensities_per_ms1_spectrum = []\n",
    "        current_spectrum = spectra_all[spectrum_idx]\n",
    "\n",
    "        while current_spectrum.getMSLevel() == 2:\n",
    "            if current_spectrum.getPrecursors()[0].getMetaValue(\"collision energy\") == 50:\n",
    "                current_ms1_intensity = ion_detection(current_spectrum)[1]\n",
    "                intensities_per_ms1_spectrum.append(current_ms1_intensity)\n",
    "\n",
    "            spectrum_idx += 1\n",
    "            if spectrum_idx == len(spectra_all):\n",
    "                break\n",
    "            current_spectrum = spectra_all[spectrum_idx]\n",
    "        intensities_per_ms1_spectrum = np.array(intensities_per_ms1_spectrum)\n",
    "        if not np.all(intensities_per_ms1_spectrum == 0):\n",
    "            print(spectrum_idx)\n",
    "            intensities_diffs.append(get_peaks_differences(intensities_per_ms1_spectrum))\n",
    "        spectrum_idx += 1\n",
    "    return intensities_diffs\n"
   ]
  },
  {
   "cell_type": "code",
   "execution_count": null,
   "metadata": {},
   "outputs": [],
   "source": [
    "diffs_phospho = get_peaks_differences_for_whole_experiment()"
   ]
  },
  {
   "cell_type": "code",
   "execution_count": null,
   "metadata": {},
   "outputs": [],
   "source": [
    "plt.hist(np.abs(np.concatenate(diffs_phospho)), bins=np.logspace(start=1, stop=8))\n",
    "plt.xscale(\"log\")\n",
    "plt.xlabel(\"Absolute intensity difference\")\n",
    "plt.savefig(\"../../data/plots/ion_intensity_differences_distribution.png\", bbox_inches=\"tight\")"
   ]
  },
  {
   "cell_type": "markdown",
   "metadata": {},
   "source": [
    "## Example intensity curves along the MS2 spectra within an MS1 window"
   ]
  },
  {
   "cell_type": "code",
   "execution_count": 8,
   "metadata": {},
   "outputs": [],
   "source": [
    "def plot_phospho_ions_behaviour_for_spectrum_id_within_ms1_window(s_id_number):\n",
    "    current_ms1_intensities = []\n",
    "    previous_ms1_intensities = []\n",
    "    spectrum_idcs = []\n",
    "    \n",
    "    initial_spectrum_idx = [i[0] for i in enumerate(spectra_all) if i[1].getNativeID() == f\"controllerType=0 controllerNumber=1 scan={s_id_number}\"][0]\n",
    "    ms1_spectrum_idx = exp.getPrecursorSpectrum(initial_spectrum_idx)\n",
    "    spectrum_idx = ms1_spectrum_idx + 1\n",
    "\n",
    "    current_spectrum = spectra_all[spectrum_idx]\n",
    "    while current_spectrum.getMSLevel() == 2:\n",
    "        if current_spectrum.getPrecursors()[0].getMetaValue(\"collision energy\") == 50:\n",
    "            current_ms1_intensity = ion_detection(current_spectrum)[1]\n",
    "            previous_ms1_intensity = ion_detection(spectra_all[spectrum_idx - 73])[1]\n",
    "            current_ms1_intensities.append(current_ms1_intensity)\n",
    "            previous_ms1_intensities.append(previous_ms1_intensity)\n",
    "            spectrum_idcs.append(spectrum_idx)\n",
    "\n",
    "        spectrum_idx += 1\n",
    "        current_spectrum = spectra_all[spectrum_idx]\n",
    "\n",
    "    plt.figure(figsize=(6, 4))\n",
    "    plt.plot(spectrum_idcs, current_ms1_intensities, marker=\"o\")\n",
    "    plt.xlabel(\"Spectrum ID\")\n",
    "    plt.ylabel(\"Phospho ion intensity\")\n",
    "    plt.savefig(f\"../../data/plots/ion_intensity_over_windows_example_{s_id_number}.png\", bbox_inches=\"tight\")"
   ]
  },
  {
   "cell_type": "code",
   "execution_count": null,
   "metadata": {},
   "outputs": [],
   "source": [
    "plot_phospho_ions_behaviour_for_spectrum_id_within_ms1_window(24000)"
   ]
  },
  {
   "cell_type": "code",
   "execution_count": null,
   "metadata": {},
   "outputs": [],
   "source": [
    "plot_phospho_ions_behaviour_for_spectrum_id_within_ms1_window(73043)"
   ]
  }
 ],
 "metadata": {
  "kernelspec": {
   "display_name": "ptm-search",
   "language": "python",
   "name": "python3"
  },
  "language_info": {
   "codemirror_mode": {
    "name": "ipython",
    "version": 3
   },
   "file_extension": ".py",
   "mimetype": "text/x-python",
   "name": "python",
   "nbconvert_exporter": "python",
   "pygments_lexer": "ipython3",
   "version": "3.11.8"
  }
 },
 "nbformat": 4,
 "nbformat_minor": 2
}
