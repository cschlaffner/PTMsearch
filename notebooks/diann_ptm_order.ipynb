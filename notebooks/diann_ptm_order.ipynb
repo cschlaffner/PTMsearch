{
 "cells": [
  {
   "cell_type": "markdown",
   "metadata": {},
   "source": [
    "# DIA-NN results for different PTM orderings"
   ]
  },
  {
   "cell_type": "code",
   "execution_count": null,
   "metadata": {},
   "outputs": [],
   "source": [
    "import pandas as pd"
   ]
  },
  {
   "cell_type": "code",
   "execution_count": null,
   "metadata": {},
   "outputs": [],
   "source": [
    "order1 = pd.read_csv(\"ptm-search-data/results_thesis/dia_nn_results_filtered/report_filtered_5mods_together_all_spectra_order1.tsv\", delimiter=\"\\t\")\n",
    "order1_run2 = pd.read_csv(\"ptm-search-data/results_thesis/dia_nn_results_filtered/report_filtered_5mods_together_all_spectra_order1_run2.tsv\", delimiter=\"\\t\")\n",
    "order2 = pd.read_csv(\"ptm-search-data/results_thesis/dia_nn_results_filtered/report_filtered_5mods_together_all_spectra_order2.tsv\", delimiter=\"\\t\")"
   ]
  },
  {
   "cell_type": "code",
   "execution_count": null,
   "metadata": {},
   "outputs": [],
   "source": [
    "len(order1), len(order1_run2), len(order2)"
   ]
  },
  {
   "cell_type": "code",
   "execution_count": null,
   "metadata": {},
   "outputs": [],
   "source": [
    "order1.equals(order1_run2)"
   ]
  },
  {
   "cell_type": "code",
   "execution_count": null,
   "metadata": {},
   "outputs": [],
   "source": [
    "order1.equals(order2)"
   ]
  }
 ],
 "metadata": {
  "kernelspec": {
   "display_name": "ptm-search",
   "language": "python",
   "name": "python3"
  },
  "language_info": {
   "codemirror_mode": {
    "name": "ipython",
    "version": 3
   },
   "file_extension": ".py",
   "mimetype": "text/x-python",
   "name": "python",
   "nbconvert_exporter": "python",
   "pygments_lexer": "ipython3",
   "version": "3.11.8"
  }
 },
 "nbformat": 4,
 "nbformat_minor": 2
}
