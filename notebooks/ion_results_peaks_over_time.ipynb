{
 "cells": [
  {
   "cell_type": "markdown",
   "metadata": {},
   "source": [
    "# Immonium ion detection - ion peaks over time\n",
    "\n",
    "To count the number of immonium ions present in the data, ion intensity curves over time are summarized to count only the highest peaks."
   ]
  },
  {
   "cell_type": "code",
   "execution_count": null,
   "metadata": {},
   "outputs": [],
   "source": [
    "import pandas as pd\n",
    "from pyopenms import MzMLFile, MSExperiment\n",
    "import numpy as np\n",
    "import re\n",
    "import matplotlib.pyplot as plt"
   ]
  },
  {
   "cell_type": "code",
   "execution_count": null,
   "metadata": {},
   "outputs": [],
   "source": [
    "exp = MSExperiment()\n",
    "MzMLFile().load(\"ptm-search-data/data/230928_JL_Immonium_ions_Modified_DIA.mzML\", exp)\n",
    "spectra_all = exp.getSpectra()\n",
    "\n",
    "detections_df = pd.read_csv(\"ptm-search-data/results_thesis/workflow_test_tolerance_snr3_10ppm_all_mods_with_decoys/detected_ions.csv\")"
   ]
  },
  {
   "cell_type": "code",
   "execution_count": null,
   "metadata": {},
   "outputs": [],
   "source": [
    "def plot_ions_behaviour_for_spectrum_id_within_mz_range(s_id_number, detected_df):\n",
    "    detected_df = detected_df.set_index(\"spectrum_id\", inplace=False)\n",
    "    spectrum_idcs = []\n",
    "    detected_intensities = []\n",
    "\n",
    "    initial_spectrum_idx = [i[0] for i in enumerate(spectra_all) if i[1].getNativeID() == f\"controllerType=0 controllerNumber=1 scan={s_id_number}\"][0]\n",
    "    spectrum_idx = initial_spectrum_idx % 73\n",
    "\n",
    "    while spectrum_idx < len(spectra_all):\n",
    "        current_spectrum = spectra_all[spectrum_idx]\n",
    "        \n",
    "        spectrum_idcs.append(spectrum_idx)\n",
    "        current_id = current_spectrum.getNativeID()\n",
    "        if (detected_df.index == current_id).any():\n",
    "            detected_intensities.append(detected_df.loc[current_id][\"detected_intensity\"].max())\n",
    "        else:\n",
    "            detected_intensities.append(0)\n",
    "\n",
    "        spectrum_idx += 73\n",
    "\n",
    "    plt.figure(figsize=((16, 5)))\n",
    "    detected_intensities = np.array(detected_intensities)\n",
    "\n",
    "    if np.all(detected_intensities == 0):\n",
    "        return 0, 0\n",
    "    \n",
    "    plt.plot(spectrum_idcs, detected_intensities, label=\"Peaks before noise reduction\")\n",
    "    plt.xlabel(\"Spectrum ID\")\n",
    "    plt.ylabel(\"Ion intensity\")\n",
    "\n",
    "    num_detected = (detected_intensities != 0).sum()\n",
    "    detected_intensities[detected_intensities < np.max(detected_intensities)/8] = 0\n",
    "    plt.plot(spectrum_idcs, detected_intensities, color=\"orange\", label=\"Peaks after noise reduction\")\n",
    "    plt.legend()\n",
    "    num_detected_peaks = (detected_intensities != 0).sum()\n",
    "\n",
    "    ion_name = f\"{detected_df['letter_and_unimod_format_mod'].iloc[0]}_{detected_df['type'].iloc[0]}\"\n",
    "    plt.savefig(f\"../../data/plots/ion_detection/ions_over_time_{ion_name}_{s_id_number}.png\")\n",
    "    plt.close()\n",
    "    return num_detected, num_detected_peaks\n"
   ]
  },
  {
   "cell_type": "code",
   "execution_count": null,
   "metadata": {},
   "outputs": [],
   "source": [
    "def plot_ions_over_time(detected_df):\n",
    "    num_detected = 0\n",
    "    num_detected_peaks =0\n",
    "    for i in range(37, 73):\n",
    "        num_detected_mz_range, num_detected_peaks_mz_range = plot_ions_behaviour_for_spectrum_id_within_mz_range(i, detected_df)\n",
    "        num_detected += num_detected_mz_range\n",
    "        num_detected_peaks += num_detected_peaks_mz_range\n",
    "    plt.close()\n",
    "    return num_detected, num_detected_peaks\n"
   ]
  },
  {
   "cell_type": "code",
   "execution_count": null,
   "metadata": {},
   "outputs": [],
   "source": [
    "ions_detected_peaks = {\"ion_name\": [], \"num_ion_detected\": [], \"num_ion_detected_peaks\": []}\n",
    "for ion_name, detected_ion_df in detections_df.groupby([\"letter_and_unimod_format_mod\", \"type\"]):\n",
    "    print(\"_\".join(ion_name))\n",
    "    num_ion_detected, num_ion_detected_peaks = plot_ions_over_time(detected_ion_df)\n",
    "    ions_detected_peaks[\"ion_name\"].append(ion_name)\n",
    "    ions_detected_peaks[\"num_ion_detected\"].append(num_ion_detected)\n",
    "    ions_detected_peaks[\"num_ion_detected_peaks\"].append(num_ion_detected_peaks)\n",
    "ions_detected_peaks_df = pd.DataFrame(ions_detected_peaks)\n",
    "ions_detected_peaks_df.to_csv(f\"../../data/plots/ion_detection/ions_over_time.csv\", index=False)"
   ]
  }
 ],
 "metadata": {
  "kernelspec": {
   "display_name": "ptm-search",
   "language": "python",
   "name": "python3"
  },
  "language_info": {
   "codemirror_mode": {
    "name": "ipython",
    "version": 3
   },
   "file_extension": ".py",
   "mimetype": "text/x-python",
   "name": "python",
   "nbconvert_exporter": "python",
   "pygments_lexer": "ipython3",
   "version": "3.11.8"
  }
 },
 "nbformat": 4,
 "nbformat_minor": 2
}
