{
 "cells": [
  {
   "cell_type": "markdown",
   "metadata": {},
   "source": [
    "# Immonium ion detection\n",
    "Analysis of immonium ion detection results: Effect of parameters and collision energy, and summary of detected ions."
   ]
  },
  {
   "cell_type": "code",
   "execution_count": 1,
   "metadata": {},
   "outputs": [],
   "source": [
    "import pandas as pd\n",
    "import numpy as np\n",
    "import matplotlib.pyplot as plt"
   ]
  },
  {
   "cell_type": "code",
   "execution_count": 2,
   "metadata": {},
   "outputs": [],
   "source": [
    "def print_results(df):\n",
    "    results_df = df[[\"amino_acid\", \"mod_name\"]].groupby([\"amino_acid\"])\n",
    "    for amino_acid, sub_df in results_df:\n",
    "        print(amino_acid)\n",
    "        print(pd.unique(sub_df[\"mod_name\"]))"
   ]
  },
  {
   "cell_type": "markdown",
   "metadata": {},
   "source": [
    "## Results of parameter and collision energy effect evaluations"
   ]
  },
  {
   "cell_type": "code",
   "execution_count": 5,
   "metadata": {},
   "outputs": [],
   "source": [
    "def grouped_bar_mods(dfs_unmod, dfs_mod, xticklabels, xlabel, out_name=None, legend_loc=\"upper right\"):\n",
    "    x = np.arange(len(dfs_mod))\n",
    "    width = 0.25\n",
    "\n",
    "    fig, ax = plt.subplots(layout='constrained')\n",
    "\n",
    "    if len(dfs_unmod) > 0:\n",
    "        ax.bar_label(ax.bar(x, [len(df) for df in dfs_unmod], width, label=\"Dataset without mods\"), padding=3)\n",
    "\n",
    "    ax.bar_label(ax.bar(x + width, [len(df) for df in dfs_mod], width, label=\"Dataset with mods\"), padding=3)\n",
    "\n",
    "    ax.set_ylabel('Number of detected diagnostic ions')\n",
    "    ax.set_xlabel(xlabel)\n",
    "    ax.set_xticks(x + width/2, xticklabels)\n",
    "\n",
    "    if legend_loc is not None:\n",
    "        ax.legend(loc=legend_loc)\n",
    "\n",
    "    if out_name is not None:\n",
    "        plt.savefig(f\"../../data/plots/{out_name}.svg\", bbox_inches=\"tight\")\n",
    "    plt.show()\n"
   ]
  },
  {
   "cell_type": "code",
   "execution_count": 4,
   "metadata": {},
   "outputs": [],
   "source": [
    "def grouped_bar_mods_spectra(dfs_unmod, dfs_mod, xticklabels, xlabel, out_name=None, legend_loc=\"upper right\"):\n",
    "    x = np.arange(len(dfs_unmod))\n",
    "    width = 0.25\n",
    "\n",
    "    fig, ax = plt.subplots(layout='constrained')\n",
    "\n",
    "    ax.bar_label(ax.bar(x, [len(df[\"spectrum_id\"].unique()) for df in dfs_unmod], width, label=\"dataset without mods\"), padding=3)\n",
    "\n",
    "    ax.bar_label(ax.bar(x + width, [len(df[\"spectrum_id\"].unique()) for df in dfs_mod], width, label=\"dataset with mods\"), padding=3)\n",
    "\n",
    "    ax.set_ylabel('Number of spectra with detected diagnostic ions')\n",
    "    ax.set_xlabel(xlabel)\n",
    "    ax.set_xticks(x + width/2, xticklabels)\n",
    "    if out_name is not None:\n",
    "        plt.savefig(f\"../../data/plots/{out_name}.svg\")\n",
    "    plt.show()"
   ]
  },
  {
   "cell_type": "markdown",
   "metadata": {},
   "source": [
    "Result dataframes for different collision energies on the single-energy files"
   ]
  },
  {
   "cell_type": "code",
   "execution_count": null,
   "metadata": {},
   "outputs": [],
   "source": [
    "dfs_different_collision_energies_5ppm = [\n",
    "    pd.read_csv(\"ptm-search-data/results_thesis/detection_result_csvs/230228_Immonium_30NCE_mod.mzML_diagnostic_ions_ppm_tolerance_5_snr_threshold_3_unimod.csv\"),\n",
    "    pd.read_csv(\"ptm-search-data/results_thesis/detection_result_csvs/230228_Immonium_35NCE_mod.mzML_diagnostic_ions_ppm_tolerance_5_snr_threshold_3_unimod.csv\"),\n",
    "    pd.read_csv(\"ptm-search-data/results_thesis/detection_result_csvs/230228_Immonium_40NCE_mod.mzML_diagnostic_ions_ppm_tolerance_5_snr_threshold_3_unimod.csv\"),\n",
    "    pd.read_csv(\"ptm-search-data/results_thesis/detection_result_csvs/230228_Immonium_45NCE_mod.mzML_diagnostic_ions_ppm_tolerance_5_snr_threshold_3_unimod.csv\"),\n",
    "    pd.read_csv(\"ptm-search-data/results_thesis/detection_result_csvs/230228_Immonium_50NCE_mod.mzML_diagnostic_ions_ppm_tolerance_5_snr_threshold_3_unimod.csv\"),\n",
    "    pd.read_csv(\"ptm-search-data/results_thesis/detection_result_csvs/230228_Immonium_55NCE_mod.mzML_diagnostic_ions_ppm_tolerance_5_snr_threshold_3_unimod.csv\"),\n",
    "    pd.read_csv(\"ptm-search-data/results_thesis/detection_result_csvs/230228_Immonium_60NCE_mod.mzML_diagnostic_ions_ppm_tolerance_5_snr_threshold_3_unimod.csv\"),\n",
    "]"
   ]
  },
  {
   "cell_type": "code",
   "execution_count": null,
   "metadata": {},
   "outputs": [],
   "source": [
    "dfs_different_collision_energies = [\n",
    "    pd.read_csv(\"ptm-search-data/results_thesis/detection_result_csvs/230228_Immonium_30NCE_mod.mzML_diagnostic_ions_ppm_tolerance_10_snr_threshold_3_unimod.csv\"),\n",
    "    pd.read_csv(\"ptm-search-data/results_thesis/detection_result_csvs/230228_Immonium_35NCE_mod.mzML_diagnostic_ions_ppm_tolerance_10_snr_threshold_3_unimod.csv\"),\n",
    "    pd.read_csv(\"ptm-search-data/results_thesis/detection_result_csvs/230228_Immonium_40NCE_mod.mzML_diagnostic_ions_ppm_tolerance_10_snr_threshold_3_unimod.csv\"),\n",
    "    pd.read_csv(\"ptm-search-data/results_thesis/detection_result_csvs/230228_Immonium_45NCE_mod.mzML_diagnostic_ions_ppm_tolerance_10_snr_threshold_3_unimod.csv\"),\n",
    "    pd.read_csv(\"ptm-search-data/results_thesis/detection_result_csvs/230228_Immonium_50NCE_mod.mzML_diagnostic_ions_ppm_tolerance_10_snr_threshold_3_unimod.csv\"),\n",
    "    pd.read_csv(\"ptm-search-data/results_thesis/detection_result_csvs/230228_Immonium_55NCE_mod.mzML_diagnostic_ions_ppm_tolerance_10_snr_threshold_3_unimod.csv\"),\n",
    "    pd.read_csv(\"ptm-search-data/results_thesis/detection_result_csvs/230228_Immonium_60NCE_mod.mzML_diagnostic_ions_ppm_tolerance_10_snr_threshold_3_unimod.csv\"),\n",
    "]"
   ]
  },
  {
   "cell_type": "markdown",
   "metadata": {},
   "source": [
    "Result dataframes for different parameters on the stepped fragmentation files"
   ]
  },
  {
   "cell_type": "code",
   "execution_count": null,
   "metadata": {},
   "outputs": [],
   "source": [
    "dfs_dia_mod_10ppm_snr = [\n",
    "    pd.read_csv(\"ptm-search-data/results_thesis/detection_result_csvs/230928_JL_Immonium_ions_Modified_DIA.mzML_diagnostic_ions_ppm_tolerance_10_snr_threshold_1_unimod.csv\"),\n",
    "    pd.read_csv(\"ptm-search-data/results_thesis/detection_result_csvs/230928_JL_Immonium_ions_Modified_DIA.mzML_diagnostic_ions_ppm_tolerance_10_snr_threshold_2_unimod.csv\"),\n",
    "    pd.read_csv(\"ptm-search-data/results_thesis/detection_result_csvs/230928_JL_Immonium_ions_Modified_DIA.mzML_diagnostic_ions_ppm_tolerance_10_snr_threshold_3_unimod.csv\"),\n",
    "    pd.read_csv(\"ptm-search-data/results_thesis/detection_result_csvs/230928_JL_Immonium_ions_Modified_DIA.mzML_diagnostic_ions_ppm_tolerance_10_snr_threshold_5_unimod.csv\"),\n",
    "    pd.read_csv(\"ptm-search-data/results_thesis/detection_result_csvs/230928_JL_Immonium_ions_Modified_DIA.mzML_diagnostic_ions_ppm_tolerance_10_snr_threshold_10_unimod.csv\"),\n",
    "]"
   ]
  },
  {
   "cell_type": "code",
   "execution_count": null,
   "metadata": {},
   "outputs": [],
   "source": [
    "dfs_dia_mod_ppm = [\n",
    "    pd.read_csv(\"ptm-search-data/results_thesis/detection_result_csvs/230928_JL_Immonium_ions_Modified_DIA.mzML_diagnostic_ions_ppm_tolerance_5_snr_threshold_3_unimod.csv\"),\n",
    "    pd.read_csv(\"ptm-search-data/results_thesis/detection_result_csvs/230928_JL_Immonium_ions_Modified_DIA.mzML_diagnostic_ions_ppm_tolerance_6_snr_threshold_3_unimod.csv\"),\n",
    "    pd.read_csv(\"ptm-search-data/results_thesis/detection_result_csvs/230928_JL_Immonium_ions_Modified_DIA.mzML_diagnostic_ions_ppm_tolerance_7_snr_threshold_3_unimod.csv\"),\n",
    "    pd.read_csv(\"ptm-search-data/results_thesis/detection_result_csvs/230928_JL_Immonium_ions_Modified_DIA.mzML_diagnostic_ions_ppm_tolerance_8_snr_threshold_3_unimod.csv\"),\n",
    "    pd.read_csv(\"ptm-search-data/results_thesis/detection_result_csvs/230928_JL_Immonium_ions_Modified_DIA.mzML_diagnostic_ions_ppm_tolerance_9_snr_threshold_3_unimod.csv\"),\n",
    "    pd.read_csv(\"ptm-search-data/results_thesis/detection_result_csvs/230928_JL_Immonium_ions_Modified_DIA.mzML_diagnostic_ions_ppm_tolerance_10_snr_threshold_3_unimod.csv\"),\n",
    "]"
   ]
  },
  {
   "cell_type": "code",
   "execution_count": null,
   "metadata": {},
   "outputs": [],
   "source": [
    "dfs_dia_unmod_10ppm_snr = [\n",
    "    pd.read_csv(\"ptm-search-data/results_thesis/detection_result_csvs/230928_JL_Immonium_ions_Unmodified_DIA.mzML_diagnostic_ions_ppm_tolerance_10_snr_threshold_1_unimod.csv\"),\n",
    "    pd.read_csv(\"ptm-search-data/results_thesis/detection_result_csvs/230928_JL_Immonium_ions_Unmodified_DIA.mzML_diagnostic_ions_ppm_tolerance_10_snr_threshold_2_unimod.csv\"),\n",
    "    pd.read_csv(\"ptm-search-data/results_thesis/detection_result_csvs/230928_JL_Immonium_ions_Unmodified_DIA.mzML_diagnostic_ions_ppm_tolerance_10_snr_threshold_3_unimod.csv\"),\n",
    "    pd.read_csv(\"ptm-search-data/results_thesis/detection_result_csvs/230928_JL_Immonium_ions_Unmodified_DIA.mzML_diagnostic_ions_ppm_tolerance_10_snr_threshold_5_unimod.csv\"),\n",
    "    pd.read_csv(\"ptm-search-data/results_thesis/detection_result_csvs/230928_JL_Immonium_ions_Unmodified_DIA.mzML_diagnostic_ions_ppm_tolerance_10_snr_threshold_10_unimod.csv\"),\n",
    "]"
   ]
  },
  {
   "cell_type": "code",
   "execution_count": null,
   "metadata": {},
   "outputs": [],
   "source": [
    "dfs_dia_unmod_ppm = [\n",
    "    pd.read_csv(\"ptm-search-data/results_thesis/detection_result_csvs/230928_JL_Immonium_ions_Unmodified_DIA.mzML_diagnostic_ions_ppm_tolerance_5_snr_threshold_3_unimod.csv\"),\n",
    "    pd.read_csv(\"ptm-search-data/results_thesis/detection_result_csvs/230928_JL_Immonium_ions_Unmodified_DIA.mzML_diagnostic_ions_ppm_tolerance_6_snr_threshold_3_unimod.csv\"),\n",
    "    pd.read_csv(\"ptm-search-data/results_thesis/detection_result_csvs/230928_JL_Immonium_ions_Unmodified_DIA.mzML_diagnostic_ions_ppm_tolerance_7_snr_threshold_3_unimod.csv\"),\n",
    "    pd.read_csv(\"ptm-search-data/results_thesis/detection_result_csvs/230928_JL_Immonium_ions_Unmodified_DIA.mzML_diagnostic_ions_ppm_tolerance_8_snr_threshold_3_unimod.csv\"),\n",
    "    pd.read_csv(\"ptm-search-data/results_thesis/detection_result_csvs/230928_JL_Immonium_ions_Unmodified_DIA.mzML_diagnostic_ions_ppm_tolerance_9_snr_threshold_3_unimod.csv\"),\n",
    "    pd.read_csv(\"ptm-search-data/results_thesis/detection_result_csvs/230928_JL_Immonium_ions_Unmodified_DIA.mzML_diagnostic_ions_ppm_tolerance_10_snr_threshold_3_unimod.csv\"),\n",
    "]"
   ]
  },
  {
   "cell_type": "code",
   "execution_count": null,
   "metadata": {},
   "outputs": [],
   "source": [
    "grouped_bar_mods([], dfs_different_collision_energies_5ppm, [30, 35, 40, 45, 50, 55, 60], \"Collision energy\", out_name=\"collision_energies_5ppm\", legend_loc=None)"
   ]
  },
  {
   "cell_type": "code",
   "execution_count": null,
   "metadata": {},
   "outputs": [],
   "source": [
    "grouped_bar_mods([], dfs_different_collision_energies, [30, 35, 40, 45, 50, 55, 60], \"Collision energy\", out_name=\"collision_energies\", legend_loc=None)"
   ]
  },
  {
   "cell_type": "code",
   "execution_count": null,
   "metadata": {},
   "outputs": [],
   "source": [
    "grouped_bar_mods(dfs_dia_unmod_ppm, dfs_dia_mod_ppm, [5, 6, 7, 8, 9, 10], \"Ppm tolerance\", legend_loc=\"upper left\", out_name=\"dia_ppm tolerances\")"
   ]
  },
  {
   "cell_type": "code",
   "execution_count": null,
   "metadata": {},
   "outputs": [],
   "source": [
    "grouped_bar_mods_spectra(dfs_dia_unmod_ppm, dfs_dia_mod_ppm, [5, 6, 7, 8, 9, 10], \"Ppm tolerance\", legend_loc=\"upper left\", out_name=\"dia_ppm_tolerances_spectra\")"
   ]
  },
  {
   "cell_type": "code",
   "execution_count": null,
   "metadata": {},
   "outputs": [],
   "source": [
    "grouped_bar_mods(dfs_dia_unmod_10ppm_snr, dfs_dia_mod_10ppm_snr, [1,2,3,5,10], \"SNR threshold\", out_name=\"dia_snr_thresholds_10ppm\")"
   ]
  },
  {
   "cell_type": "code",
   "execution_count": null,
   "metadata": {},
   "outputs": [],
   "source": [
    "grouped_bar_mods_spectra(dfs_dia_unmod_10ppm_snr, dfs_dia_mod_10ppm_snr, [1,2,3,5,10], \"SNR threshold\", out_name=\"dia_snr_thresholds_10ppm_spectra\")"
   ]
  },
  {
   "cell_type": "markdown",
   "metadata": {},
   "source": [
    "## Summary of detected ions"
   ]
  },
  {
   "cell_type": "code",
   "execution_count": 14,
   "metadata": {},
   "outputs": [],
   "source": [
    "mods_df = dfs_dia_mod_ppm[-1]\n",
    "unmods_df = dfs_dia_unmod_ppm[-1]"
   ]
  },
  {
   "cell_type": "code",
   "execution_count": null,
   "metadata": {},
   "outputs": [],
   "source": [
    "mods_df_by_mod = mods_df[[\"amino_acid\", \"mod_name\", \"type\", \"theoretical_mz\", \"spectrum_id\"]].groupby([\"amino_acid\", \"mod_name\", \"type\", \"theoretical_mz\"]).count().rename(columns={\"spectrum_id\": \"count\"})\n",
    "mods_df_by_mod"
   ]
  },
  {
   "cell_type": "code",
   "execution_count": 16,
   "metadata": {},
   "outputs": [],
   "source": [
    "mods_df_by_mod.to_csv(\"../../data/plots/detection_mod.csv\")"
   ]
  },
  {
   "cell_type": "code",
   "execution_count": null,
   "metadata": {},
   "outputs": [],
   "source": [
    "fig, ax = plt.subplots(figsize=(6, 16))\n",
    "\n",
    "y_pos = np.arange(len(mods_df_by_mod))\n",
    "ax.barh(y_pos, mods_df_by_mod[\"count\"], align='center')\n",
    "ax.set_yticks([])\n",
    "ax.set_xticks(np.arange(0, 35000, 10000))\n",
    "plt.xticks(fontsize=17)\n",
    "ax.invert_yaxis() \n",
    "ax.set_xlim(0, 35000)\n",
    "ax.margins(y=0)\n",
    "ax.grid(True)\n",
    "for spine in ax.spines.values():\n",
    "    spine.set_edgecolor('grey')\n",
    "\n",
    "table = ax.table(cellText=[[str(index_field) for index_field in mod.Index] + [mod.count] for mod in mods_df_by_mod.itertuples()], loc=\"left\", colWidths=[0.07, 0.18, 0.08, 0.06, 0.04],)\n",
    "# based on https://stackoverflow.com/a/55661458\n",
    "cell_height = 1 / len(mods_df_by_mod)\n",
    "for pos, cell in table.get_celld().items():\n",
    "    cell.set_height(cell_height)\n",
    "    cell.set_edgecolor(\"gray\")\n",
    "table.scale(5, 1)\n",
    "table.set_fontsize(20)\n",
    "\n",
    "fig.savefig(\"../../data/plots/DIA_mods_10ppm_grouped_table.png\", bbox_inches=\"tight\")\n",
    "\n",
    "plt.show()"
   ]
  },
  {
   "cell_type": "code",
   "execution_count": null,
   "metadata": {},
   "outputs": [],
   "source": [
    "unmods_df_by_mod = unmods_df[[\"amino_acid\", \"mod_name\", \"type\", \"theoretical_mz\", \"spectrum_id\"]].groupby([\"amino_acid\", \"mod_name\", \"type\", \"theoretical_mz\"]).count().rename(columns={\"spectrum_id\": \"count\"})\n",
    "unmods_df_by_mod"
   ]
  },
  {
   "cell_type": "code",
   "execution_count": 14,
   "metadata": {},
   "outputs": [],
   "source": [
    "unmods_df_by_mod.to_csv(\"../../data/plots/detection_unmod.csv\")"
   ]
  },
  {
   "cell_type": "code",
   "execution_count": null,
   "metadata": {},
   "outputs": [],
   "source": [
    "fig, ax = plt.subplots(figsize=(6, 16*len(unmods_df_by_mod)/len(mods_df_by_mod)))\n",
    "\n",
    "y_pos = np.arange(len(unmods_df_by_mod))\n",
    "ax.barh(y_pos, unmods_df_by_mod[\"count\"], align='center')\n",
    "ax.set_yticks([])\n",
    "ax.set_xticks(np.arange(0, 35000, 10000))\n",
    "plt.xticks(fontsize=17)\n",
    "ax.invert_yaxis() \n",
    "ax.set_xlim(0, 35000)\n",
    "ax.grid(True)\n",
    "ax.margins(y=0)\n",
    "ax.invert_xaxis() \n",
    "for spine in ax.spines.values():\n",
    "    spine.set_edgecolor('grey')\n",
    "\n",
    "table = ax.table(cellText=[[mod.count] + [str(index_field) for index_field in mod.Index] for mod in unmods_df_by_mod.itertuples()],\n",
    "                 loc=\"right\", colWidths=[0.04, 0.07, 0.18, 0.08, 0.06])\n",
    "# based on https://stackoverflow.com/a/55661458\n",
    "cell_height = 1 / len(unmods_df_by_mod)\n",
    "for pos, cell in table.get_celld().items():\n",
    "    cell.set_height(cell_height)\n",
    "    cell.set_edgecolor(\"gray\")\n",
    "table.scale(5, 1)\n",
    "table.set_fontsize(20)\n",
    "\n",
    "fig.savefig(\"../../data/plots/DIA_unmods_10ppm_grouped_table.png\", bbox_inches=\"tight\")\n",
    "\n",
    "plt.show()"
   ]
  }
 ],
 "metadata": {
  "kernelspec": {
   "display_name": "ptm-search",
   "language": "python",
   "name": "python3"
  },
  "language_info": {
   "codemirror_mode": {
    "name": "ipython",
    "version": 3
   },
   "file_extension": ".py",
   "mimetype": "text/x-python",
   "name": "python",
   "nbconvert_exporter": "python",
   "pygments_lexer": "ipython3",
   "version": "3.11.8"
  }
 },
 "nbformat": 4,
 "nbformat_minor": 2
}
