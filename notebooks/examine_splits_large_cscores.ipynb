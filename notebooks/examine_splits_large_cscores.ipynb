{
 "cells": [
  {
   "cell_type": "markdown",
   "metadata": {},
   "source": [
    "# Splits with large c-scores\n",
    "For the run with automatic PTM selection with minimum number of windows threshold of 500: how many precursors (targets and decoys) with a c-score > 1 are contained in each split."
   ]
  },
  {
   "cell_type": "code",
   "execution_count": null,
   "metadata": {},
   "outputs": [],
   "source": [
    "import pandas as pd\n",
    "import glob"
   ]
  },
  {
   "cell_type": "code",
   "execution_count": 7,
   "metadata": {},
   "outputs": [],
   "source": [
    "def fix_decoy_report(df):\n",
    "    df.loc[:, \"Q.Value\"] = pd.to_numeric(df[\"Precursor.Id\"])\n",
    "    df.loc[:, \"Precursor.Id\"] = df[\"Modified.Sequence\"]\n",
    "    df.loc[:, \"CScore\"] = df[\"RT.Start\"]"
   ]
  },
  {
   "cell_type": "code",
   "execution_count": 8,
   "metadata": {},
   "outputs": [],
   "source": [
    "def get_targets_decoys(result_file):\n",
    "    df_all_spectra = pd.read_csv(result_file, delimiter=\"\\t\")\n",
    "\n",
    "    # to account for mismatching columns in result tsv for decoys\n",
    "    df_all_spectra_decoys = df_all_spectra[df_all_spectra[\"Q.Value\"].isna()]\n",
    "    fix_decoy_report(df_all_spectra_decoys)\n",
    "    \n",
    "    df_all_spectra_targets = df_all_spectra[~df_all_spectra[\"Q.Value\"].isna()]\n",
    "\n",
    "    return pd.concat([df_all_spectra_targets, df_all_spectra_decoys])"
   ]
  },
  {
   "cell_type": "code",
   "execution_count": 10,
   "metadata": {},
   "outputs": [
    {
     "name": "stderr",
     "output_type": "stream",
     "text": [
      "/tmp/ipykernel_4062243/3086026131.py:2: DtypeWarning: Columns (5,14,15,49,50,51) have mixed types. Specify dtype option on import or set low_memory=False.\n",
      "  df_all_spectra = pd.read_csv(result_file, delimiter=\"\\t\")\n"
     ]
    },
    {
     "name": "stdout",
     "output_type": "stream",
     "text": [
      "../../workflow_test_tolerance_snr3_10ppm_automatic_mod_selection_limit_500/report_K(UniMod:518).tsv\n",
      "5\n"
     ]
    },
    {
     "name": "stderr",
     "output_type": "stream",
     "text": [
      "/tmp/ipykernel_4062243/3086026131.py:2: DtypeWarning: Columns (5,14,15,49,50,51) have mixed types. Specify dtype option on import or set low_memory=False.\n",
      "  df_all_spectra = pd.read_csv(result_file, delimiter=\"\\t\")\n"
     ]
    },
    {
     "name": "stdout",
     "output_type": "stream",
     "text": [
      "../../workflow_test_tolerance_snr3_10ppm_automatic_mod_selection_limit_500/report_P(UniMod:35).tsv\n",
      "0\n",
      "../../workflow_test_tolerance_snr3_10ppm_automatic_mod_selection_limit_500/report_K(UniMod:1)_K(UniMod:122)_K(UniMod:747)_Y(UniMod:21).tsv\n",
      "0\n"
     ]
    },
    {
     "name": "stderr",
     "output_type": "stream",
     "text": [
      "/tmp/ipykernel_4062243/3086026131.py:2: DtypeWarning: Columns (5,14,15,49,50,51) have mixed types. Specify dtype option on import or set low_memory=False.\n",
      "  df_all_spectra = pd.read_csv(result_file, delimiter=\"\\t\")\n"
     ]
    },
    {
     "name": "stdout",
     "output_type": "stream",
     "text": [
      "../../workflow_test_tolerance_snr3_10ppm_automatic_mod_selection_limit_500/report_H(UniMod:4).tsv\n",
      "47172\n"
     ]
    },
    {
     "name": "stderr",
     "output_type": "stream",
     "text": [
      "/tmp/ipykernel_4062243/3086026131.py:2: DtypeWarning: Columns (5,11,12,14,15,49,50,51) have mixed types. Specify dtype option on import or set low_memory=False.\n",
      "  df_all_spectra = pd.read_csv(result_file, delimiter=\"\\t\")\n"
     ]
    },
    {
     "name": "stdout",
     "output_type": "stream",
     "text": [
      "../../workflow_test_tolerance_snr3_10ppm_automatic_mod_selection_limit_500/report_K(UniMod:1)_K(UniMod:122)_K(UniMod:747).tsv\n",
      "259676\n",
      "../../workflow_test_tolerance_snr3_10ppm_automatic_mod_selection_limit_500/report_Y(UniMod:21).tsv\n",
      "0\n",
      "../../workflow_test_tolerance_snr3_10ppm_automatic_mod_selection_limit_500/report_K(UniMod:4).tsv\n",
      "0\n",
      "../../workflow_test_tolerance_snr3_10ppm_automatic_mod_selection_limit_500/report_K(UniMod:1)_K(UniMod:747)_Y(UniMod:21).tsv\n",
      "0\n"
     ]
    },
    {
     "name": "stderr",
     "output_type": "stream",
     "text": [
      "/tmp/ipykernel_4062243/3086026131.py:2: DtypeWarning: Columns (5,11,12,14,15,49,50,51) have mixed types. Specify dtype option on import or set low_memory=False.\n",
      "  df_all_spectra = pd.read_csv(result_file, delimiter=\"\\t\")\n"
     ]
    },
    {
     "name": "stdout",
     "output_type": "stream",
     "text": [
      "../../workflow_test_tolerance_snr3_10ppm_automatic_mod_selection_limit_500/report_K(UniMod:3).tsv\n",
      "0\n",
      "../../workflow_test_tolerance_snr3_10ppm_automatic_mod_selection_limit_500/report_K(UniMod:1).tsv\n",
      "0\n",
      "../../workflow_test_tolerance_snr3_10ppm_automatic_mod_selection_limit_500/report_K(UniMod:1)_K(UniMod:122)_K(UniMod:4)_K(UniMod:747)_Y(UniMod:21).tsv\n",
      "0\n",
      "../../workflow_test_tolerance_snr3_10ppm_automatic_mod_selection_limit_500/report_K(UniMod:34).tsv\n",
      "0\n",
      "../../workflow_test_tolerance_snr3_10ppm_automatic_mod_selection_limit_500/report_K(UniMod:122).tsv\n",
      "0\n"
     ]
    },
    {
     "name": "stderr",
     "output_type": "stream",
     "text": [
      "/tmp/ipykernel_4062243/3086026131.py:2: DtypeWarning: Columns (5,14,15,49,50,51) have mixed types. Specify dtype option on import or set low_memory=False.\n",
      "  df_all_spectra = pd.read_csv(result_file, delimiter=\"\\t\")\n"
     ]
    },
    {
     "name": "stdout",
     "output_type": "stream",
     "text": [
      "../../workflow_test_tolerance_snr3_10ppm_automatic_mod_selection_limit_500/report_C(UniMod:4).tsv\n",
      "37\n"
     ]
    },
    {
     "name": "stderr",
     "output_type": "stream",
     "text": [
      "/tmp/ipykernel_4062243/3086026131.py:2: DtypeWarning: Columns (5,14,15,49,50,51) have mixed types. Specify dtype option on import or set low_memory=False.\n",
      "  df_all_spectra = pd.read_csv(result_file, delimiter=\"\\t\")\n"
     ]
    },
    {
     "name": "stdout",
     "output_type": "stream",
     "text": [
      "../../workflow_test_tolerance_snr3_10ppm_automatic_mod_selection_limit_500/report_W(UniMod:34).tsv\n",
      "3\n",
      "../../workflow_test_tolerance_snr3_10ppm_automatic_mod_selection_limit_500/report_K(UniMod:1)_K(UniMod:747).tsv\n",
      "0\n",
      "../../workflow_test_tolerance_snr3_10ppm_automatic_mod_selection_limit_500/report_Y(UniMod:354).tsv\n",
      "0\n",
      "../../workflow_test_tolerance_snr3_10ppm_automatic_mod_selection_limit_500/report_R(UniMod:7).tsv\n",
      "23598\n",
      "../../workflow_test_tolerance_snr3_10ppm_automatic_mod_selection_limit_500/report_K(UniMod:747).tsv\n",
      "0\n"
     ]
    },
    {
     "name": "stderr",
     "output_type": "stream",
     "text": [
      "/tmp/ipykernel_4062243/3086026131.py:2: DtypeWarning: Columns (5,14,15,49,50,51) have mixed types. Specify dtype option on import or set low_memory=False.\n",
      "  df_all_spectra = pd.read_csv(result_file, delimiter=\"\\t\")\n"
     ]
    }
   ],
   "source": [
    "for report_path in glob.glob(\"../../workflow_test_tolerance_snr3_10ppm_automatic_mod_selection_limit_500/report*).tsv\"):\n",
    "    df = get_targets_decoys(report_path)\n",
    "    print(report_path)\n",
    "    print((df[\"CScore\"] > 1).sum())"
   ]
  }
 ],
 "metadata": {
  "kernelspec": {
   "display_name": "ptm-search",
   "language": "python",
   "name": "python3"
  },
  "language_info": {
   "codemirror_mode": {
    "name": "ipython",
    "version": 3
   },
   "file_extension": ".py",
   "mimetype": "text/x-python",
   "name": "python",
   "nbconvert_exporter": "python",
   "pygments_lexer": "ipython3",
   "version": "3.11.8"
  }
 },
 "nbformat": 4,
 "nbformat_minor": 2
}
