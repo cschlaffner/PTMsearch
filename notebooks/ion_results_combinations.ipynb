{
 "cells": [
  {
   "cell_type": "markdown",
   "metadata": {},
   "source": [
    "# Immonium ion detection - PTM combinations\n",
    "Evaluation regarding immonium ions of different PTMs occurring together in an immonium ion MS2 window."
   ]
  },
  {
   "cell_type": "code",
   "execution_count": 2,
   "metadata": {},
   "outputs": [],
   "source": [
    "import pandas as pd\n",
    "import numpy as np\n",
    "import matplotlib.pyplot as plt\n",
    "from matplotlib import cm\n",
    "import networkx as nx"
   ]
  },
  {
   "cell_type": "code",
   "execution_count": 3,
   "metadata": {},
   "outputs": [],
   "source": [
    "mods_abbrev_dict = {\n",
    "    \"Lysine,Acetyl\": \"K-acetyl\",\n",
    "    \"Lysine,Formyl\": \"K-formyl\",\n",
    "    \"Lysine,Biotin\": \"K-biotin\",\n",
    "    \"Lysine,Methyl\": \"K-methyl\",\n",
    "    \"Lysine,Carbamidomethyl\": \"K-carbami\",\n",
    "    \"Lysine,Malonyl\": \"K-malonyl\",\n",
    "    \"Lysine,Diethyl\": \"K-diethyl\",\n",
    "    \"Lysine,Dimethyl\": \"K-dimethyl\",\n",
    "    \"Proline,Oxidation\": \"P-oxid\",\n",
    "    \"Tyrosine,Nitro\": \"Y-nitro\",\n",
    "    \"Tyrosine,Phospho\": \"Y-phospho\",\n",
    "    \"Arginine,Deamidated\": \"R-deamid\",\n",
    "    \"Cysteine,Carbamidomethyl\": \"C-carbami\",\n",
    "    \"Histidine,Carbamidomethyl\": \"H-carbami\",\n",
    "    \"Tryptophan,Methyl\": \"W-methyl\"   \n",
    "}"
   ]
  },
  {
   "cell_type": "code",
   "execution_count": null,
   "metadata": {},
   "outputs": [],
   "source": [
    "mods_df = pd.read_csv(\"../../data/result_csvs/230928_JL_Immonium_ions_Modified_DIA.mzML_diagnostic_ions_ppm_tolerance_10_snr_threshold_3_unimod.csv\")"
   ]
  },
  {
   "cell_type": "code",
   "execution_count": 11,
   "metadata": {},
   "outputs": [],
   "source": [
    "def get_mods_df_by_scan_window(result_df):\n",
    "    mods_df = result_df[[\"spectrum_id\", \"amino_acid\", \"mod_name\"]].drop_duplicates()\n",
    "    return mods_df.groupby(\"spectrum_id\")"
   ]
  },
  {
   "cell_type": "code",
   "execution_count": 6,
   "metadata": {},
   "outputs": [],
   "source": [
    "def get_mods_combinations_with_counts(\n",
    "    detected_ions_df: pd.DataFrame, return_unimod=False\n",
    "):\n",
    "    mod_columns = (\n",
    "        [\"letter_and_unimod_format_mod\"]\n",
    "        if return_unimod\n",
    "        else [\"amino_acid\", \"mod_name\"]\n",
    "    )\n",
    "    detected_ions_df_by_window = (\n",
    "        detected_ions_df[[\"spectrum_id\"] + mod_columns]\n",
    "        .drop_duplicates()\n",
    "        .groupby(\"spectrum_id\")\n",
    "    )\n",
    "\n",
    "    mods = []\n",
    "    for _, group in detected_ions_df_by_window:\n",
    "        mods.append(\n",
    "            [\",\".join(mod) for mod in (group[mod_columns].drop_duplicates().to_numpy())]\n",
    "        )\n",
    "\n",
    "    return np.unique(np.array(mods, dtype=\"object\"), return_counts=True)"
   ]
  },
  {
   "cell_type": "code",
   "execution_count": 7,
   "metadata": {},
   "outputs": [],
   "source": [
    "def get_mods_combinations_with_counts_subset(result_df, wanted_mods):\n",
    "    mods_df_by_scan_window = get_mods_df_by_scan_window(result_df)\n",
    "\n",
    "    mods = []\n",
    "    for name, group in mods_df_by_scan_window:\n",
    "        mods_in_group = [\",\".join(mod) for mod in group[[\"amino_acid\", \"mod_name\"]].drop_duplicates().to_numpy() if \",\".join(mod) in wanted_mods]\n",
    "        if len(mods_in_group) > 0:\n",
    "            mods.append(mods_in_group)\n",
    "\n",
    "    return np.unique(np.array(mods, dtype='object'), return_counts=True)"
   ]
  },
  {
   "cell_type": "code",
   "execution_count": 8,
   "metadata": {},
   "outputs": [],
   "source": [
    "def get_num_mods_per_scan_window(result_df):\n",
    "    return get_mods_df_by_scan_window(result_df).count().rename(columns={\"amino_acid\": \"count\"})[\"count\"]\n",
    "    "
   ]
  },
  {
   "cell_type": "code",
   "execution_count": 9,
   "metadata": {},
   "outputs": [],
   "source": [
    "def get_windows_single_multiple_mods(result_df):\n",
    "    num_mods_df_by_scan_window = get_num_mods_per_scan_window(result_df)\n",
    "    windows_multiple_mods = num_mods_df_by_scan_window[num_mods_df_by_scan_window != 1]\n",
    "    windows_single_mods = num_mods_df_by_scan_window[num_mods_df_by_scan_window == 1]\n",
    "    return windows_single_mods, windows_multiple_mods"
   ]
  },
  {
   "cell_type": "code",
   "execution_count": null,
   "metadata": {},
   "outputs": [],
   "source": [
    "len(get_mods_df_by_scan_window(mods_df))"
   ]
  },
  {
   "cell_type": "code",
   "execution_count": 13,
   "metadata": {},
   "outputs": [],
   "source": [
    "# All detected combinations and counts for all detected immonium ions\n",
    "all_mod_combinations, combination_counts = get_mods_combinations_with_counts(mods_df, return_unimod=False)"
   ]
  },
  {
   "cell_type": "code",
   "execution_count": null,
   "metadata": {},
   "outputs": [],
   "source": [
    "all_mod_combinations"
   ]
  },
  {
   "cell_type": "code",
   "execution_count": 14,
   "metadata": {},
   "outputs": [],
   "source": [
    "# Combinations and counts only considering immonium ions of those 8 PTMs\n",
    "all_mod_combinations_wanted, combination_counts_wanted = get_mods_combinations_with_counts_subset(\n",
    "    mods_df, ['Lysine,Acetyl', 'Lysine,Biotin', 'Lysine,Dimethyl', 'Lysine,Methyl', \n",
    "              'Lysine,Trimethyl', 'Proline,Oxidation', 'Tyrosine,Nitro', 'Tyrosine,Phospho'])"
   ]
  },
  {
   "cell_type": "code",
   "execution_count": null,
   "metadata": {},
   "outputs": [],
   "source": [
    "all_mod_combinations_wanted"
   ]
  },
  {
   "cell_type": "code",
   "execution_count": 52,
   "metadata": {},
   "outputs": [],
   "source": [
    "def plot_combination_counts(combinations, counts, fig_name=None, plot_fractions=None, topk=None, figsize=(5, 15), xlim=None, line_label_pos_fraction = 3):\n",
    "    count_sort = np.argsort(counts)\n",
    "    all_mod_combinations_sorted = combinations[count_sort]\n",
    "    combination_counts_sorted = counts[count_sort]\n",
    "    total_count = combination_counts_sorted.sum()\n",
    "\n",
    "    if topk is not None:\n",
    "        all_mod_combinations_sorted = all_mod_combinations_sorted[-topk:]\n",
    "        combination_counts_sorted = combination_counts_sorted[-topk:]\n",
    "\n",
    "    fig, ax = plt.subplots(figsize=figsize)\n",
    "    combination_names = [(r\" $\\bf{|}$ \").join([mods_abbrev_dict[mod] for mod in combination]) for combination in all_mod_combinations_sorted]\n",
    "    num_combinations = len(combination_names)\n",
    "    ax.bar_label(ax.barh(range(num_combinations), combination_counts_sorted), padding=3)\n",
    "    ax.set_yticks(range(num_combinations), labels=combination_names)\n",
    "    ax.set_ylim(-1, len(combination_names))\n",
    "    ax.set_xlabel(\"Number of windows\")\n",
    "    if xlim is not None:\n",
    "        ax.set_xlim(xlim)\n",
    "    ax.invert_yaxis()\n",
    "\n",
    "    if plot_fractions is not None:\n",
    "        combination_counts_sorted_reverse = combination_counts_sorted[::-1]\n",
    "        max_count = combination_counts_sorted_reverse.max()\n",
    "        color_map = cm.get_cmap(\"Dark2\")\n",
    "\n",
    "        for j, fraction in enumerate(plot_fractions):\n",
    "            total_count_fraction = total_count * fraction\n",
    "            print(total_count)\n",
    "            print(total_count_fraction)\n",
    "            total_count_current = 0\n",
    "\n",
    "            for i, count in enumerate(combination_counts_sorted_reverse):\n",
    "                total_count_current += count\n",
    "                if total_count_current >= total_count_fraction:\n",
    "                    print(i, count)\n",
    "                    ax.axhline(num_combinations - (i + 1.5), label=fraction, color=color_map(j))\n",
    "                    ax.text(max_count/line_label_pos_fraction,num_combinations - (i + 1.75), f\"Count percentile\\n   >= {fraction}\", color=color_map(j))\n",
    "                    break    \n",
    "\n",
    "    if fig_name is not None:\n",
    "        plt.savefig(f\"../../data/plots/{fig_name}\", bbox_inches=\"tight\")"
   ]
  },
  {
   "cell_type": "code",
   "execution_count": null,
   "metadata": {},
   "outputs": [],
   "source": [
    "plot_combination_counts(all_mod_combinations, combination_counts, fig_name=\"num_combinations_sorted_snr3_10ppm_top50.svg\", plot_fractions=[0.8, 0.9, 0.95], topk=50, figsize=(2, 15), xlim=(0, 7000))"
   ]
  },
  {
   "cell_type": "code",
   "execution_count": null,
   "metadata": {},
   "outputs": [],
   "source": [
    "plot_combination_counts(all_mod_combinations_wanted, combination_counts_wanted, plot_fractions=[0.8, 0.9, 0.95], line_label_pos_fraction =2, figsize=(3, 15), xlim=(0, 9000), fig_name=\"num_combinations_sorted_snr3_10ppm_wanted_combinations.svg\")"
   ]
  },
  {
   "cell_type": "code",
   "execution_count": null,
   "metadata": {},
   "outputs": [],
   "source": [
    "# Counts for immonium ions of the 8 PTMs occurring alone in a spectrum\n",
    "single_mod_combinations_idcs = [(idx, comb) for idx, comb in enumerate(all_mod_combinations_wanted) if len(comb) == 1]\n",
    "single_mod_combinations = np.array([comb for idx, comb in single_mod_combinations_idcs])\n",
    "single_mod_counts = np.array(combination_counts_wanted[[idx for idx, _ in single_mod_combinations_idcs]])\n",
    "single_mod_counts.sum(), combination_counts_wanted.sum()"
   ]
  },
  {
   "cell_type": "code",
   "execution_count": null,
   "metadata": {},
   "outputs": [],
   "source": [
    "single_mod_combinations"
   ]
  },
  {
   "cell_type": "code",
   "execution_count": null,
   "metadata": {},
   "outputs": [],
   "source": [
    "plot_combination_counts(single_mod_combinations, single_mod_counts, fig_name=\"num_combinations_sorted_snr3_10ppm_wanted_single.svg\", figsize=(7, 4), xlim=(0, 6700))"
   ]
  }
 ],
 "metadata": {
  "kernelspec": {
   "display_name": "ptm-search",
   "language": "python",
   "name": "python3"
  },
  "language_info": {
   "codemirror_mode": {
    "name": "ipython",
    "version": 3
   },
   "file_extension": ".py",
   "mimetype": "text/x-python",
   "name": "python",
   "nbconvert_exporter": "python",
   "pygments_lexer": "ipython3",
   "version": "3.11.8"
  }
 },
 "nbformat": 4,
 "nbformat_minor": 2
}
