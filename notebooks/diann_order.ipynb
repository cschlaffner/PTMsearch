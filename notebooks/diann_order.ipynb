{
 "cells": [
  {
   "cell_type": "code",
   "execution_count": 3,
   "metadata": {},
   "outputs": [],
   "source": [
    "import numpy as np\n",
    "import pandas as pd"
   ]
  },
  {
   "cell_type": "code",
   "execution_count": 2,
   "metadata": {},
   "outputs": [
    {
     "name": "stderr",
     "output_type": "stream",
     "text": [
      "/tmp/ipykernel_135535/3116618485.py:1: DtypeWarning: Columns (5,11,12,14,15,38,50,51,52) have mixed types. Specify dtype option on import or set low_memory=False.\n",
      "  order1 = pd.read_csv(\"../../data/diann_results/dia_nn_results_filtered/report_filtered_5mods_together_all_spectra_order1.tsv\", delimiter=\"\\t\")\n",
      "/tmp/ipykernel_135535/3116618485.py:2: DtypeWarning: Columns (5,11,12,14,15,38,50,51,52) have mixed types. Specify dtype option on import or set low_memory=False.\n",
      "  order1_run2 = pd.read_csv(\"../../data/diann_results/dia_nn_results_filtered/report_filtered_5mods_together_all_spectra_order1_run2.tsv\", delimiter=\"\\t\")\n",
      "/tmp/ipykernel_135535/3116618485.py:3: DtypeWarning: Columns (5,11,12,14,15,38,50,51,52) have mixed types. Specify dtype option on import or set low_memory=False.\n",
      "  order2 = pd.read_csv(\"../../data/diann_results/dia_nn_results_filtered/report_filtered_5mods_together_all_spectra_order2.tsv\", delimiter=\"\\t\")\n"
     ]
    }
   ],
   "source": [
    "order1 = pd.read_csv(\"../../data/diann_results/dia_nn_results_filtered/report_filtered_5mods_together_all_spectra_order1.tsv\", delimiter=\"\\t\")\n",
    "order1_run2 = pd.read_csv(\"../../data/diann_results/dia_nn_results_filtered/report_filtered_5mods_together_all_spectra_order1_run2.tsv\", delimiter=\"\\t\")\n",
    "order2 = pd.read_csv(\"../../data/diann_results/dia_nn_results_filtered/report_filtered_5mods_together_all_spectra_order2.tsv\", delimiter=\"\\t\")"
   ]
  },
  {
   "cell_type": "code",
   "execution_count": 4,
   "metadata": {},
   "outputs": [
    {
     "data": {
      "text/plain": [
       "(69998, 69998, 90615)"
      ]
     },
     "execution_count": 4,
     "metadata": {},
     "output_type": "execute_result"
    }
   ],
   "source": [
    "len(order1), len(order1_run2), len(order2)"
   ]
  },
  {
   "cell_type": "code",
   "execution_count": 8,
   "metadata": {},
   "outputs": [
    {
     "data": {
      "text/plain": [
       "True"
      ]
     },
     "execution_count": 8,
     "metadata": {},
     "output_type": "execute_result"
    }
   ],
   "source": [
    "order1.equals(order1_run2)"
   ]
  },
  {
   "cell_type": "code",
   "execution_count": 9,
   "metadata": {},
   "outputs": [
    {
     "data": {
      "text/plain": [
       "False"
      ]
     },
     "execution_count": 9,
     "metadata": {},
     "output_type": "execute_result"
    }
   ],
   "source": [
    "order1.equals(order2)"
   ]
  }
 ],
 "metadata": {
  "kernelspec": {
   "display_name": "ptm-search",
   "language": "python",
   "name": "python3"
  },
  "language_info": {
   "codemirror_mode": {
    "name": "ipython",
    "version": 3
   },
   "file_extension": ".py",
   "mimetype": "text/x-python",
   "name": "python",
   "nbconvert_exporter": "python",
   "pygments_lexer": "ipython3",
   "version": "3.11.8"
  }
 },
 "nbformat": 4,
 "nbformat_minor": 2
}
