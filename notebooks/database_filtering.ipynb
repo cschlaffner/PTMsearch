{
 "cells": [
  {
   "cell_type": "markdown",
   "metadata": {},
   "source": [
    "# Database filtering\n",
    "Filtering of the database to only keep proteins for which precursors were identified during a DIA-NN search."
   ]
  },
  {
   "cell_type": "code",
   "execution_count": null,
   "metadata": {},
   "outputs": [],
   "source": [
    "import pandas as pd\n",
    "from pyopenms import FASTAFile\n",
    "import numpy as np"
   ]
  },
  {
   "cell_type": "code",
   "execution_count": null,
   "metadata": {},
   "outputs": [],
   "source": [
    "diann_result_df = pd.read_csv(\"ptm-search-data/results_thesis/dia_nn_results_sl_whole_database/report_whole_database_with_lib_gen_file_unmodifiedDIA_pglevel2_mzlimits_with_synthetic.tsv\", delimiter=\"\\t\")\n",
    "diann_result_df"
   ]
  },
  {
   "cell_type": "code",
   "execution_count": 16,
   "metadata": {},
   "outputs": [],
   "source": [
    "detected_proteins = diann_result_df[diann_result_df[\"Protein.Q.Value\"] < 0.01]"
   ]
  },
  {
   "cell_type": "code",
   "execution_count": 17,
   "metadata": {},
   "outputs": [],
   "source": [
    "detected_proteins_names = np.unique(np.concatenate([names.split(\";\") for names in detected_proteins[\"Protein.Ids\"].unique()]))"
   ]
  },
  {
   "cell_type": "code",
   "execution_count": null,
   "metadata": {},
   "outputs": [],
   "source": [
    "len(detected_proteins_names)"
   ]
  },
  {
   "cell_type": "code",
   "execution_count": null,
   "metadata": {},
   "outputs": [],
   "source": [
    "database_entries = []\n",
    "f = FASTAFile()\n",
    "f.load(\"ptm-search-data/data/database_for_diann/uniprotkb_AND_reviewed_true_AND_model_o_2024_07_16_with_crap_and_synthetic.fasta\", database_entries)"
   ]
  },
  {
   "cell_type": "code",
   "execution_count": null,
   "metadata": {},
   "outputs": [],
   "source": [
    "len(database_entries)"
   ]
  },
  {
   "cell_type": "code",
   "execution_count": 21,
   "metadata": {},
   "outputs": [],
   "source": [
    "detected_database_entries = []\n",
    "\n",
    "for protein in database_entries:\n",
    "    db_protein_name = protein.identifier.split(\"|\")[1]\n",
    "    if db_protein_name in detected_proteins_names:\n",
    "        detected_database_entries.append(protein)\n",
    "   "
   ]
  },
  {
   "cell_type": "code",
   "execution_count": null,
   "metadata": {},
   "outputs": [],
   "source": [
    "[entry.identifier for entry in detected_database_entries]"
   ]
  },
  {
   "cell_type": "code",
   "execution_count": null,
   "metadata": {},
   "outputs": [],
   "source": [
    "len(detected_database_entries)"
   ]
  },
  {
   "cell_type": "code",
   "execution_count": null,
   "metadata": {},
   "outputs": [],
   "source": [
    "filtered_f = FASTAFile()\n",
    "filtered_f.store(\"ptm-search-data/data/database_for_diann/uniprotkb_AND_reviewed_true_AND_model_o_2024_07_16_with_crap_and_synthetic_filtered.fasta\", detected_database_entries)"
   ]
  }
 ],
 "metadata": {
  "kernelspec": {
   "display_name": "ptm-search",
   "language": "python",
   "name": "python3"
  },
  "language_info": {
   "codemirror_mode": {
    "name": "ipython",
    "version": 3
   },
   "file_extension": ".py",
   "mimetype": "text/x-python",
   "name": "python",
   "nbconvert_exporter": "python",
   "pygments_lexer": "ipython3",
   "version": "3.11.8"
  }
 },
 "nbformat": 4,
 "nbformat_minor": 2
}
