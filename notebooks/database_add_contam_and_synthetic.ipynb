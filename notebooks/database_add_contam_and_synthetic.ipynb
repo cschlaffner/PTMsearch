{
 "cells": [
  {
   "cell_type": "code",
   "execution_count": 1,
   "metadata": {},
   "outputs": [],
   "source": [
    "from pyopenms import FASTAFile"
   ]
  },
  {
   "cell_type": "code",
   "execution_count": 3,
   "metadata": {},
   "outputs": [],
   "source": [
    "database_entries = []\n",
    "f = FASTAFile()\n",
    "f.load(\"../data/databases/uniprotkb_AND_reviewed_true_AND_model_o_2024_07_16.fasta\", database_entries)"
   ]
  },
  {
   "cell_type": "code",
   "execution_count": 2,
   "metadata": {},
   "outputs": [],
   "source": [
    "crap_entries = []\n",
    "f_crap = FASTAFile()\n",
    "f_crap.load(\"../data/databases/crap_remap.fasta\", crap_entries)"
   ]
  },
  {
   "cell_type": "code",
   "execution_count": 8,
   "metadata": {},
   "outputs": [],
   "source": [
    "synthetic_entries = []\n",
    "f_synthetic = FASTAFile()\n",
    "f_synthetic.load(\"../data/databases/sequences_synthetic.fasta\", synthetic_entries)"
   ]
  },
  {
   "cell_type": "code",
   "execution_count": 5,
   "metadata": {},
   "outputs": [],
   "source": [
    "for protein in crap_entries:\n",
    "    identifier_parts = protein.identifier.split(\"|\")\n",
    "    identifier_contam = \"|\".join([identifier_parts[0], \"CON_\" + identifier_parts[1], \"CON_\" +identifier_parts[2]])\n",
    "    protein.identifier = identifier_contam"
   ]
  },
  {
   "cell_type": "code",
   "execution_count": 9,
   "metadata": {},
   "outputs": [],
   "source": [
    "f_combined = FASTAFile()\n",
    "f_combined.store(\"../data/databases/uniprotkb_AND_reviewed_true_AND_model_o_2024_07_16_with_crap_and_synthetic.fasta\", database_entries + crap_entries + synthetic_entries)"
   ]
  }
 ],
 "metadata": {
  "kernelspec": {
   "display_name": "ptm-search",
   "language": "python",
   "name": "python3"
  },
  "language_info": {
   "codemirror_mode": {
    "name": "ipython",
    "version": 3
   },
   "file_extension": ".py",
   "mimetype": "text/x-python",
   "name": "python",
   "nbconvert_exporter": "python",
   "pygments_lexer": "ipython3",
   "version": "3.11.8"
  }
 },
 "nbformat": 4,
 "nbformat_minor": 2
}
